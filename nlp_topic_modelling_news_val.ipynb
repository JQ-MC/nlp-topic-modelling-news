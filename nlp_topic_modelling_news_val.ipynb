{
 "cells": [
  {
   "cell_type": "markdown",
   "metadata": {
    "id": "u2wp1YZYLpe0"
   },
   "source": [
    "\n",
    "<br><br>\n",
    "<div align=\"center\"> <font size=\"+3\" color='#0f6dff'> <b>Anàlisi de temàtiques de notícies - Processament del Llenguatge Natural</b> </font> </div>\n",
    "\n",
    "<br>\n",
    "\n",
    "<div align=\"center\"> <font size=\"+2\" color='#5296ff'> <b> Joaquim Morera i Català - Aarón W. Montiel Nicholas </b> </font> </div>\n",
    "\n",
    "   \n",
    "<br>\n",
    "\n",
    "# Taula de Continguts\n",
    "\n",
    "* [1. Introducció](#intro)\n",
    "\n",
    "\n",
    "* [2. Llibreries](#llibreries)\n",
    "\n",
    "\n",
    "* [3. Anàlisi de les dades](#analisi_dades)\n",
    "\n",
    "    * [3.1 Lectura de les dades](#lectura_dades)\n",
    "    \n",
    "    * [3.2 Anàlisi de les variables](#analisis_variables)\n",
    "    \n",
    "        * [3.2.1 URLS](#urls)\n",
    "        \n",
    "        * [3.2.2 Temps](#temps)\n",
    "        \n",
    "        * [3.2.3 Text](#text)\n",
    "        \n",
    "            * [3.2.3.1 Web Scrapping](#web)\n",
    "            \n",
    "    * [3.3 Enllestiment de les dades](#enllestiment)\n",
    "    \n",
    "    \n",
    "* [4. Preprocessament del text ](#preprocessament)\n",
    "\n",
    "    * [4.1 Per a keyword extraction](#keyword)\n",
    "    \n",
    "    * [4.2 Per al Topic Modeling](#topic)\n",
    "    \n",
    "    \n",
    "* [5. Extracció de Característiques](#extracció)\n",
    "\n",
    "    * [5.1 Evolució de les Keywords més importants](#evolucio_keyword) \n",
    "    \n",
    "    * [5.2 Topic Modeling amb LDA](#topic_lda)\n",
    "        \n",
    "        * [5.2.1  Visualització del model LDA](#visualitzacio)\n",
    "\n",
    "        * [5.2.2   Pertinença de cada document al tòpic](#pertienca)\n",
    "        \n",
    "        * [5.2.3  Notícia més representativa de cada tòpic](#noticia)\n",
    "                \n",
    "        * [5.2.4  Distribució de notícies per tòpics](#distribucio)\n",
    "        \n",
    "        * [5.2.4  Distribució de notícies per tòpics](#distribucio)\n",
    "        \n",
    "        \n",
    "    \n",
    "<br><br>\n",
    "\n",
    "\n",
    "# 1.Introducció <a class=\"anchor\" id=\"intro\"></a>\n",
    "\n",
    "\n",
    "Utilitzant el conjunt de textos disponible en [aquest enllaç](http://oceano.uv.es/sb/noticias_economicas.zip), que consisteix en 10000 notícies econòmiques en castellà extretes entre el 2015 i el 2021, hem dut a terme un modelatge de temàtiques per a analitzar l'evolució dels temes més importants per any. \n",
    "\n",
    "Amb un model global hem identificat i observat l'evolució de les **paraules clau** més importants durant el període esmentat i amb un model de modelatge de temàtiques, hem identificat els tòpics que van apareixent i desapareixent amb el temps.\n",
    "\n",
    "Per fer-ho, hem fet servir tècniques de Web Scrapping, gestió de dades i algorismes de PLN.\n",
    "\n"
   ]
  },
  {
   "cell_type": "markdown",
   "metadata": {},
   "source": [
    "# 2. Llibreries <a class=\"anchor\" id=\"llibreries\"></a>\n",
    "\n",
    "Procedim a carregar les llibreries necessàries"
   ]
  },
  {
   "cell_type": "code",
   "execution_count": 1,
   "metadata": {
    "id": "HDPuV86ydV9j"
   },
   "outputs": [],
   "source": [
    "# Llibreries generals\n",
    "import pandas as pd\n",
    "import numpy as np\n",
    "import datetime\n",
    "\n",
    "# NLP\n",
    "import spacy\n",
    "\n",
    "# Strings\n",
    "import re\n",
    "import string\n",
    "\n",
    "# Llibreria Gensim\n",
    "import gensim\n",
    "import gensim.corpora as corpora\n",
    "from gensim.utils import simple_preprocess\n",
    "from gensim.models import CoherenceModel\n",
    "from gensim.models import CoherenceModel, LdaModel\n",
    "\n",
    "# Web Scrapping\n",
    "import requests\n",
    "from bs4 import BeautifulSoup\n",
    "\n",
    "# Ferramentes per a dibuixar\n",
    "import pyLDAvis\n",
    "import pyLDAvis.gensim_models\n",
    "import matplotlib.pyplot as plt\n",
    "%matplotlib inline\n",
    "\n",
    "#Textacy\n",
    "import textacy\n",
    "from textacy import * \n",
    "import textacy.ke\n",
    "\n",
    "# Sklearn\n",
    "from sklearn.feature_extraction.text import CountVectorizer\n"
   ]
  },
  {
   "cell_type": "markdown",
   "metadata": {
    "id": "iKU2AOI1bbWK"
   },
   "source": [
    "# 3. Anàlisi de les dades <a class=\"anchor\" id=\"analisi_dades\"></a>\n",
    "\n",
    "## 3.1 Lectura de les dades <a class=\"anchor\" id=\"lectura_dades\"></a>"
   ]
  },
  {
   "cell_type": "code",
   "execution_count": 2,
   "metadata": {
    "colab": {
     "base_uri": "https://localhost:8080/",
     "height": 518
    },
    "executionInfo": {
     "elapsed": 1543,
     "status": "ok",
     "timestamp": 1620889712684,
     "user": {
      "displayName": "QuimM",
      "photoUrl": "",
      "userId": "12670856906371401325"
     },
     "user_tz": -120
    },
    "id": "ot5SB5lobt33",
    "outputId": "dcf74411-5483-41e6-91e5-b49fe8023d8d"
   },
   "outputs": [
    {
     "data": {
      "text/html": [
       "<div>\n",
       "<style scoped>\n",
       "    .dataframe tbody tr th:only-of-type {\n",
       "        vertical-align: middle;\n",
       "    }\n",
       "\n",
       "    .dataframe tbody tr th {\n",
       "        vertical-align: top;\n",
       "    }\n",
       "\n",
       "    .dataframe thead th {\n",
       "        text-align: right;\n",
       "    }\n",
       "</style>\n",
       "<table border=\"1\" class=\"dataframe\">\n",
       "  <thead>\n",
       "    <tr style=\"text-align: right;\">\n",
       "      <th></th>\n",
       "      <th>url</th>\n",
       "      <th>base_url</th>\n",
       "      <th>authors</th>\n",
       "      <th>title</th>\n",
       "      <th>summary</th>\n",
       "      <th>text</th>\n",
       "      <th>publish_date</th>\n",
       "      <th>top_image_url</th>\n",
       "      <th>keywords</th>\n",
       "      <th>insert_date</th>\n",
       "    </tr>\n",
       "  </thead>\n",
       "  <tbody>\n",
       "    <tr>\n",
       "      <th>0</th>\n",
       "      <td>https://www.expansion.com/economia/2020/11/24/...</td>\n",
       "      <td>https://www.expansion.com/mercados/cronica-bol...</td>\n",
       "      <td>Christian Marquardt</td>\n",
       "      <td>La confianza empresarial de Alemania vuelve a ...</td>\n",
       "      <td>CHRISTIAN MARQUARDT / POOL EFELa confianza emp...</td>\n",
       "      <td>Angela Merkel ayer en Berlin tras la cumbre te...</td>\n",
       "      <td>2020-11-24 00:00:00</td>\n",
       "      <td>https://phantom-expansion.unidadeditorial.es/a...</td>\n",
       "      <td>noviembre, confianza, empresarial, económica, ...</td>\n",
       "      <td>2020-11-24 12:00:00</td>\n",
       "    </tr>\n",
       "    <tr>\n",
       "      <th>1</th>\n",
       "      <td>https://www.expansion.com/blogs/quemada/2020/1...</td>\n",
       "      <td>https://www.expansion.com/mercados/cronica-bol...</td>\n",
       "      <td>NaN</td>\n",
       "      <td>El Covid dejará 10 cambios que te afectarán</td>\n",
       "      <td>NaN</td>\n",
       "      <td>\\n\\n\\n\\n\\nEnrique Quemada Clariana\\nFusiones y...</td>\n",
       "      <td>2020-11-06 01:00:00</td>\n",
       "      <td>https://e00-expansion.uecdn.es/assets/desktop/...</td>\n",
       "      <td>dejará, covid, cambios, afectarán</td>\n",
       "      <td>2020-11-07 01:00:00</td>\n",
       "    </tr>\n",
       "    <tr>\n",
       "      <th>2</th>\n",
       "      <td>https://cincodias.elpais.com/cincodias/2020/12...</td>\n",
       "      <td>https://cincodias.elpais.com/tag/ibex_35/</td>\n",
       "      <td>Ediciones Cinco Días, Getty Images</td>\n",
       "      <td>Quiero ser mi propio jefe</td>\n",
       "      <td>¿Cuántas veces no ha querido ser su propio jef...</td>\n",
       "      <td>¿Cuántas veces no ha querido ser su propio jef...</td>\n",
       "      <td>2020-12-10 00:00:00</td>\n",
       "      <td>https://d500.epimg.net/cincodias/imagenes/2020...</td>\n",
       "      <td>ser, quiero, propio, negocio, jefe</td>\n",
       "      <td>2020-12-14 12:00:00</td>\n",
       "    </tr>\n",
       "    <tr>\n",
       "      <th>3</th>\n",
       "      <td>https://elpais.com/sociedad/2020-12-04/illa-es...</td>\n",
       "      <td>https://cincodias.elpais.com/tag/ibex_35/</td>\n",
       "      <td>Pedro Gorospe, Javier Etxezarreta</td>\n",
       "      <td>Illa estima que entre mayo y junio pueden esta...</td>\n",
       "      <td>Javier Etxezarreta / EFEEl ministro de Sanidad...</td>\n",
       "      <td>El ministro de Sanidad, Salvador Illa, momento...</td>\n",
       "      <td>2020-12-04 00:00:00</td>\n",
       "      <td>https://imagenes.elpais.com/resizer/N92W5q5ZxY...</td>\n",
       "      <td>mayo, illa, pueden, millones, estima, vacunada...</td>\n",
       "      <td>2020-12-04 12:00:00</td>\n",
       "    </tr>\n",
       "    <tr>\n",
       "      <th>4</th>\n",
       "      <td>https://www.bolsamania.com/noticias/economia/c...</td>\n",
       "      <td>https://www.bolsamania.com/indice/IBEX-35/noti...</td>\n",
       "      <td>Web Financial Group</td>\n",
       "      <td>El Congreso aprueba los Presupuestos con 188 v...</td>\n",
       "      <td>El Pleno del Congreso ha aprobado el proyecto ...</td>\n",
       "      <td>El Pleno del Congreso ha aprobado el proyecto ...</td>\n",
       "      <td>NaT</td>\n",
       "      <td>https://img2.s3wfg.com/web/img/images_uploaded...</td>\n",
       "      <td>millones, congreso, presupuestos, favor, aprue...</td>\n",
       "      <td>2020-12-03 12:00:00</td>\n",
       "    </tr>\n",
       "  </tbody>\n",
       "</table>\n",
       "</div>"
      ],
      "text/plain": [
       "                                                 url  \\\n",
       "0  https://www.expansion.com/economia/2020/11/24/...   \n",
       "1  https://www.expansion.com/blogs/quemada/2020/1...   \n",
       "2  https://cincodias.elpais.com/cincodias/2020/12...   \n",
       "3  https://elpais.com/sociedad/2020-12-04/illa-es...   \n",
       "4  https://www.bolsamania.com/noticias/economia/c...   \n",
       "\n",
       "                                            base_url  \\\n",
       "0  https://www.expansion.com/mercados/cronica-bol...   \n",
       "1  https://www.expansion.com/mercados/cronica-bol...   \n",
       "2          https://cincodias.elpais.com/tag/ibex_35/   \n",
       "3          https://cincodias.elpais.com/tag/ibex_35/   \n",
       "4  https://www.bolsamania.com/indice/IBEX-35/noti...   \n",
       "\n",
       "                              authors  \\\n",
       "0                 Christian Marquardt   \n",
       "1                                 NaN   \n",
       "2  Ediciones Cinco Días, Getty Images   \n",
       "3   Pedro Gorospe, Javier Etxezarreta   \n",
       "4                 Web Financial Group   \n",
       "\n",
       "                                               title  \\\n",
       "0  La confianza empresarial de Alemania vuelve a ...   \n",
       "1        El Covid dejará 10 cambios que te afectarán   \n",
       "2                          Quiero ser mi propio jefe   \n",
       "3  Illa estima que entre mayo y junio pueden esta...   \n",
       "4  El Congreso aprueba los Presupuestos con 188 v...   \n",
       "\n",
       "                                             summary  \\\n",
       "0  CHRISTIAN MARQUARDT / POOL EFELa confianza emp...   \n",
       "1                                                NaN   \n",
       "2  ¿Cuántas veces no ha querido ser su propio jef...   \n",
       "3  Javier Etxezarreta / EFEEl ministro de Sanidad...   \n",
       "4  El Pleno del Congreso ha aprobado el proyecto ...   \n",
       "\n",
       "                                                text        publish_date  \\\n",
       "0  Angela Merkel ayer en Berlin tras la cumbre te... 2020-11-24 00:00:00   \n",
       "1  \\n\\n\\n\\n\\nEnrique Quemada Clariana\\nFusiones y... 2020-11-06 01:00:00   \n",
       "2  ¿Cuántas veces no ha querido ser su propio jef... 2020-12-10 00:00:00   \n",
       "3  El ministro de Sanidad, Salvador Illa, momento... 2020-12-04 00:00:00   \n",
       "4  El Pleno del Congreso ha aprobado el proyecto ...                 NaT   \n",
       "\n",
       "                                       top_image_url  \\\n",
       "0  https://phantom-expansion.unidadeditorial.es/a...   \n",
       "1  https://e00-expansion.uecdn.es/assets/desktop/...   \n",
       "2  https://d500.epimg.net/cincodias/imagenes/2020...   \n",
       "3  https://imagenes.elpais.com/resizer/N92W5q5ZxY...   \n",
       "4  https://img2.s3wfg.com/web/img/images_uploaded...   \n",
       "\n",
       "                                            keywords         insert_date  \n",
       "0  noviembre, confianza, empresarial, económica, ... 2020-11-24 12:00:00  \n",
       "1                  dejará, covid, cambios, afectarán 2020-11-07 01:00:00  \n",
       "2                 ser, quiero, propio, negocio, jefe 2020-12-14 12:00:00  \n",
       "3  mayo, illa, pueden, millones, estima, vacunada... 2020-12-04 12:00:00  \n",
       "4  millones, congreso, presupuestos, favor, aprue... 2020-12-03 12:00:00  "
      ]
     },
     "execution_count": 2,
     "metadata": {},
     "output_type": "execute_result"
    }
   ],
   "source": [
    "# carreguem les dades\n",
    "data = pd.read_csv(\"data/noticias-economicas-sample.csv\", engine='python',encoding='utf8', error_bad_lines=False)\n",
    "\n",
    "# modifiquem el tipus de dada de les variables temporals\n",
    "data[\"insert_date\"] = pd.to_datetime(data[\"insert_date\"])\n",
    "data[\"publish_date\"] = pd.to_datetime(data[\"publish_date\"])\n",
    "\n",
    "# Observem les primeres files \n",
    "data.head()"
   ]
  },
  {
   "cell_type": "markdown",
   "metadata": {
    "id": "XnPMtB7ibuZZ"
   },
   "source": [
    " - Seleccionem les columnes que ens interessen. Ens quedem amb *url, text, insert-date i publish-date*"
   ]
  },
  {
   "cell_type": "code",
   "execution_count": 3,
   "metadata": {
    "colab": {
     "base_uri": "https://localhost:8080/",
     "height": 195
    },
    "executionInfo": {
     "elapsed": 428,
     "status": "ok",
     "timestamp": 1620889730415,
     "user": {
      "displayName": "QuimM",
      "photoUrl": "",
      "userId": "12670856906371401325"
     },
     "user_tz": -120
    },
    "id": "SIAjTam0cAa9",
    "outputId": "41f20d9d-2690-44a4-97e7-3b6b9e460da6"
   },
   "outputs": [
    {
     "data": {
      "text/html": [
       "<div>\n",
       "<style scoped>\n",
       "    .dataframe tbody tr th:only-of-type {\n",
       "        vertical-align: middle;\n",
       "    }\n",
       "\n",
       "    .dataframe tbody tr th {\n",
       "        vertical-align: top;\n",
       "    }\n",
       "\n",
       "    .dataframe thead th {\n",
       "        text-align: right;\n",
       "    }\n",
       "</style>\n",
       "<table border=\"1\" class=\"dataframe\">\n",
       "  <thead>\n",
       "    <tr style=\"text-align: right;\">\n",
       "      <th></th>\n",
       "      <th>url</th>\n",
       "      <th>text</th>\n",
       "      <th>insert_date</th>\n",
       "      <th>publish_date</th>\n",
       "    </tr>\n",
       "  </thead>\n",
       "  <tbody>\n",
       "    <tr>\n",
       "      <th>0</th>\n",
       "      <td>https://www.expansion.com/economia/2020/11/24/...</td>\n",
       "      <td>Angela Merkel ayer en Berlin tras la cumbre te...</td>\n",
       "      <td>2020-11-24 12:00:00</td>\n",
       "      <td>2020-11-24 00:00:00</td>\n",
       "    </tr>\n",
       "    <tr>\n",
       "      <th>1</th>\n",
       "      <td>https://www.expansion.com/blogs/quemada/2020/1...</td>\n",
       "      <td>\\n\\n\\n\\n\\nEnrique Quemada Clariana\\nFusiones y...</td>\n",
       "      <td>2020-11-07 01:00:00</td>\n",
       "      <td>2020-11-06 01:00:00</td>\n",
       "    </tr>\n",
       "    <tr>\n",
       "      <th>2</th>\n",
       "      <td>https://cincodias.elpais.com/cincodias/2020/12...</td>\n",
       "      <td>¿Cuántas veces no ha querido ser su propio jef...</td>\n",
       "      <td>2020-12-14 12:00:00</td>\n",
       "      <td>2020-12-10 00:00:00</td>\n",
       "    </tr>\n",
       "    <tr>\n",
       "      <th>3</th>\n",
       "      <td>https://elpais.com/sociedad/2020-12-04/illa-es...</td>\n",
       "      <td>El ministro de Sanidad, Salvador Illa, momento...</td>\n",
       "      <td>2020-12-04 12:00:00</td>\n",
       "      <td>2020-12-04 00:00:00</td>\n",
       "    </tr>\n",
       "    <tr>\n",
       "      <th>4</th>\n",
       "      <td>https://www.bolsamania.com/noticias/economia/c...</td>\n",
       "      <td>El Pleno del Congreso ha aprobado el proyecto ...</td>\n",
       "      <td>2020-12-03 12:00:00</td>\n",
       "      <td>NaT</td>\n",
       "    </tr>\n",
       "  </tbody>\n",
       "</table>\n",
       "</div>"
      ],
      "text/plain": [
       "                                                 url  \\\n",
       "0  https://www.expansion.com/economia/2020/11/24/...   \n",
       "1  https://www.expansion.com/blogs/quemada/2020/1...   \n",
       "2  https://cincodias.elpais.com/cincodias/2020/12...   \n",
       "3  https://elpais.com/sociedad/2020-12-04/illa-es...   \n",
       "4  https://www.bolsamania.com/noticias/economia/c...   \n",
       "\n",
       "                                                text         insert_date  \\\n",
       "0  Angela Merkel ayer en Berlin tras la cumbre te... 2020-11-24 12:00:00   \n",
       "1  \\n\\n\\n\\n\\nEnrique Quemada Clariana\\nFusiones y... 2020-11-07 01:00:00   \n",
       "2  ¿Cuántas veces no ha querido ser su propio jef... 2020-12-14 12:00:00   \n",
       "3  El ministro de Sanidad, Salvador Illa, momento... 2020-12-04 12:00:00   \n",
       "4  El Pleno del Congreso ha aprobado el proyecto ... 2020-12-03 12:00:00   \n",
       "\n",
       "         publish_date  \n",
       "0 2020-11-24 00:00:00  \n",
       "1 2020-11-06 01:00:00  \n",
       "2 2020-12-10 00:00:00  \n",
       "3 2020-12-04 00:00:00  \n",
       "4                 NaT  "
      ]
     },
     "execution_count": 3,
     "metadata": {},
     "output_type": "execute_result"
    }
   ],
   "source": [
    "data=data[[\"url\", \"text\", \"insert_date\", \"publish_date\"]]\n",
    "data.head()"
   ]
  },
  {
   "cell_type": "markdown",
   "metadata": {
    "id": "UF2HgUKjcBkn"
   },
   "source": [
    "## 3.2 Anàlisi de les variables <a class=\"anchor\" id=\"analisi_variables\"></a>\n",
    "\n",
    "En aquesta secció procedirem a analitzar les variables que són del nostre interés de cara a aconseguir el nostre objectiu."
   ]
  },
  {
   "cell_type": "markdown",
   "metadata": {
    "id": "87fnlPLegBdx"
   },
   "source": [
    "### 3.2.1 URLS <a class=\"anchor\" id=\"urls\"></a>\n",
    "- Procedim a netejar la url per a crear una nova variable `url_short` amb sols el domini"
   ]
  },
  {
   "cell_type": "code",
   "execution_count": 4,
   "metadata": {
    "id": "R_z6gO9qf_SP"
   },
   "outputs": [],
   "source": [
    "data[\"url_short\"] = data[\"url\"].str.extract(r'(\\w*\\.\\w+)\\/')"
   ]
  },
  {
   "cell_type": "code",
   "execution_count": 5,
   "metadata": {
    "colab": {
     "base_uri": "https://localhost:8080/",
     "height": 262
    },
    "executionInfo": {
     "elapsed": 490,
     "status": "ok",
     "timestamp": 1620889737470,
     "user": {
      "displayName": "QuimM",
      "photoUrl": "",
      "userId": "12670856906371401325"
     },
     "user_tz": -120
    },
    "id": "phyGqxBPgYLN",
    "outputId": "ccdf4663-4810-4813-ed88-eaf532eca282"
   },
   "outputs": [
    {
     "data": {
      "text/html": [
       "<div>\n",
       "<style scoped>\n",
       "    .dataframe tbody tr th:only-of-type {\n",
       "        vertical-align: middle;\n",
       "    }\n",
       "\n",
       "    .dataframe tbody tr th {\n",
       "        vertical-align: top;\n",
       "    }\n",
       "\n",
       "    .dataframe thead th {\n",
       "        text-align: right;\n",
       "    }\n",
       "</style>\n",
       "<table border=\"1\" class=\"dataframe\">\n",
       "  <thead>\n",
       "    <tr style=\"text-align: right;\">\n",
       "      <th></th>\n",
       "      <th>url</th>\n",
       "      <th>text</th>\n",
       "      <th>insert_date</th>\n",
       "      <th>publish_date</th>\n",
       "      <th>url_short</th>\n",
       "    </tr>\n",
       "  </thead>\n",
       "  <tbody>\n",
       "    <tr>\n",
       "      <th>0</th>\n",
       "      <td>https://www.expansion.com/economia/2020/11/24/...</td>\n",
       "      <td>Angela Merkel ayer en Berlin tras la cumbre te...</td>\n",
       "      <td>2020-11-24 12:00:00</td>\n",
       "      <td>2020-11-24 00:00:00</td>\n",
       "      <td>expansion.com</td>\n",
       "    </tr>\n",
       "    <tr>\n",
       "      <th>1</th>\n",
       "      <td>https://www.expansion.com/blogs/quemada/2020/1...</td>\n",
       "      <td>\\n\\n\\n\\n\\nEnrique Quemada Clariana\\nFusiones y...</td>\n",
       "      <td>2020-11-07 01:00:00</td>\n",
       "      <td>2020-11-06 01:00:00</td>\n",
       "      <td>expansion.com</td>\n",
       "    </tr>\n",
       "    <tr>\n",
       "      <th>2</th>\n",
       "      <td>https://cincodias.elpais.com/cincodias/2020/12...</td>\n",
       "      <td>¿Cuántas veces no ha querido ser su propio jef...</td>\n",
       "      <td>2020-12-14 12:00:00</td>\n",
       "      <td>2020-12-10 00:00:00</td>\n",
       "      <td>elpais.com</td>\n",
       "    </tr>\n",
       "    <tr>\n",
       "      <th>3</th>\n",
       "      <td>https://elpais.com/sociedad/2020-12-04/illa-es...</td>\n",
       "      <td>El ministro de Sanidad, Salvador Illa, momento...</td>\n",
       "      <td>2020-12-04 12:00:00</td>\n",
       "      <td>2020-12-04 00:00:00</td>\n",
       "      <td>elpais.com</td>\n",
       "    </tr>\n",
       "    <tr>\n",
       "      <th>4</th>\n",
       "      <td>https://www.bolsamania.com/noticias/economia/c...</td>\n",
       "      <td>El Pleno del Congreso ha aprobado el proyecto ...</td>\n",
       "      <td>2020-12-03 12:00:00</td>\n",
       "      <td>NaT</td>\n",
       "      <td>bolsamania.com</td>\n",
       "    </tr>\n",
       "  </tbody>\n",
       "</table>\n",
       "</div>"
      ],
      "text/plain": [
       "                                                 url  \\\n",
       "0  https://www.expansion.com/economia/2020/11/24/...   \n",
       "1  https://www.expansion.com/blogs/quemada/2020/1...   \n",
       "2  https://cincodias.elpais.com/cincodias/2020/12...   \n",
       "3  https://elpais.com/sociedad/2020-12-04/illa-es...   \n",
       "4  https://www.bolsamania.com/noticias/economia/c...   \n",
       "\n",
       "                                                text         insert_date  \\\n",
       "0  Angela Merkel ayer en Berlin tras la cumbre te... 2020-11-24 12:00:00   \n",
       "1  \\n\\n\\n\\n\\nEnrique Quemada Clariana\\nFusiones y... 2020-11-07 01:00:00   \n",
       "2  ¿Cuántas veces no ha querido ser su propio jef... 2020-12-14 12:00:00   \n",
       "3  El ministro de Sanidad, Salvador Illa, momento... 2020-12-04 12:00:00   \n",
       "4  El Pleno del Congreso ha aprobado el proyecto ... 2020-12-03 12:00:00   \n",
       "\n",
       "         publish_date       url_short  \n",
       "0 2020-11-24 00:00:00   expansion.com  \n",
       "1 2020-11-06 01:00:00   expansion.com  \n",
       "2 2020-12-10 00:00:00      elpais.com  \n",
       "3 2020-12-04 00:00:00      elpais.com  \n",
       "4                 NaT  bolsamania.com  "
      ]
     },
     "execution_count": 5,
     "metadata": {},
     "output_type": "execute_result"
    }
   ],
   "source": [
    "data.head()"
   ]
  },
  {
   "cell_type": "markdown",
   "metadata": {
    "id": "tnqb0hi3wSoC"
   },
   "source": [
    "- De quins mitjans prové la informació proporcionada?"
   ]
  },
  {
   "cell_type": "code",
   "execution_count": 6,
   "metadata": {
    "colab": {
     "base_uri": "https://localhost:8080/"
    },
    "executionInfo": {
     "elapsed": 406,
     "status": "ok",
     "timestamp": 1620889742184,
     "user": {
      "displayName": "QuimM",
      "photoUrl": "",
      "userId": "12670856906371401325"
     },
     "user_tz": -120
    },
    "id": "5NrpBv5NcUUU",
    "outputId": "49e00f96-671b-4662-cdf0-5a388f2426ef"
   },
   "outputs": [
    {
     "data": {
      "text/plain": [
       "elpais.com                    5297\n",
       "expansion.com                 1916\n",
       "bolsamania.com                 981\n",
       "estrategiasdeinversion.com     719\n",
       "hosteltur.com                  397\n",
       "noticiasdebolsa.es             273\n",
       "finanzas.com                   232\n",
       "sincroguia.tv                   67\n",
       "as.com                          66\n",
       "huffingtonpost.es               24\n",
       "iahorro.com                     13\n",
       "vodafone.es                      5\n",
       "socialinvestor.es                5\n",
       "eventosyconferenciasue.com       1\n",
       "noticiasibex35.com               1\n",
       "elmundo.es                       1\n",
       "home.kpmg                        1\n",
       "guiadelocio.com                  1\n",
       "Name: url_short, dtype: int64"
      ]
     },
     "execution_count": 6,
     "metadata": {},
     "output_type": "execute_result"
    }
   ],
   "source": [
    "data[\"url_short\"].value_counts()"
   ]
  },
  {
   "cell_type": "markdown",
   "metadata": {
    "id": "OG8kLMa0cZhH"
   },
   "source": [
    "### 3.2.2 Text <a class=\"anchor\" id=\"text\"></a>"
   ]
  },
  {
   "cell_type": "markdown",
   "metadata": {
    "id": "XlqzlhXbYTx4"
   },
   "source": [
    "- Qualitat del text\n",
    "\n",
    "Observant text de les notícies ens n'adonem que existeixen mostres que no són notícies en sí. En aquest cas, trobem que la mostra 72 conté en el text la política de Cookies"
   ]
  },
  {
   "cell_type": "code",
   "execution_count": 7,
   "metadata": {
    "colab": {
     "base_uri": "https://localhost:8080/",
     "height": 69
    },
    "executionInfo": {
     "elapsed": 460,
     "status": "ok",
     "timestamp": 1620838230083,
     "user": {
      "displayName": "QuimM",
      "photoUrl": "",
      "userId": "12670856906371401325"
     },
     "user_tz": -120
    },
    "id": "3913sV33fDO-",
    "outputId": "2c7fbce8-b986-4c7c-f147-71aa419bd095"
   },
   "outputs": [
    {
     "data": {
      "text/plain": [
       "'Nuestra página usa cookies y otras tecnologías para que podamos mejorar nuestros servicios y mostrarte publicidad relacionada con tus preferencias, estudiando tus habitos de navegación. Si continuas navegando, consideramos que aceptas su uso. Si quieres saber más sobre las cookies y tecnologías similares, entra en Saber más\\n\\nAcepto'"
      ]
     },
     "execution_count": 7,
     "metadata": {},
     "output_type": "execute_result"
    }
   ],
   "source": [
    "data[\"text\"][72]"
   ]
  },
  {
   "cell_type": "markdown",
   "metadata": {},
   "source": [
    "Fem una xicoteta anàlisi i observem com totes les notícies que tenen la paraula cookies, no tenen data d'inserció"
   ]
  },
  {
   "cell_type": "code",
   "execution_count": 8,
   "metadata": {
    "colab": {
     "base_uri": "https://localhost:8080/"
    },
    "executionInfo": {
     "elapsed": 472,
     "status": "ok",
     "timestamp": 1620889835494,
     "user": {
      "displayName": "QuimM",
      "photoUrl": "",
      "userId": "12670856906371401325"
     },
     "user_tz": -120
    },
    "id": "MZN3b0B9YfR3",
    "outputId": "adefbffc-6890-4acb-b59e-4c798e1d4cbd"
   },
   "outputs": [
    {
     "data": {
      "text/plain": [
       "True    71\n",
       "Name: publish_date, dtype: int64"
      ]
     },
     "execution_count": 8,
     "metadata": {},
     "output_type": "execute_result"
    }
   ],
   "source": [
    "data[\"publish_date\"][data[\"text\"].str.match(\".*(cookies)\")].isnull().value_counts()"
   ]
  },
  {
   "cell_type": "markdown",
   "metadata": {},
   "source": [
    " Identifiquem quins són els mitjans que en el text tenen la informació relativa a les cookies"
   ]
  },
  {
   "cell_type": "code",
   "execution_count": 9,
   "metadata": {
    "colab": {
     "base_uri": "https://localhost:8080/"
    },
    "executionInfo": {
     "elapsed": 467,
     "status": "ok",
     "timestamp": 1620889837294,
     "user": {
      "displayName": "QuimM",
      "photoUrl": "",
      "userId": "12670856906371401325"
     },
     "user_tz": -120
    },
    "id": "s7k1Kq9NewBp",
    "outputId": "441f70a7-663a-4b15-bfb0-e12332a6e217"
   },
   "outputs": [
    {
     "data": {
      "text/plain": [
       "bolsamania.com    33\n",
       "sincroguia.tv     19\n",
       "expansion.com     19\n",
       "Name: url_short, dtype: int64"
      ]
     },
     "execution_count": 9,
     "metadata": {},
     "output_type": "execute_result"
    }
   ],
   "source": [
    "data[\"url_short\"][data[\"text\"].str.match(\".*(cookies)\")].value_counts()"
   ]
  },
  {
   "cell_type": "markdown",
   "metadata": {},
   "source": [
    "Decidim eliminar aquestes notícies que no són profitoses en el nostre objectiu"
   ]
  },
  {
   "cell_type": "code",
   "execution_count": 10,
   "metadata": {
    "colab": {
     "base_uri": "https://localhost:8080/"
    },
    "executionInfo": {
     "elapsed": 370,
     "status": "ok",
     "timestamp": 1620889838297,
     "user": {
      "displayName": "QuimM",
      "photoUrl": "",
      "userId": "12670856906371401325"
     },
     "user_tz": -120
    },
    "id": "mln6BKNPlmP7",
    "outputId": "38acdb83-1e62-4292-d95a-668211c71fa0"
   },
   "outputs": [
    {
     "data": {
      "text/plain": [
       "9929"
      ]
     },
     "execution_count": 10,
     "metadata": {},
     "output_type": "execute_result"
    }
   ],
   "source": [
    "data=data[data[\"text\"].str.match(\".*(cookies)\")==False]\n",
    "data.shape[0] #ara tenim 10.000 - 71 notícies "
   ]
  },
  {
   "cell_type": "markdown",
   "metadata": {
    "id": "EnE9nKrNgsCf"
   },
   "source": [
    "Ara tenim 9929 noticies que són del nostre interés (10.000 - 71 = 9929 notícies)\n",
    "\n",
    "- Distribució el nombre de paraules i caràcters\n",
    "\n",
    "Analitzem la distribució de les paraules i dels caràcters de les notícies"
   ]
  },
  {
   "cell_type": "code",
   "execution_count": 11,
   "metadata": {},
   "outputs": [],
   "source": [
    "summary = []\n",
    "\n",
    "# Per a cada notícia, guardem dades sobre el text\n",
    "for c in data[\"text\"]:\n",
    "    summary.append({\n",
    "        'NCaracters': len(c),\n",
    "        'NParaules': len(c.split()),\n",
    "\n",
    "    })\n",
    "\n",
    "resumen = pd.DataFrame(summary)"
   ]
  },
  {
   "cell_type": "markdown",
   "metadata": {},
   "source": [
    "Mirem quina és la distribució del nombre de paraules i caràcters per a cada diari:"
   ]
  },
  {
   "cell_type": "code",
   "execution_count": 12,
   "metadata": {
    "colab": {
     "base_uri": "https://localhost:8080/",
     "height": 659
    },
    "executionInfo": {
     "elapsed": 938,
     "status": "ok",
     "timestamp": 1620890000724,
     "user": {
      "displayName": "QuimM",
      "photoUrl": "",
      "userId": "12670856906371401325"
     },
     "user_tz": -120
    },
    "id": "ET6LZihgg6rs",
    "outputId": "ac7cf544-8572-426c-825e-b2077ff1e11a"
   },
   "outputs": [
    {
     "data": {
      "text/html": [
       "<div>\n",
       "<style scoped>\n",
       "    .dataframe tbody tr th:only-of-type {\n",
       "        vertical-align: middle;\n",
       "    }\n",
       "\n",
       "    .dataframe tbody tr th {\n",
       "        vertical-align: top;\n",
       "    }\n",
       "\n",
       "    .dataframe thead tr th {\n",
       "        text-align: left;\n",
       "    }\n",
       "\n",
       "    .dataframe thead tr:last-of-type th {\n",
       "        text-align: right;\n",
       "    }\n",
       "</style>\n",
       "<table border=\"1\" class=\"dataframe\">\n",
       "  <thead>\n",
       "    <tr>\n",
       "      <th></th>\n",
       "      <th colspan=\"8\" halign=\"left\">NCaracters</th>\n",
       "      <th colspan=\"8\" halign=\"left\">NParaules</th>\n",
       "    </tr>\n",
       "    <tr>\n",
       "      <th></th>\n",
       "      <th>count</th>\n",
       "      <th>mean</th>\n",
       "      <th>std</th>\n",
       "      <th>min</th>\n",
       "      <th>25%</th>\n",
       "      <th>50%</th>\n",
       "      <th>75%</th>\n",
       "      <th>max</th>\n",
       "      <th>count</th>\n",
       "      <th>mean</th>\n",
       "      <th>std</th>\n",
       "      <th>min</th>\n",
       "      <th>25%</th>\n",
       "      <th>50%</th>\n",
       "      <th>75%</th>\n",
       "      <th>max</th>\n",
       "    </tr>\n",
       "    <tr>\n",
       "      <th>url_short</th>\n",
       "      <th></th>\n",
       "      <th></th>\n",
       "      <th></th>\n",
       "      <th></th>\n",
       "      <th></th>\n",
       "      <th></th>\n",
       "      <th></th>\n",
       "      <th></th>\n",
       "      <th></th>\n",
       "      <th></th>\n",
       "      <th></th>\n",
       "      <th></th>\n",
       "      <th></th>\n",
       "      <th></th>\n",
       "      <th></th>\n",
       "      <th></th>\n",
       "    </tr>\n",
       "  </thead>\n",
       "  <tbody>\n",
       "    <tr>\n",
       "      <th>as.com</th>\n",
       "      <td>66.0</td>\n",
       "      <td>3555.772727</td>\n",
       "      <td>2174.769659</td>\n",
       "      <td>240.0</td>\n",
       "      <td>1874.25</td>\n",
       "      <td>3218.0</td>\n",
       "      <td>5067.25</td>\n",
       "      <td>8177.0</td>\n",
       "      <td>66.0</td>\n",
       "      <td>593.848485</td>\n",
       "      <td>367.987134</td>\n",
       "      <td>38.0</td>\n",
       "      <td>315.25</td>\n",
       "      <td>545.0</td>\n",
       "      <td>807.50</td>\n",
       "      <td>1373.0</td>\n",
       "    </tr>\n",
       "    <tr>\n",
       "      <th>bolsamania.com</th>\n",
       "      <td>934.0</td>\n",
       "      <td>3582.934690</td>\n",
       "      <td>4627.891919</td>\n",
       "      <td>66.0</td>\n",
       "      <td>1295.00</td>\n",
       "      <td>2822.0</td>\n",
       "      <td>4747.50</td>\n",
       "      <td>100000.0</td>\n",
       "      <td>934.0</td>\n",
       "      <td>589.902570</td>\n",
       "      <td>712.307402</td>\n",
       "      <td>11.0</td>\n",
       "      <td>216.00</td>\n",
       "      <td>470.5</td>\n",
       "      <td>773.00</td>\n",
       "      <td>13737.0</td>\n",
       "    </tr>\n",
       "    <tr>\n",
       "      <th>elmundo.es</th>\n",
       "      <td>1.0</td>\n",
       "      <td>6437.000000</td>\n",
       "      <td>NaN</td>\n",
       "      <td>6437.0</td>\n",
       "      <td>6437.00</td>\n",
       "      <td>6437.0</td>\n",
       "      <td>6437.00</td>\n",
       "      <td>6437.0</td>\n",
       "      <td>1.0</td>\n",
       "      <td>1179.000000</td>\n",
       "      <td>NaN</td>\n",
       "      <td>1179.0</td>\n",
       "      <td>1179.00</td>\n",
       "      <td>1179.0</td>\n",
       "      <td>1179.00</td>\n",
       "      <td>1179.0</td>\n",
       "    </tr>\n",
       "    <tr>\n",
       "      <th>elpais.com</th>\n",
       "      <td>5265.0</td>\n",
       "      <td>3782.222222</td>\n",
       "      <td>5417.382700</td>\n",
       "      <td>21.0</td>\n",
       "      <td>1547.00</td>\n",
       "      <td>2977.0</td>\n",
       "      <td>4880.00</td>\n",
       "      <td>100000.0</td>\n",
       "      <td>5265.0</td>\n",
       "      <td>620.912251</td>\n",
       "      <td>837.913172</td>\n",
       "      <td>3.0</td>\n",
       "      <td>251.00</td>\n",
       "      <td>492.0</td>\n",
       "      <td>806.00</td>\n",
       "      <td>17684.0</td>\n",
       "    </tr>\n",
       "    <tr>\n",
       "      <th>estrategiasdeinversion.com</th>\n",
       "      <td>713.0</td>\n",
       "      <td>3704.193548</td>\n",
       "      <td>5004.016484</td>\n",
       "      <td>43.0</td>\n",
       "      <td>1428.00</td>\n",
       "      <td>2904.0</td>\n",
       "      <td>4642.00</td>\n",
       "      <td>100000.0</td>\n",
       "      <td>713.0</td>\n",
       "      <td>607.349229</td>\n",
       "      <td>755.548279</td>\n",
       "      <td>10.0</td>\n",
       "      <td>246.00</td>\n",
       "      <td>479.0</td>\n",
       "      <td>772.00</td>\n",
       "      <td>13915.0</td>\n",
       "    </tr>\n",
       "    <tr>\n",
       "      <th>eventosyconferenciasue.com</th>\n",
       "      <td>1.0</td>\n",
       "      <td>3054.000000</td>\n",
       "      <td>NaN</td>\n",
       "      <td>3054.0</td>\n",
       "      <td>3054.00</td>\n",
       "      <td>3054.0</td>\n",
       "      <td>3054.00</td>\n",
       "      <td>3054.0</td>\n",
       "      <td>1.0</td>\n",
       "      <td>548.000000</td>\n",
       "      <td>NaN</td>\n",
       "      <td>548.0</td>\n",
       "      <td>548.00</td>\n",
       "      <td>548.0</td>\n",
       "      <td>548.00</td>\n",
       "      <td>548.0</td>\n",
       "    </tr>\n",
       "    <tr>\n",
       "      <th>expansion.com</th>\n",
       "      <td>1887.0</td>\n",
       "      <td>3688.450980</td>\n",
       "      <td>4723.500812</td>\n",
       "      <td>21.0</td>\n",
       "      <td>1393.00</td>\n",
       "      <td>2895.0</td>\n",
       "      <td>4721.50</td>\n",
       "      <td>100000.0</td>\n",
       "      <td>1887.0</td>\n",
       "      <td>606.677795</td>\n",
       "      <td>736.562259</td>\n",
       "      <td>3.0</td>\n",
       "      <td>229.50</td>\n",
       "      <td>481.0</td>\n",
       "      <td>784.50</td>\n",
       "      <td>14631.0</td>\n",
       "    </tr>\n",
       "    <tr>\n",
       "      <th>finanzas.com</th>\n",
       "      <td>232.0</td>\n",
       "      <td>3803.991379</td>\n",
       "      <td>5466.199265</td>\n",
       "      <td>100.0</td>\n",
       "      <td>1623.50</td>\n",
       "      <td>2914.5</td>\n",
       "      <td>4808.50</td>\n",
       "      <td>60836.0</td>\n",
       "      <td>232.0</td>\n",
       "      <td>633.224138</td>\n",
       "      <td>927.277434</td>\n",
       "      <td>21.0</td>\n",
       "      <td>276.00</td>\n",
       "      <td>482.0</td>\n",
       "      <td>791.50</td>\n",
       "      <td>10101.0</td>\n",
       "    </tr>\n",
       "    <tr>\n",
       "      <th>guiadelocio.com</th>\n",
       "      <td>1.0</td>\n",
       "      <td>612.000000</td>\n",
       "      <td>NaN</td>\n",
       "      <td>612.0</td>\n",
       "      <td>612.00</td>\n",
       "      <td>612.0</td>\n",
       "      <td>612.00</td>\n",
       "      <td>612.0</td>\n",
       "      <td>1.0</td>\n",
       "      <td>104.000000</td>\n",
       "      <td>NaN</td>\n",
       "      <td>104.0</td>\n",
       "      <td>104.00</td>\n",
       "      <td>104.0</td>\n",
       "      <td>104.00</td>\n",
       "      <td>104.0</td>\n",
       "    </tr>\n",
       "    <tr>\n",
       "      <th>home.kpmg</th>\n",
       "      <td>1.0</td>\n",
       "      <td>16830.000000</td>\n",
       "      <td>NaN</td>\n",
       "      <td>16830.0</td>\n",
       "      <td>16830.00</td>\n",
       "      <td>16830.0</td>\n",
       "      <td>16830.00</td>\n",
       "      <td>16830.0</td>\n",
       "      <td>1.0</td>\n",
       "      <td>2872.000000</td>\n",
       "      <td>NaN</td>\n",
       "      <td>2872.0</td>\n",
       "      <td>2872.00</td>\n",
       "      <td>2872.0</td>\n",
       "      <td>2872.00</td>\n",
       "      <td>2872.0</td>\n",
       "    </tr>\n",
       "    <tr>\n",
       "      <th>hosteltur.com</th>\n",
       "      <td>393.0</td>\n",
       "      <td>3883.992366</td>\n",
       "      <td>6087.836522</td>\n",
       "      <td>113.0</td>\n",
       "      <td>1678.00</td>\n",
       "      <td>3016.0</td>\n",
       "      <td>4742.00</td>\n",
       "      <td>100000.0</td>\n",
       "      <td>393.0</td>\n",
       "      <td>635.786260</td>\n",
       "      <td>908.039335</td>\n",
       "      <td>20.0</td>\n",
       "      <td>277.00</td>\n",
       "      <td>492.0</td>\n",
       "      <td>796.00</td>\n",
       "      <td>13684.0</td>\n",
       "    </tr>\n",
       "    <tr>\n",
       "      <th>huffingtonpost.es</th>\n",
       "      <td>24.0</td>\n",
       "      <td>4100.291667</td>\n",
       "      <td>2682.628764</td>\n",
       "      <td>209.0</td>\n",
       "      <td>1891.75</td>\n",
       "      <td>3726.0</td>\n",
       "      <td>6088.00</td>\n",
       "      <td>9601.0</td>\n",
       "      <td>24.0</td>\n",
       "      <td>687.041667</td>\n",
       "      <td>460.899732</td>\n",
       "      <td>31.0</td>\n",
       "      <td>298.50</td>\n",
       "      <td>618.5</td>\n",
       "      <td>967.00</td>\n",
       "      <td>1634.0</td>\n",
       "    </tr>\n",
       "    <tr>\n",
       "      <th>iahorro.com</th>\n",
       "      <td>13.0</td>\n",
       "      <td>3099.153846</td>\n",
       "      <td>2482.384232</td>\n",
       "      <td>396.0</td>\n",
       "      <td>1378.00</td>\n",
       "      <td>2542.0</td>\n",
       "      <td>4424.00</td>\n",
       "      <td>9095.0</td>\n",
       "      <td>13.0</td>\n",
       "      <td>514.384615</td>\n",
       "      <td>409.328014</td>\n",
       "      <td>68.0</td>\n",
       "      <td>232.00</td>\n",
       "      <td>406.0</td>\n",
       "      <td>733.00</td>\n",
       "      <td>1512.0</td>\n",
       "    </tr>\n",
       "    <tr>\n",
       "      <th>noticiasdebolsa.es</th>\n",
       "      <td>270.0</td>\n",
       "      <td>3513.355556</td>\n",
       "      <td>3938.330659</td>\n",
       "      <td>88.0</td>\n",
       "      <td>1484.25</td>\n",
       "      <td>2876.5</td>\n",
       "      <td>4803.50</td>\n",
       "      <td>52107.0</td>\n",
       "      <td>270.0</td>\n",
       "      <td>577.485185</td>\n",
       "      <td>639.459645</td>\n",
       "      <td>14.0</td>\n",
       "      <td>235.25</td>\n",
       "      <td>464.5</td>\n",
       "      <td>795.75</td>\n",
       "      <td>8360.0</td>\n",
       "    </tr>\n",
       "    <tr>\n",
       "      <th>noticiasibex35.com</th>\n",
       "      <td>1.0</td>\n",
       "      <td>139.000000</td>\n",
       "      <td>NaN</td>\n",
       "      <td>139.0</td>\n",
       "      <td>139.00</td>\n",
       "      <td>139.0</td>\n",
       "      <td>139.00</td>\n",
       "      <td>139.0</td>\n",
       "      <td>1.0</td>\n",
       "      <td>25.000000</td>\n",
       "      <td>NaN</td>\n",
       "      <td>25.0</td>\n",
       "      <td>25.00</td>\n",
       "      <td>25.0</td>\n",
       "      <td>25.00</td>\n",
       "      <td>25.0</td>\n",
       "    </tr>\n",
       "    <tr>\n",
       "      <th>sincroguia.tv</th>\n",
       "      <td>48.0</td>\n",
       "      <td>3789.145833</td>\n",
       "      <td>2971.142949</td>\n",
       "      <td>21.0</td>\n",
       "      <td>2178.75</td>\n",
       "      <td>2826.0</td>\n",
       "      <td>4764.25</td>\n",
       "      <td>14736.0</td>\n",
       "      <td>48.0</td>\n",
       "      <td>619.791667</td>\n",
       "      <td>485.131347</td>\n",
       "      <td>3.0</td>\n",
       "      <td>346.50</td>\n",
       "      <td>449.0</td>\n",
       "      <td>795.00</td>\n",
       "      <td>2341.0</td>\n",
       "    </tr>\n",
       "    <tr>\n",
       "      <th>socialinvestor.es</th>\n",
       "      <td>5.0</td>\n",
       "      <td>4140.000000</td>\n",
       "      <td>2811.516317</td>\n",
       "      <td>213.0</td>\n",
       "      <td>3223.00</td>\n",
       "      <td>4425.0</td>\n",
       "      <td>4857.00</td>\n",
       "      <td>7982.0</td>\n",
       "      <td>5.0</td>\n",
       "      <td>686.000000</td>\n",
       "      <td>469.493876</td>\n",
       "      <td>38.0</td>\n",
       "      <td>541.00</td>\n",
       "      <td>703.0</td>\n",
       "      <td>810.00</td>\n",
       "      <td>1338.0</td>\n",
       "    </tr>\n",
       "    <tr>\n",
       "      <th>vodafone.es</th>\n",
       "      <td>5.0</td>\n",
       "      <td>3512.400000</td>\n",
       "      <td>1633.646014</td>\n",
       "      <td>1815.0</td>\n",
       "      <td>2781.00</td>\n",
       "      <td>3040.0</td>\n",
       "      <td>3774.00</td>\n",
       "      <td>6152.0</td>\n",
       "      <td>5.0</td>\n",
       "      <td>574.000000</td>\n",
       "      <td>243.132680</td>\n",
       "      <td>293.0</td>\n",
       "      <td>494.00</td>\n",
       "      <td>502.0</td>\n",
       "      <td>629.00</td>\n",
       "      <td>952.0</td>\n",
       "    </tr>\n",
       "  </tbody>\n",
       "</table>\n",
       "</div>"
      ],
      "text/plain": [
       "                           NCaracters                                      \\\n",
       "                                count          mean          std      min   \n",
       "url_short                                                                   \n",
       "as.com                           66.0   3555.772727  2174.769659    240.0   \n",
       "bolsamania.com                  934.0   3582.934690  4627.891919     66.0   \n",
       "elmundo.es                        1.0   6437.000000          NaN   6437.0   \n",
       "elpais.com                     5265.0   3782.222222  5417.382700     21.0   \n",
       "estrategiasdeinversion.com      713.0   3704.193548  5004.016484     43.0   \n",
       "eventosyconferenciasue.com        1.0   3054.000000          NaN   3054.0   \n",
       "expansion.com                  1887.0   3688.450980  4723.500812     21.0   \n",
       "finanzas.com                    232.0   3803.991379  5466.199265    100.0   \n",
       "guiadelocio.com                   1.0    612.000000          NaN    612.0   \n",
       "home.kpmg                         1.0  16830.000000          NaN  16830.0   \n",
       "hosteltur.com                   393.0   3883.992366  6087.836522    113.0   \n",
       "huffingtonpost.es                24.0   4100.291667  2682.628764    209.0   \n",
       "iahorro.com                      13.0   3099.153846  2482.384232    396.0   \n",
       "noticiasdebolsa.es              270.0   3513.355556  3938.330659     88.0   \n",
       "noticiasibex35.com                1.0    139.000000          NaN    139.0   \n",
       "sincroguia.tv                    48.0   3789.145833  2971.142949     21.0   \n",
       "socialinvestor.es                 5.0   4140.000000  2811.516317    213.0   \n",
       "vodafone.es                       5.0   3512.400000  1633.646014   1815.0   \n",
       "\n",
       "                                                                  NParaules  \\\n",
       "                                 25%      50%       75%       max     count   \n",
       "url_short                                                                     \n",
       "as.com                       1874.25   3218.0   5067.25    8177.0      66.0   \n",
       "bolsamania.com               1295.00   2822.0   4747.50  100000.0     934.0   \n",
       "elmundo.es                   6437.00   6437.0   6437.00    6437.0       1.0   \n",
       "elpais.com                   1547.00   2977.0   4880.00  100000.0    5265.0   \n",
       "estrategiasdeinversion.com   1428.00   2904.0   4642.00  100000.0     713.0   \n",
       "eventosyconferenciasue.com   3054.00   3054.0   3054.00    3054.0       1.0   \n",
       "expansion.com                1393.00   2895.0   4721.50  100000.0    1887.0   \n",
       "finanzas.com                 1623.50   2914.5   4808.50   60836.0     232.0   \n",
       "guiadelocio.com               612.00    612.0    612.00     612.0       1.0   \n",
       "home.kpmg                   16830.00  16830.0  16830.00   16830.0       1.0   \n",
       "hosteltur.com                1678.00   3016.0   4742.00  100000.0     393.0   \n",
       "huffingtonpost.es            1891.75   3726.0   6088.00    9601.0      24.0   \n",
       "iahorro.com                  1378.00   2542.0   4424.00    9095.0      13.0   \n",
       "noticiasdebolsa.es           1484.25   2876.5   4803.50   52107.0     270.0   \n",
       "noticiasibex35.com            139.00    139.0    139.00     139.0       1.0   \n",
       "sincroguia.tv                2178.75   2826.0   4764.25   14736.0      48.0   \n",
       "socialinvestor.es            3223.00   4425.0   4857.00    7982.0       5.0   \n",
       "vodafone.es                  2781.00   3040.0   3774.00    6152.0       5.0   \n",
       "\n",
       "                                                                              \\\n",
       "                                   mean         std     min      25%     50%   \n",
       "url_short                                                                      \n",
       "as.com                       593.848485  367.987134    38.0   315.25   545.0   \n",
       "bolsamania.com               589.902570  712.307402    11.0   216.00   470.5   \n",
       "elmundo.es                  1179.000000         NaN  1179.0  1179.00  1179.0   \n",
       "elpais.com                   620.912251  837.913172     3.0   251.00   492.0   \n",
       "estrategiasdeinversion.com   607.349229  755.548279    10.0   246.00   479.0   \n",
       "eventosyconferenciasue.com   548.000000         NaN   548.0   548.00   548.0   \n",
       "expansion.com                606.677795  736.562259     3.0   229.50   481.0   \n",
       "finanzas.com                 633.224138  927.277434    21.0   276.00   482.0   \n",
       "guiadelocio.com              104.000000         NaN   104.0   104.00   104.0   \n",
       "home.kpmg                   2872.000000         NaN  2872.0  2872.00  2872.0   \n",
       "hosteltur.com                635.786260  908.039335    20.0   277.00   492.0   \n",
       "huffingtonpost.es            687.041667  460.899732    31.0   298.50   618.5   \n",
       "iahorro.com                  514.384615  409.328014    68.0   232.00   406.0   \n",
       "noticiasdebolsa.es           577.485185  639.459645    14.0   235.25   464.5   \n",
       "noticiasibex35.com            25.000000         NaN    25.0    25.00    25.0   \n",
       "sincroguia.tv                619.791667  485.131347     3.0   346.50   449.0   \n",
       "socialinvestor.es            686.000000  469.493876    38.0   541.00   703.0   \n",
       "vodafone.es                  574.000000  243.132680   293.0   494.00   502.0   \n",
       "\n",
       "                                              \n",
       "                                75%      max  \n",
       "url_short                                     \n",
       "as.com                       807.50   1373.0  \n",
       "bolsamania.com               773.00  13737.0  \n",
       "elmundo.es                  1179.00   1179.0  \n",
       "elpais.com                   806.00  17684.0  \n",
       "estrategiasdeinversion.com   772.00  13915.0  \n",
       "eventosyconferenciasue.com   548.00    548.0  \n",
       "expansion.com                784.50  14631.0  \n",
       "finanzas.com                 791.50  10101.0  \n",
       "guiadelocio.com              104.00    104.0  \n",
       "home.kpmg                   2872.00   2872.0  \n",
       "hosteltur.com                796.00  13684.0  \n",
       "huffingtonpost.es            967.00   1634.0  \n",
       "iahorro.com                  733.00   1512.0  \n",
       "noticiasdebolsa.es           795.75   8360.0  \n",
       "noticiasibex35.com            25.00     25.0  \n",
       "sincroguia.tv                795.00   2341.0  \n",
       "socialinvestor.es            810.00   1338.0  \n",
       "vodafone.es                  629.00    952.0  "
      ]
     },
     "execution_count": 12,
     "metadata": {},
     "output_type": "execute_result"
    }
   ],
   "source": [
    "resumen[\"url_short\"]= data[\"url_short\"]\n",
    "resumen.groupby(\"url_short\").describe()"
   ]
  },
  {
   "cell_type": "markdown",
   "metadata": {},
   "source": [
    "Vient la existència de notícies amb un nombre de caràcters molt baix, decidim establir un llindar en 175 caràcters. Observem algunes mostres de notícies que no arriben a aquest llindar:"
   ]
  },
  {
   "cell_type": "code",
   "execution_count": 13,
   "metadata": {
    "colab": {
     "base_uri": "https://localhost:8080/"
    },
    "executionInfo": {
     "elapsed": 506,
     "status": "ok",
     "timestamp": 1620889811160,
     "user": {
      "displayName": "QuimM",
      "photoUrl": "",
      "userId": "12670856906371401325"
     },
     "user_tz": -120
    },
    "id": "CydsC6JVoEBg",
    "outputId": "7003c8fe-dda3-40eb-c30e-b4657f654899"
   },
   "outputs": [
    {
     "data": {
      "text/plain": [
       "5       Vacunarse de la gripe para aliviar los hospita...\n",
       "206     Tráiler de 'Godzilla VS Kong'\\n\\nExpansion.com...\n",
       "294     Buscar otra fecha\\n\\nUtiliza el calendario o l...\n",
       "500     © DIARIO AS, S.L. - Valentín Beato, 44 - 28037...\n",
       "709     Buscar otra fecha\\n\\nUtiliza el calendario o l...\n",
       "                              ...                        \n",
       "9048    Alemania se cierra para combatir el coronaviru...\n",
       "9105    Buscar otra fecha\\n\\nUtiliza el calendario o l...\n",
       "9456    Exitoso alunizaje de la sonda china Change 5\\n...\n",
       "9685                             \\n403 Forbidden\\nnginx\\n\n",
       "9885    Fútbol\\n\\nEl fan que llamó chulo a Riqui Puig ...\n",
       "Name: text, Length: 65, dtype: object"
      ]
     },
     "execution_count": 13,
     "metadata": {},
     "output_type": "execute_result"
    }
   ],
   "source": [
    "data[\"text\"][data[\"text\"].map(len)<175]"
   ]
  },
  {
   "cell_type": "markdown",
   "metadata": {},
   "source": [
    "Descobrim algunes repeticions en el text, com aquells que comencen per *Buscar otra fecha* o *403 Forbidden*. Decidim esbrinar quins són els mitjans que en el text tenen la informació relativa a la primera frase frase:"
   ]
  },
  {
   "cell_type": "code",
   "execution_count": 14,
   "metadata": {
    "colab": {
     "base_uri": "https://localhost:8080/"
    },
    "executionInfo": {
     "elapsed": 470,
     "status": "ok",
     "timestamp": 1620889816457,
     "user": {
      "displayName": "QuimM",
      "photoUrl": "",
      "userId": "12670856906371401325"
     },
     "user_tz": -120
    },
    "id": "Y8WINrZwpVYt",
    "outputId": "9f1a1cab-c731-45b1-b7c2-c4a6e3785c93"
   },
   "outputs": [
    {
     "data": {
      "text/plain": [
       "elpais.com    18\n",
       "Name: url_short, dtype: int64"
      ]
     },
     "execution_count": 14,
     "metadata": {},
     "output_type": "execute_result"
    }
   ],
   "source": [
    "data[\"url_short\"][data[\"text\"].str.match(\"^(Buscar otra fecha)\")].value_counts()"
   ]
  },
  {
   "cell_type": "markdown",
   "metadata": {},
   "source": [
    "Procedim a eliminar les notícies amb un nombre menor de 175 caràcters ja que no són profitoses en el nostre objectiu"
   ]
  },
  {
   "cell_type": "code",
   "execution_count": 15,
   "metadata": {
    "colab": {
     "base_uri": "https://localhost:8080/"
    },
    "executionInfo": {
     "elapsed": 431,
     "status": "ok",
     "timestamp": 1620889884702,
     "user": {
      "displayName": "QuimM",
      "photoUrl": "",
      "userId": "12670856906371401325"
     },
     "user_tz": -120
    },
    "id": "QvAHsojJtS_i",
    "outputId": "e3bd7654-39a7-464c-c7c5-62a26141a2ed"
   },
   "outputs": [
    {
     "data": {
      "text/plain": [
       "9862"
      ]
     },
     "execution_count": 15,
     "metadata": {},
     "output_type": "execute_result"
    }
   ],
   "source": [
    "data=data[data[\"text\"].map(len)>175]\n",
    "data.shape[0]  "
   ]
  },
  {
   "cell_type": "markdown",
   "metadata": {
    "id": "Z7NuqHuvghKn"
   },
   "source": [
    "Ara tenim 9862 notícies en el nostre dataset\n",
    "\n",
    "### 3.2.3 Temps <a class=\"anchor\" id=\"temps\"></a>\n"
   ]
  },
  {
   "cell_type": "markdown",
   "metadata": {},
   "source": [
    "- Analitzem la variable `insert_date`"
   ]
  },
  {
   "cell_type": "code",
   "execution_count": 16,
   "metadata": {
    "colab": {
     "base_uri": "https://localhost:8080/"
    },
    "executionInfo": {
     "elapsed": 462,
     "status": "ok",
     "timestamp": 1620890077299,
     "user": {
      "displayName": "QuimM",
      "photoUrl": "",
      "userId": "12670856906371401325"
     },
     "user_tz": -120
    },
    "id": "eTJedy5lgkds",
    "outputId": "c43d4bd2-4956-4084-9628-e0b2dcce74c2"
   },
   "outputs": [
    {
     "name": "stdout",
     "output_type": "stream",
     "text": [
      "2020    6940\n",
      "2021    2922\n",
      "Name: insert_date, dtype: int64\n",
      "\n",
      "Nombre notícies que tenen insert_date:  9862\n"
     ]
    }
   ],
   "source": [
    "print(data[\"insert_date\"].dt.year.value_counts())\n",
    "print(\"\\nNombre notícies que tenen insert_date: \",data[\"insert_date\"].dt.year.value_counts().sum())"
   ]
  },
  {
   "cell_type": "markdown",
   "metadata": {},
   "source": [
    "No n'hi ha dades faltants i se concentren en només 2 anys\n",
    "\n",
    "- Analitzem la variable `publish_date`"
   ]
  },
  {
   "cell_type": "code",
   "execution_count": 17,
   "metadata": {
    "colab": {
     "base_uri": "https://localhost:8080/"
    },
    "executionInfo": {
     "elapsed": 559,
     "status": "ok",
     "timestamp": 1620890078555,
     "user": {
      "displayName": "QuimM",
      "photoUrl": "",
      "userId": "12670856906371401325"
     },
     "user_tz": -120
    },
    "id": "5QpwThO-g0Gy",
    "outputId": "02bc0047-cd70-4618-d441-c406f30b7c9b"
   },
   "outputs": [
    {
     "name": "stdout",
     "output_type": "stream",
     "text": [
      "2020.0    5249\n",
      "2021.0    2114\n",
      "2018.0      57\n",
      "2019.0      38\n",
      "2017.0      14\n",
      "2016.0       3\n",
      "2015.0       2\n",
      "Name: publish_date, dtype: int64\n",
      "\n",
      "Nombre notícies que tenen publish_date:  7477\n"
     ]
    }
   ],
   "source": [
    "print(data[\"publish_date\"].dt.year.value_counts())\n",
    "print(\"\\nNombre notícies que tenen publish_date: \",data[\"publish_date\"].dt.year.value_counts().sum())"
   ]
  },
  {
   "cell_type": "markdown",
   "metadata": {
    "id": "aaBmc1lmhnLl"
   },
   "source": [
    "Trobem que n'hi ha dades faltants, i que tenim més valors d'anys en `publish_date` que en `insert_date` \n",
    "\n",
    "Analitzem quins són els mitjans que tenen valors faltants en `publish_date`"
   ]
  },
  {
   "cell_type": "code",
   "execution_count": 18,
   "metadata": {
    "colab": {
     "base_uri": "https://localhost:8080/"
    },
    "executionInfo": {
     "elapsed": 470,
     "status": "ok",
     "timestamp": 1620890088356,
     "user": {
      "displayName": "QuimM",
      "photoUrl": "",
      "userId": "12670856906371401325"
     },
     "user_tz": -120
    },
    "id": "rD8uOVkChwGz",
    "outputId": "5b6facbb-2dd3-4022-b35a-6abf95a5295e"
   },
   "outputs": [
    {
     "data": {
      "text/plain": [
       "bolsamania.com                931\n",
       "estrategiasdeinversion.com    715\n",
       "hosteltur.com                 397\n",
       "finanzas.com                  218\n",
       "sincroguia.tv                  48\n",
       "expansion.com                  45\n",
       "elpais.com                     24\n",
       "socialinvestor.es               5\n",
       "home.kpmg                       1\n",
       "eventosyconferenciasue.com      1\n",
       "Name: url_short, dtype: int64"
      ]
     },
     "execution_count": 18,
     "metadata": {},
     "output_type": "execute_result"
    }
   ],
   "source": [
    "data[\"url_short\"][data[\"publish_date\"].isnull()].value_counts()"
   ]
  },
  {
   "cell_type": "markdown",
   "metadata": {
    "id": "l8VmRZ0kJyBr"
   },
   "source": [
    "Veient que gairebé un 25% de les notícies no tenen `publish_date`, decidim emprar tècniques de Web Scrapping per a tractar d'imputar-les."
   ]
  },
  {
   "cell_type": "code",
   "execution_count": 19,
   "metadata": {
    "id": "pat-XNIbK1vS"
   },
   "outputs": [],
   "source": [
    "#Definim un dataset pròpi per a les dades faltants\n",
    "dades_faltants = data[data[\"publish_date\"].isnull()]"
   ]
  },
  {
   "cell_type": "markdown",
   "metadata": {
    "id": "VMs34MlQKbCH"
   },
   "source": [
    "#### 3.2.3.1 Web Scrapping  <a class=\"anchor\" id=\"web\"></a>\n",
    "- Web Scrapping en **bolsamania.com**"
   ]
  },
  {
   "cell_type": "code",
   "execution_count": 20,
   "metadata": {
    "id": "TW4svBHrLWiJ"
   },
   "outputs": [],
   "source": [
    "# Definim variables que ens serviran en l'obtenció de les dades\n",
    "# Per a canviar text a numero\n",
    "l = {\"ene\":\"1\", \"feb\":\"2\", \"mar\":\"3\", \"abr\":\"4\", \"may\":\"5\", \"jun\":\"6\", \"jul\":\"7\", \"ago\":\"8\", \"sep\":\"9\", \"oct\":\"10\", \"nov\":\"11\", \"dic\":\"12\"}\n",
    "\n",
    "# Funció específica de bolsamania.com\n",
    "def tipus_ul_li(tag):\n",
    "    return tag.name=='ul' and tag.find(\"li\")"
   ]
  },
  {
   "cell_type": "code",
   "execution_count": 21,
   "metadata": {
    "id": "Z1xzNHVyJi1I"
   },
   "outputs": [],
   "source": [
    "dates=[]\n",
    "for url in dades_faltants[\"url\"][dades_faltants[\"url\"].str.match(\".*(bolsamania\\.com)\")]:\n",
    "  try:\n",
    "    page = requests.get(url)\n",
    "    soup = BeautifulSoup(page.text, 'html.parser')\n",
    "    \n",
    "    taula=soup.find( \"div\",{\"class\":\"author-header\"})\n",
    "    temps=taula.find_all(tipus_ul_li)[1]\n",
    "    \n",
    "    \n",
    "    date= temps.find(\"li\").text\n",
    "    for word, initial in l.items():\n",
    "        date = date.replace(word.lower(), initial)\n",
    "    \n",
    "    dates.append( datetime.datetime.strptime(date, '%d %m, %Y %H:%M'))\n",
    "  except:\n",
    "    dates.append(pd.Timedelta(\"nan\"))\n",
    "    "
   ]
  },
  {
   "cell_type": "markdown",
   "metadata": {},
   "source": [
    "Ara comprovem quantes `publish_date` no hem pogut aconseguir mitjançant Web Scrapping."
   ]
  },
  {
   "cell_type": "code",
   "execution_count": 22,
   "metadata": {
    "colab": {
     "base_uri": "https://localhost:8080/"
    },
    "executionInfo": {
     "elapsed": 575,
     "status": "ok",
     "timestamp": 1620891768370,
     "user": {
      "displayName": "QuimM",
      "photoUrl": "",
      "userId": "12670856906371401325"
     },
     "user_tz": -120
    },
    "id": "jDsbEg0Tqey_",
    "outputId": "d79492bc-44d5-4330-cc6d-711b03ddb5c1"
   },
   "outputs": [
    {
     "name": "stdout",
     "output_type": "stream",
     "text": [
      "90\n"
     ]
    }
   ],
   "source": [
    "len([x for x in dates if type(x)==pd._libs.tslibs.nattype.NaTType])"
   ]
  },
  {
   "cell_type": "markdown",
   "metadata": {},
   "source": [
    "Només 90 notícies de 931 continuen sense tindre `publish_date`. Procedim a imputar les dades que hem aconseguit:"
   ]
  },
  {
   "cell_type": "code",
   "execution_count": 23,
   "metadata": {
    "id": "uxWQ5nyrzvh1"
   },
   "outputs": [],
   "source": [
    "dades_faltants[\"publish_date\"].loc[dades_faltants[\"url\"].str.match('.*(bolsamania\\\\.com)')] = dates"
   ]
  },
  {
   "cell_type": "markdown",
   "metadata": {
    "id": "4vbv4htjO2th"
   },
   "source": [
    "- Web Scrapping en **estrategiasdeinversion.com**"
   ]
  },
  {
   "cell_type": "code",
   "execution_count": 24,
   "metadata": {
    "id": "XFCP_0jQPaT6"
   },
   "outputs": [
    {
     "name": "stdout",
     "output_type": "stream",
     "text": [
      "\n"
     ]
    }
   ],
   "source": [
    "dates=[]\n",
    "for url in dades_faltants[\"url\"][dades_faltants[\"url\"].str.match(\".*(estrategiasdeinversion\\.com)\")]:\n",
    "  try:\n",
    "    page = requests.get(url)\n",
    "    # parseamos el html usando BeautifulSoup y lo guardamos en la variable `soup`\n",
    "    soup = BeautifulSoup(page.text, 'html.parser')\n",
    "    \n",
    "    taula=soup.find( \"time\",{\"class\":\"timestamp\"})\n",
    "\n",
    "    dates.append( datetime.datetime.strptime(taula.text, '%d-%m-%Y, %H:%M:%S'))\n",
    "  except:\n",
    "    dates.append(pd.Timedelta(\"nan\"))"
   ]
  },
  {
   "cell_type": "markdown",
   "metadata": {},
   "source": [
    "Ara comprovem quantes `publish_date` no hem pogut aconseguir mitjançant Web Scrapping."
   ]
  },
  {
   "cell_type": "code",
   "execution_count": 25,
   "metadata": {
    "colab": {
     "base_uri": "https://localhost:8080/"
    },
    "executionInfo": {
     "elapsed": 573,
     "status": "ok",
     "timestamp": 1620893291878,
     "user": {
      "displayName": "QuimM",
      "photoUrl": "",
      "userId": "12670856906371401325"
     },
     "user_tz": -120
    },
    "id": "Zkf_7CdrrylH",
    "outputId": "85b78cbf-64c4-4880-c085-118d1f2cc50a"
   },
   "outputs": [
    {
     "name": "stdout",
     "output_type": "stream",
     "text": [
      "10\n"
     ]
    }
   ],
   "source": [
    "# Nombre de dades faltants. \n",
    "len([x for x in dates if type(x)==pd._libs.tslibs.nattype.NaTType])"
   ]
  },
  {
   "cell_type": "markdown",
   "metadata": {},
   "source": [
    "Només 10 notícies de 715 continuen sense tindre `publish_date`. Procedim a imputar les dades que hem aconseguit:"
   ]
  },
  {
   "cell_type": "code",
   "execution_count": 26,
   "metadata": {
    "id": "d9SSZZsD-2Pn"
   },
   "outputs": [
    {
     "name": "stdout",
     "output_type": "stream",
     "text": [
      "\n"
     ]
    }
   ],
   "source": [
    "dades_faltants[\"publish_date\"][dades_faltants[\"url\"].str.match(\".*(estrategiasdeinversion\\.com)\")] = dates"
   ]
  },
  {
   "cell_type": "markdown",
   "metadata": {
    "id": "VMIAyIJDPyQM"
   },
   "source": [
    "- Web Scrapping en **hosteltur.com**"
   ]
  },
  {
   "cell_type": "code",
   "execution_count": 27,
   "metadata": {
    "id": "c9xBj3gvQYG8"
   },
   "outputs": [],
   "source": [
    "# Definim variables que ens serviran en l'obtenció de les dades\n",
    "# Per a canviar text a numero\n",
    "l = {\"enero\":\"1\", \"febrero\":\"2\", \"marzo\":\"3\", \"abril\":\"4\", \"mayo\":\"5\", \"junio\":\"6\", \"julio\":\"7\", \"agosto\":\"8\", \"septiembre\":\"9\", \"octubre\":\"10\", \"noviembre\":\"11\", \"diciembre\":\"12\"}"
   ]
  },
  {
   "cell_type": "code",
   "execution_count": 28,
   "metadata": {
    "id": "scYMx3MyP4ZM"
   },
   "outputs": [
    {
     "name": "stdout",
     "output_type": "stream",
     "text": [
      "\n"
     ]
    }
   ],
   "source": [
    "dates=[]\n",
    "for url in dades_faltants[\"url\"][dades_faltants[\"url\"].str.match(\".*(hosteltur\\.com)\")]:\n",
    "  try:\n",
    "    page = requests.get(url)\n",
    "    # parseamos el html usando BeautifulSoup y lo guardamos en la variable `soup`\n",
    "    soup = BeautifulSoup(page.text, 'html.parser')\n",
    "    \n",
    "    taula=soup.find( \"span\",{\"class\":\"published_at\"})\n",
    "    temps=taula.find(\"span\",{\"class\":\"text\"})\n",
    "    \n",
    "\n",
    "    date= temps.text.strip()\n",
    "    for word, initial in l.items():\n",
    "        date = date.replace(word.lower(), initial)\n",
    "\n",
    "    dates.append( datetime.datetime.strptime(date, '%d %m, %Y'))\n",
    "  except:\n",
    "    dates.append(pd.Timedelta(\"nan\"))"
   ]
  },
  {
   "cell_type": "markdown",
   "metadata": {},
   "source": [
    "Ara comprovem quantes `publish_date` no hem pogut aconseguir mitjançant Web Scrapping."
   ]
  },
  {
   "cell_type": "code",
   "execution_count": 29,
   "metadata": {
    "colab": {
     "base_uri": "https://localhost:8080/"
    },
    "executionInfo": {
     "elapsed": 906,
     "status": "ok",
     "timestamp": 1620892358227,
     "user": {
      "displayName": "QuimM",
      "photoUrl": "",
      "userId": "12670856906371401325"
     },
     "user_tz": -120
    },
    "id": "d955HSD0sx9v",
    "outputId": "47bf7a7f-3980-46f9-ca22-4acedd3f9a4c"
   },
   "outputs": [
    {
     "name": "stdout",
     "output_type": "stream",
     "text": [
      "78\n"
     ]
    }
   ],
   "source": [
    "# Nombre de dades faltants. \n",
    "len([x for x in dates if type(x)==pd._libs.tslibs.nattype.NaTType])"
   ]
  },
  {
   "cell_type": "markdown",
   "metadata": {},
   "source": [
    "Només 78 notícies de 397 continuen sense tindre `publish_date`. Procedim a imputar les dades que hem aconseguit:"
   ]
  },
  {
   "cell_type": "code",
   "execution_count": 30,
   "metadata": {
    "id": "gIH-O6yw_Ypm"
   },
   "outputs": [
    {
     "name": "stdout",
     "output_type": "stream",
     "text": [
      "\n"
     ]
    }
   ],
   "source": [
    "dades_faltants[\"publish_date\"][dades_faltants[\"url\"].str.match(\".*(hosteltur\\.com)\")] = dates"
   ]
  },
  {
   "cell_type": "markdown",
   "metadata": {
    "id": "uqvKoctTQyQB"
   },
   "source": [
    "- Web Scrapping en **finanzas.com**\n"
   ]
  },
  {
   "cell_type": "code",
   "execution_count": 31,
   "metadata": {
    "id": "EMSn75INRHyr"
   },
   "outputs": [
    {
     "name": "stdout",
     "output_type": "stream",
     "text": [
      "\n"
     ]
    }
   ],
   "source": [
    "dates=[]\n",
    "for url in dades_faltants[\"url\"][dades_faltants[\"url\"].str.match(\".*(finanzas\\.com)\")]:\n",
    "  try:\n",
    "    page = requests.get(url)\n",
    "    # parseamos el html usando BeautifulSoup y lo guardamos en la variable `soup`\n",
    "    soup = BeautifulSoup(page.text, 'html.parser')\n",
    "    \n",
    "    taula=soup.find( \"time\",{\"class\":\"entry-date published\"})\n",
    "\n",
    "    dates.append( datetime.datetime.strptime(taula.text, '%d/%m/%Y'))\n",
    "  except:\n",
    "    dates.append(pd.Timedelta(\"nan\"))"
   ]
  },
  {
   "cell_type": "markdown",
   "metadata": {},
   "source": [
    "Ara comprovem quantes `publish_date` no hem pogut aconseguir mitjançant Web Scrapping."
   ]
  },
  {
   "cell_type": "code",
   "execution_count": 32,
   "metadata": {
    "colab": {
     "base_uri": "https://localhost:8080/"
    },
    "executionInfo": {
     "elapsed": 153468,
     "status": "ok",
     "timestamp": 1620892895672,
     "user": {
      "displayName": "QuimM",
      "photoUrl": "",
      "userId": "12670856906371401325"
     },
     "user_tz": -120
    },
    "id": "TjtfiC60uMD-",
    "outputId": "ad43d420-279d-44fd-e23a-c39a3accc292"
   },
   "outputs": [
    {
     "name": "stdout",
     "output_type": "stream",
     "text": [
      "153\n"
     ]
    }
   ],
   "source": [
    "# Nombre de dades faltants. \n",
    "len([x for x in dates if type(x)==pd._libs.tslibs.nattype.NaTType])"
   ]
  },
  {
   "cell_type": "markdown",
   "metadata": {},
   "source": [
    "En aquest cas, 153 notícies de 218 continuen sense tindre `publish_date`. Açò és degut a que moltes d'aquestes urls no s'hi troben disponibles a data de realització de l'informe. Procedim a imputar les dades que hem aconseguit:"
   ]
  },
  {
   "cell_type": "code",
   "execution_count": 33,
   "metadata": {
    "id": "w9XiC7Ft_dJj"
   },
   "outputs": [
    {
     "name": "stdout",
     "output_type": "stream",
     "text": [
      "\n"
     ]
    }
   ],
   "source": [
    "dades_faltants[\"publish_date\"][dades_faltants[\"url\"].str.match(\".*(finanzas\\.com)\")] = dates"
   ]
  },
  {
   "cell_type": "markdown",
   "metadata": {
    "id": "V7zQSLoWSpiI"
   },
   "source": [
    "- **sincroguia.tv** i **expansion.com**\n",
    "\n",
    "Ens n'adonem que les urls relatives a *sincroguia.tv* i a *expansion.com* que no tenen `publish_date` fan referència a sinòpis de pel·lícules i series, i per tant, són textos que no aporten context al nostre problema"
   ]
  },
  {
   "cell_type": "code",
   "execution_count": 34,
   "metadata": {
    "colab": {
     "base_uri": "https://localhost:8080/",
     "height": 35
    },
    "executionInfo": {
     "elapsed": 427,
     "status": "ok",
     "timestamp": 1620835074997,
     "user": {
      "displayName": "QuimM",
      "photoUrl": "",
      "userId": "12670856906371401325"
     },
     "user_tz": -120
    },
    "id": "DFhmiN-8TA-K",
    "outputId": "359aba7b-8f4f-4416-b085-9a16dd71197b"
   },
   "outputs": [
    {
     "data": {
      "text/plain": [
       "'https://sincroguia.tv/peliculas/los-mercenarios-3--6ywt-SPA'"
      ]
     },
     "execution_count": 34,
     "metadata": {},
     "output_type": "execute_result"
    }
   ],
   "source": [
    "# Observem una url d'una mostra de sincroguia.tv\n",
    "dades_faltants[\"url\"][45]"
   ]
  },
  {
   "cell_type": "code",
   "execution_count": 35,
   "metadata": {
    "colab": {
     "base_uri": "https://localhost:8080/",
     "height": 154
    },
    "executionInfo": {
     "elapsed": 437,
     "status": "ok",
     "timestamp": 1620835085296,
     "user": {
      "displayName": "QuimM",
      "photoUrl": "",
      "userId": "12670856906371401325"
     },
     "user_tz": -120
    },
    "id": "ke-0RuZ5TJtr",
    "outputId": "8b429f69-ebde-498b-8d82-d02e0db27823"
   },
   "outputs": [
    {
     "data": {
      "text/plain": [
       "\"Sinopsis\\n\\nBarney, Christmas y el resto del equipo deben enfrentarse a Stonebanks, cofundador del grupo, que posteriormente se convirtió en un reconocido y despiadado traficante de armas.\\n\\n\\n\\nTercera entrega de 'Los Mercenarios', todo un fenómeno para los amantes del cine de acción. En esta ocasión, Patrick Hughes ('Red Hill') dirige la cinta en la que, además de repetir nombres como Sylvester Stallone, Jason Statham o Arnold Schwarzenegger, se suman nuevas estrellas de Hollywood. Mel Gibson ('Arma letal'), Wesley Snipes ('Blade'), Kelsey Grammer ('Frasier') y Antonio Banderas ('Desperado') se apuntan a este festival de tiros, persecuciones, batallas sin fin y frases lapidarias. Además, Hugues presenta a quienes prometen ser iconos del género como Kellan Lutz ('Hércules: El origen de la leyenda'), Ronda Rousey ('Furious 7') o Glen Powell ('April Apocalypse').\\n\\n\\n\\nCabe destacar la presencia de Harrison Ford haciendo de enlace entre los mercenarios y el Gobierno. Esta función la había hecho Bruce Willis interpretando a Iglesia, pero sus pretensiones económicas eran demasiado elevadas. El éxito del filme, pese a ser el menos taquillero de los tres, fue suficiente para asegurar una nueva secuela.\""
      ]
     },
     "execution_count": 35,
     "metadata": {},
     "output_type": "execute_result"
    }
   ],
   "source": [
    "# Revisem el text d'aquesta mostra\n",
    "dades_faltants[\"text\"][45]"
   ]
  },
  {
   "cell_type": "markdown",
   "metadata": {},
   "source": [
    "Decidim, donada la tipologia del text, eliminar aquestes mostres que no aporten informació al nostre objectiu:"
   ]
  },
  {
   "cell_type": "code",
   "execution_count": 36,
   "metadata": {
    "id": "aJOSDeUmx9fB"
   },
   "outputs": [],
   "source": [
    "dades_faltants= dades_faltants[dades_faltants[\"url_short\"]!=\"expansion.com\"]\n",
    "dades_faltants= dades_faltants[dades_faltants[\"url_short\"]!=\"sincroguia.tv\"]"
   ]
  },
  {
   "cell_type": "markdown",
   "metadata": {
    "id": "hGOAsnyLPZZs"
   },
   "source": [
    "- **elpais.com**\n",
    "\n",
    "Descobrim que aquelles mostres que no tenen `publish_date` i que pertanyen a *elpais.com* són relatives a les seccions \"librotea\", secció de llibres i \"aprendemosjuntos\", magazine conjunt amb BBVA on el text de les quals és la transcripció del vídeo. "
   ]
  },
  {
   "cell_type": "code",
   "execution_count": 37,
   "metadata": {
    "colab": {
     "base_uri": "https://localhost:8080/",
     "height": 35
    },
    "executionInfo": {
     "elapsed": 514,
     "status": "ok",
     "timestamp": 1620835157123,
     "user": {
      "displayName": "QuimM",
      "photoUrl": "",
      "userId": "12670856906371401325"
     },
     "user_tz": -120
    },
    "id": "cKjyOE7qTUpi",
    "outputId": "cdb46586-3a16-4c7a-b139-f0a5140fc1a5"
   },
   "outputs": [
    {
     "data": {
      "text/plain": [
       "'https://aprendemosjuntos.elpais.com/especial/abrazar-a-nuestros-hijos-no-es-malcriarlos-rafa-guerrero/'"
      ]
     },
     "execution_count": 37,
     "metadata": {},
     "output_type": "execute_result"
    }
   ],
   "source": [
    "dades_faltants[\"url\"][7792]"
   ]
  },
  {
   "cell_type": "code",
   "execution_count": 38,
   "metadata": {
    "colab": {
     "base_uri": "https://localhost:8080/",
     "height": 154
    },
    "executionInfo": {
     "elapsed": 522,
     "status": "ok",
     "timestamp": 1620835169946,
     "user": {
      "displayName": "QuimM",
      "photoUrl": "",
      "userId": "12670856906371401325"
     },
     "user_tz": -120
    },
    "id": "uKbRbvbPTd0F",
    "outputId": "2f32f617-f29e-4398-dbad-80f37840855b"
   },
   "outputs": [
    {
     "data": {
      "text/plain": [
       "'39:50\\n\\nOtro aspecto muy importante de la autoestima es que seamos conscientes de que no viene ya dada genéticamente. “Qué mala suerte he tenido, que tengo autoestima muy baja”. Desde luego que hay factores y hay elementos que van a incidir para que uno tenga una mayor predisposición en un sentido o en otro sentido, seguro, pero lo que va a determinar en esencia la autoestima tiene que ver con la educación, con los valores y con los objetivos y las interpretaciones que hagamos mamá y papá. Y ya para acabar, me gusta utilizar un concepto que es el de la metáfora del bidón. Si sabemos que nuestra función como madres, padres, docentes, consiste en cubrir sus necesidades, pues imagínate que cada vez que mi hijo, independientemente de la edad que tenga, tiene una necesidad, si yo se la cubro de una manera suficientemente buena, es como si añadiera una sustancia, “responsina”, en ese bidón. Entonces, cada vez que tiene una necesidad, si yo se la cubro, le doy esa micra de “responsina” y entonces ese bidón que tiene una capacidad, pongamos de cien litros de “responsina”, a medida que yo voy cubriendo necesidades, se va rellenando. Si llegamos a un punto en el que es suficiente, podemos decir que esa persona, ese niño, ese adolescente, va a tener una suficiente autoestima, que suficiente autoestima no quiere decir que yo tenga la idea de que voy a hacer todo bien. Suficiente autoestima quiere decir que yo soy consciente de que hay cosas que puedo hacer bien o suficientemente bien o muy bien, y que hay otras cosas que no sé hacer y que no son mi fuerte. Entonces, lo que sí que es importante es que para que alcancemos ese mínimo en esa metáfora del bidón, es que cubramos sus necesidades.'"
      ]
     },
     "execution_count": 38,
     "metadata": {},
     "output_type": "execute_result"
    }
   ],
   "source": [
    "dades_faltants[\"text\"][7792] #es una transcripcio d'un video de aprendemosjuntos"
   ]
  },
  {
   "cell_type": "markdown",
   "metadata": {},
   "source": [
    "Decidim, donada la tipologia del text, eliminar aquestes mostres que no aporten informació al nostre objectiu:"
   ]
  },
  {
   "cell_type": "code",
   "execution_count": 39,
   "metadata": {
    "id": "agfJnRDvyv4e"
   },
   "outputs": [],
   "source": [
    "dades_faltants= dades_faltants[dades_faltants[\"url_short\"]!=\"elpais.com\"]"
   ]
  },
  {
   "cell_type": "markdown",
   "metadata": {
    "id": "MgULoBdhT4o0"
   },
   "source": [
    "- Web Scrapping en **Socialinvestor.es**\n"
   ]
  },
  {
   "cell_type": "code",
   "execution_count": 40,
   "metadata": {
    "id": "sRjSrcK9np_-"
   },
   "outputs": [
    {
     "name": "stdout",
     "output_type": "stream",
     "text": [
      "\n"
     ]
    }
   ],
   "source": [
    "dates=[]\n",
    "for url in dades_faltants[\"url\"][dades_faltants[\"url\"].str.match(\".*(socialinvestor\\.es)\")]:\n",
    "  try:\n",
    "    page = requests.get(url)\n",
    "    # parseamos el html usando BeautifulSoup y lo guardamos en la variable `soup`\n",
    "    soup = BeautifulSoup(page.text, 'html.parser')\n",
    "    \n",
    "    taula=soup.find( \"time\",{\"class\":\"entry-date published\"})\n",
    "\n",
    "    date= taula.text.strip()\n",
    "    for word, initial in l.items():\n",
    "        date = date.replace(word.lower(), initial)\n",
    "\n",
    "    dates.append( datetime.datetime.strptime(date, '%d %m %Y'))\n",
    "  except:\n",
    "    dates.append(pd.Timedelta(\"nan\"))"
   ]
  },
  {
   "cell_type": "markdown",
   "metadata": {},
   "source": [
    "Ara comprovem quantes `publish_date` no hem pogut aconseguir mitjançant Web Scrapping."
   ]
  },
  {
   "cell_type": "code",
   "execution_count": 41,
   "metadata": {
    "colab": {
     "base_uri": "https://localhost:8080/"
    },
    "executionInfo": {
     "elapsed": 496,
     "status": "ok",
     "timestamp": 1620892926159,
     "user": {
      "displayName": "QuimM",
      "photoUrl": "",
      "userId": "12670856906371401325"
     },
     "user_tz": -120
    },
    "id": "VK-70q-BupG4",
    "outputId": "6c81b3b1-3d55-44e3-d3b5-535932e3964a"
   },
   "outputs": [
    {
     "name": "stdout",
     "output_type": "stream",
     "text": [
      "Nombre de dades faltants: 0\n"
     ]
    }
   ],
   "source": [
    "print(\"Nombre de dades faltants: \",len([x for x in dates if type(x)==pd._libs.tslibs.nattype.NaTType])"
   ]
  },
  {
   "cell_type": "markdown",
   "metadata": {},
   "source": [
    "Aconseguim trobar totes les dates faltants. Procedim a imputar-les:"
   ]
  },
  {
   "cell_type": "code",
   "execution_count": 42,
   "metadata": {
    "id": "WXwcoKSFuwKV"
   },
   "outputs": [
    {
     "name": "stdout",
     "output_type": "stream",
     "text": [
      "\n"
     ]
    }
   ],
   "source": [
    "dades_faltants[\"publish_date\"][dades_faltants[\"url\"].str.match(\".*(socialinvestor\\.es)\")] = dates"
   ]
  },
  {
   "cell_type": "markdown",
   "metadata": {
    "id": "GzBLXf8iT4t5"
   },
   "source": [
    "- **Resum** del Web Scrapping\n",
    "\n",
    "D'un total de 2385 dates faltants, hem pogut recuperar 2052: un 86%. La resta de notícies no tenen `publish_date` i decidim eliminar-les per a tindre major certesa en la nostra anàlisi.\n",
    "\n",
    "Observem en esta taula el resultat d'emprar Web Scrapping per a obtindre `publish_date`:\n",
    "\n",
    "Mitjà | Abans Web Scrapping  | Després Web Scrapping\n",
    "--------------|--------------|-----------\n",
    "bolsamania.com              |  931 | 90\n",
    "estrategiasdeinversion.com  |  715 | 10\n",
    "hosteltur.com               |  397 | 78\n",
    "finanzas.com                |  218 | 153\n",
    "sincroguia.tv               |   48 | Eliminada\n",
    "expansion.com               |   45 | Eliminada\n",
    "elpais.com                  |   24 | Eliminada\n",
    "socialinvestor.es           |    5 | 0\n",
    "home.kpmg                   |    1 | 1\n",
    "eventosyconferenciasue.com  |    1 | 1"
   ]
  },
  {
   "cell_type": "markdown",
   "metadata": {},
   "source": [
    "## 3.3 Enllestiment de les dades <a class=\"anchor\" id=\"enllestiment\"></a>\n",
    "\n",
    "- La variable `data_def` recollirà tota la informació completa de les notícies"
   ]
  },
  {
   "cell_type": "code",
   "execution_count": 43,
   "metadata": {},
   "outputs": [
    {
     "name": "stdout",
     "output_type": "stream",
     "text": [
      "\n"
     ]
    }
   ],
   "source": [
    "data_def = pd.concat([data[data[\"publish_date\"].isnull()==False],dades_faltants[ dades_faltants[\"publish_date\"].isnull()==False]], axis=0)"
   ]
  },
  {
   "cell_type": "code",
   "execution_count": 44,
   "metadata": {
    "colab": {
     "base_uri": "https://localhost:8080/"
    },
    "executionInfo": {
     "elapsed": 587,
     "status": "ok",
     "timestamp": 1620894233381,
     "user": {
      "displayName": "QuimM",
      "photoUrl": "",
      "userId": "12670856906371401325"
     },
     "user_tz": -120
    },
    "id": "sgQrFAGM0xk2",
    "outputId": "4408967e-4b6a-4447-a876-954f64306fe5"
   },
   "outputs": [
    {
     "data": {
      "text/plain": [
       "(9412, 5)"
      ]
     },
     "execution_count": 44,
     "metadata": {},
     "output_type": "execute_result"
    }
   ],
   "source": [
    "data_def.shape"
   ]
  },
  {
   "cell_type": "markdown",
   "metadata": {},
   "source": [
    "Aquest data.frame ha sigut guardat per a no tindre que tornar a repetir el procés de *web scrapping*"
   ]
  },
  {
   "cell_type": "markdown",
   "metadata": {},
   "source": [
    "- Comprovem que efectivament, no tenim dades faltants en `publish_date`"
   ]
  },
  {
   "cell_type": "code",
   "execution_count": 45,
   "metadata": {
    "colab": {
     "base_uri": "https://localhost:8080/"
    },
    "executionInfo": {
     "elapsed": 421,
     "status": "ok",
     "timestamp": 1620894221001,
     "user": {
      "displayName": "QuimM",
      "photoUrl": "",
      "userId": "12670856906371401325"
     },
     "user_tz": -120
    },
    "id": "RxL-12Kt0Cmy",
    "outputId": "5c9ae91b-f1ba-436d-cc87-00c57a063f29"
   },
   "outputs": [
    {
     "data": {
      "text/plain": [
       "0"
      ]
     },
     "execution_count": 45,
     "metadata": {},
     "output_type": "execute_result"
    }
   ],
   "source": [
    "data_def['publish_date'].isnull().sum() "
   ]
  },
  {
   "cell_type": "markdown",
   "metadata": {},
   "source": [
    "- Creem una nova columna `year_quarter`, dels trimestres anuals,  que ens permetrà ordenar les notícies cronològicament més endavant."
   ]
  },
  {
   "cell_type": "code",
   "execution_count": 46,
   "metadata": {
    "executionInfo": {
     "elapsed": 693,
     "status": "ok",
     "timestamp": 1620915253729,
     "user": {
      "displayName": "QuimM",
      "photoUrl": "",
      "userId": "12670856906371401325"
     },
     "user_tz": -120
    },
    "id": "0BCNVFkWu-Q1"
   },
   "outputs": [],
   "source": [
    "data_def[\"year_quarter\"] = data_def[\"publish_date\"].dt.year.map(str)  + \"-\" + data_def[\"publish_date\"].dt.quarter.map(str)"
   ]
  },
  {
   "cell_type": "markdown",
   "metadata": {},
   "source": [
    "- Observem quina distribució tenen les notícies en els trimestres de cada any."
   ]
  },
  {
   "cell_type": "code",
   "execution_count": 47,
   "metadata": {},
   "outputs": [
    {
     "data": {
      "text/plain": [
       "2015-1       1\n",
       "2015-4       1\n",
       "2016-1       1\n",
       "2016-3       1\n",
       "2016-4       2\n",
       "2017-3       4\n",
       "2017-4      10\n",
       "2018-1      11\n",
       "2018-2      14\n",
       "2018-3      13\n",
       "2018-4      20\n",
       "2019-1      18\n",
       "2019-2      11\n",
       "2019-3       7\n",
       "2019-4       5\n",
       "2020-1       9\n",
       "2020-2      13\n",
       "2020-3      69\n",
       "2020-4    6504\n",
       "2021-1    2698\n",
       "Name: year_quarter, dtype: int64"
      ]
     },
     "execution_count": 47,
     "metadata": {},
     "output_type": "execute_result"
    }
   ],
   "source": [
    "data_def[\"year_quarter\"].value_counts().sort_index()"
   ]
  },
  {
   "cell_type": "markdown",
   "metadata": {},
   "source": [
    "- Veiem que la proporció per trimestres és molt desigual. Per tal d'analitzar mínimament l'evolució de les temàtiques al llarg del temps, decidim quedar-nos amb les notícies a partir del quart trimestre de 2017"
   ]
  },
  {
   "cell_type": "code",
   "execution_count": 48,
   "metadata": {},
   "outputs": [
    {
     "data": {
      "text/plain": [
       "2017-4      10\n",
       "2018-1      11\n",
       "2018-2      14\n",
       "2018-3      13\n",
       "2018-4      20\n",
       "2019-1      18\n",
       "2019-2      11\n",
       "2019-3       7\n",
       "2019-4       5\n",
       "2020-1       9\n",
       "2020-2      13\n",
       "2020-3      69\n",
       "2020-4    6504\n",
       "2021-1    2698\n",
       "Name: year_quarter, dtype: int64"
      ]
     },
     "execution_count": 48,
     "metadata": {},
     "output_type": "execute_result"
    }
   ],
   "source": [
    "data_def = data_def[data_def[\"publish_date\"] > datetime.datetime(2017, 9,30)]\n",
    "data_def[\"year_quarter\"].value_counts().sort_index()"
   ]
  },
  {
   "cell_type": "code",
   "execution_count": 49,
   "metadata": {},
   "outputs": [
    {
     "name": "stdout",
     "output_type": "stream",
     "text": [
      "Ara el tamany del dataset és:  (9402, 6)\n"
     ]
    }
   ],
   "source": [
    "print(\"Ara el tamany del dataset és: \", data_def.shape)"
   ]
  },
  {
   "cell_type": "markdown",
   "metadata": {
    "id": "yVUx4uCmg3y_"
   },
   "source": [
    "# 4. Preprocessament del text <a class=\"anchor\" id=\"preprocessament\"></a>\n",
    "\n",
    "## 4.1 Per a keyword extraction <a class=\"anchor\" id=\"keyword\"></a>\n",
    "\n",
    "Hem dissenyat un preprocessament que primerament extreu les 20 keywords més rellevants del text, per a posteriorment normalitzar-les.\n",
    "\n",
    "L'extracció de les keywords es realitza a través del model pre-entrenat TextRank i la normalització mitjançant una funció pròpia. \n",
    "\n",
    "Hem valorat que l'extracció de keywords ens permet tindre un corpus més específic per al nostre objectiu, rebutjant al mateix temps, paraules irrellevants. \n",
    "\n",
    "Al mateix temps, el tipus de dada que retorna la funció és un `string`, tal i com demana la llibreria `sklearn`\n"
   ]
  },
  {
   "cell_type": "code",
   "execution_count": 50,
   "metadata": {},
   "outputs": [],
   "source": [
    "nlp = spacy.load(\"es_core_news_md\")"
   ]
  },
  {
   "cell_type": "code",
   "execution_count": 51,
   "metadata": {
    "id": "9S_2GAUIiud5"
   },
   "outputs": [],
   "source": [
    "def unir_ngramas(texto):\n",
    "    \"\"\"Une todos los términos de un n-grama mediante '-'\n",
    "    para que formen un único término en el vocabulario\"\"\"\n",
    "    return [re.sub(r'\\s','-', ngram) for ngram in texto]\n",
    "    \n",
    "es = textacy.load_spacy_lang(\"es_core_news_md\", disable=(\"parser\",))\n",
    "\n",
    "def extraer_keywords(texto, topn=20):\n",
    "    \"\"\"Extrar las palabras clave de un texto mediante la\n",
    "    librería textacy\n",
    "    Devuelve los topn términos clave como lista de strings\"\"\"\n",
    "    #COMPLETAR\n",
    "    doc = textacy.make_spacy_doc(texto, lang=es)\n",
    "    return [kps for kps, weights in textacy.ke.textrank(doc, normalize=\"lemma\", topn=topn)]\n",
    "\n",
    "def normalize_document_sklearn(doc):\n",
    "    '''Funció pròpia de normalització del document'''\n",
    "    # eliminem del text els números i signes de puntuació    \n",
    "    doc = re.sub('[\\\\d\\\\!\\\\\"\\\\#\\\\$\\\\%\\\\&\\\\\\'\\\\(\\\\)\\\\*\\\\+\\\\,\\\\.\\\\/\\\\:\\\\;\\\\<\\\\=\\\\>\\\\?\\\\@\\\\[\\\\\\\\\\\\]\\\\^_\\\\`\\\\{\\\\|\\\\}\\\\~]', '', doc)\n",
    "\n",
    "    # tokenizamos el texto\n",
    "    tokens = nlp(doc)\n",
    "    # quitamos puntuación/espacios\n",
    "    filtered_tokens = [t.text.lower() for t in tokens if len(t.text)>3\n",
    "                                            and not t.is_punct \n",
    "                                            and not t.is_space\n",
    "                                            and not t.text in nlp.Defaults.stop_words] \n",
    " \n",
    "    return ' '.join(filtered_tokens)\n",
    "\n",
    "def normalize_corpus_keywords(corpus):\n",
    "    \"\"\" \"\"\"\n",
    "    for text in corpus:\n",
    "        keywords=extraer_keywords(text)\n",
    "        yield normalize_document_sklearn(\" \".join(unir_ngramas(keywords)))\n",
    "        "
   ]
  },
  {
   "cell_type": "markdown",
   "metadata": {},
   "source": [
    "## 4.2 Per al Topic Modeling <a class=\"anchor\" id=\"topic\"></a>\n",
    "\n",
    "El preprocessamnt que hem emprat per a normalitzar les notícies de cara al topic modeling selecciona paraules amb longitud de més de 3 caràcters i que no són stop-words.\n",
    "\n",
    "Com que el model LDA que volem fer servir és de la llibreria `gensim`, el tipus de dada que retorna la normalització és una llista de notícies normalitzades."
   ]
  },
  {
   "cell_type": "code",
   "execution_count": 52,
   "metadata": {},
   "outputs": [],
   "source": [
    "def normalize_document_gensim(doc):\n",
    "    '''Funció pròpia de normalització del document'''\n",
    "    # eliminem del text els números i signes de puntuació    \n",
    "    doc = re.sub('[\\\\d\\\\!\\\\\"\\\\#\\\\$\\\\%\\\\&\\\\\\'\\\\(\\\\)\\\\*\\\\+\\\\,\\\\.\\\\/\\\\:\\\\;\\\\<\\\\=\\\\>\\\\?\\\\@\\\\[\\\\\\\\\\\\]\\\\^_\\\\`\\\\{\\\\|\\\\}\\\\~]', '', doc)\n",
    "\n",
    "    # tokenizamos el texto\n",
    "    tokens = nlp(doc)\n",
    "    # quitamos puntuación/espacios\n",
    "    filtered_tokens = [t.text.lower() for t in tokens if len(t.text)>3\n",
    "                                            and not t.is_punct \n",
    "                                            and not t.is_space\n",
    "                                            and not t.text in nlp.Defaults.stop_words] \n",
    " \n",
    "    return filtered_tokens\n",
    "\n",
    "\n",
    "def normalize_corpus_gensim(corpus):\n",
    "    \"\"\" \"\"\"\n",
    "    return [normalize_document_gensim(text) for text in corpus]"
   ]
  },
  {
   "cell_type": "markdown",
   "metadata": {
    "id": "DMEn6oCmvYRN"
   },
   "source": [
    "# 5. Extracció de Característiques<a class=\"anchor\" id=\"extracció\"></a>\n",
    "\n",
    "En els següents apartats analitzem els canvis en el temps de les **paraules més rellevants** i els **tòpics** de les notícies. \n",
    "\n",
    "## 5.1 Evolució de les Keywords més importants <a class=\"anchor\" id=\"evolucio_keyword\"></a>\n",
    "\n",
    "En aquest apartat pretenim identificar les paraules més importants de manera global i observar l'evolució d'aquestes al llarg del temps a través d'un gràfic dinàmic. \n",
    "\n",
    "Per fer-ho, preprocessem el text extraient amb el model pre-entrenat *TextRank* les keywords de cada document i les normalitzem. Posteriorment, mitjançant un Bag of Words, fem un compteig i adaptem el dataframe a l'estructura desitjada.\n",
    "\n",
    "- Preprocessem el text"
   ]
  },
  {
   "cell_type": "code",
   "execution_count": 67,
   "metadata": {
    "id": "YqD__CuX2jMH"
   },
   "outputs": [],
   "source": [
    "corpus_noticies = normalize_corpus_keywords(data_def[\"text\"])"
   ]
  },
  {
   "cell_type": "markdown",
   "metadata": {},
   "source": [
    "- Creem la Bag of Words amb CountVectorizer de `sklearn`"
   ]
  },
  {
   "cell_type": "code",
   "execution_count": 68,
   "metadata": {},
   "outputs": [],
   "source": [
    "cv= CountVectorizer(token_pattern=r\"(?u)\\b\\w+(?:\\-\\w*)*\\b\", min_df=0.005)\n",
    "\n",
    "cv_matrix= cv.fit_transform(corpus_noticies)"
   ]
  },
  {
   "cell_type": "markdown",
   "metadata": {},
   "source": [
    "- Creació de la matriu amb les keywords"
   ]
  },
  {
   "cell_type": "code",
   "execution_count": 69,
   "metadata": {},
   "outputs": [],
   "source": [
    "df=pd.DataFrame(cv_matrix.toarray())"
   ]
  },
  {
   "cell_type": "markdown",
   "metadata": {},
   "source": [
    "- Afegim la correspondència de cada document amb el seu trimestre"
   ]
  },
  {
   "cell_type": "code",
   "execution_count": 70,
   "metadata": {},
   "outputs": [],
   "source": [
    "df[\"year_quarter\"]= list(data_def[\"year_quarter\"])"
   ]
  },
  {
   "cell_type": "markdown",
   "metadata": {},
   "source": [
    "- Agrupem les keywords de les notícies per trimestres"
   ]
  },
  {
   "cell_type": "code",
   "execution_count": 71,
   "metadata": {},
   "outputs": [],
   "source": [
    "df=df.groupby(\"year_quarter\").sum()"
   ]
  },
  {
   "cell_type": "markdown",
   "metadata": {},
   "source": [
    "- Trasposem el DataFrame perquè les columnes siguen els trimestres i les files les keywords"
   ]
  },
  {
   "cell_type": "code",
   "execution_count": 72,
   "metadata": {},
   "outputs": [],
   "source": [
    "df=df.transpose()"
   ]
  },
  {
   "cell_type": "markdown",
   "metadata": {},
   "source": [
    "- Afegim el nom de la keywords a la columna index"
   ]
  },
  {
   "cell_type": "code",
   "execution_count": 73,
   "metadata": {},
   "outputs": [],
   "source": [
    "vocab = cv.get_feature_names()\n",
    "df.index= vocab"
   ]
  },
  {
   "cell_type": "markdown",
   "metadata": {},
   "source": [
    "- Visualitzem el resultat"
   ]
  },
  {
   "cell_type": "code",
   "execution_count": 74,
   "metadata": {},
   "outputs": [
    {
     "data": {
      "text/html": [
       "<div>\n",
       "<style scoped>\n",
       "    .dataframe tbody tr th:only-of-type {\n",
       "        vertical-align: middle;\n",
       "    }\n",
       "\n",
       "    .dataframe tbody tr th {\n",
       "        vertical-align: top;\n",
       "    }\n",
       "\n",
       "    .dataframe thead th {\n",
       "        text-align: right;\n",
       "    }\n",
       "</style>\n",
       "<table border=\"1\" class=\"dataframe\">\n",
       "  <thead>\n",
       "    <tr style=\"text-align: right;\">\n",
       "      <th>year_quarter</th>\n",
       "      <th>2017-4</th>\n",
       "      <th>2018-1</th>\n",
       "      <th>2018-2</th>\n",
       "      <th>2018-3</th>\n",
       "      <th>2018-4</th>\n",
       "      <th>2019-1</th>\n",
       "      <th>2019-2</th>\n",
       "      <th>2019-3</th>\n",
       "      <th>2019-4</th>\n",
       "      <th>2020-1</th>\n",
       "      <th>2020-2</th>\n",
       "      <th>2020-3</th>\n",
       "      <th>2020-4</th>\n",
       "      <th>2021-1</th>\n",
       "    </tr>\n",
       "  </thead>\n",
       "  <tbody>\n",
       "    <tr>\n",
       "      <th>accionar</th>\n",
       "      <td>0</td>\n",
       "      <td>0</td>\n",
       "      <td>1</td>\n",
       "      <td>1</td>\n",
       "      <td>1</td>\n",
       "      <td>2</td>\n",
       "      <td>0</td>\n",
       "      <td>0</td>\n",
       "      <td>1</td>\n",
       "      <td>1</td>\n",
       "      <td>0</td>\n",
       "      <td>0</td>\n",
       "      <td>51</td>\n",
       "      <td>30</td>\n",
       "    </tr>\n",
       "    <tr>\n",
       "      <th>accionista</th>\n",
       "      <td>0</td>\n",
       "      <td>0</td>\n",
       "      <td>1</td>\n",
       "      <td>0</td>\n",
       "      <td>0</td>\n",
       "      <td>0</td>\n",
       "      <td>0</td>\n",
       "      <td>0</td>\n",
       "      <td>1</td>\n",
       "      <td>0</td>\n",
       "      <td>1</td>\n",
       "      <td>0</td>\n",
       "      <td>44</td>\n",
       "      <td>24</td>\n",
       "    </tr>\n",
       "    <tr>\n",
       "      <th>actividad</th>\n",
       "      <td>0</td>\n",
       "      <td>0</td>\n",
       "      <td>0</td>\n",
       "      <td>0</td>\n",
       "      <td>0</td>\n",
       "      <td>0</td>\n",
       "      <td>0</td>\n",
       "      <td>0</td>\n",
       "      <td>0</td>\n",
       "      <td>0</td>\n",
       "      <td>0</td>\n",
       "      <td>0</td>\n",
       "      <td>39</td>\n",
       "      <td>14</td>\n",
       "    </tr>\n",
       "    <tr>\n",
       "      <th>actividad-económico</th>\n",
       "      <td>0</td>\n",
       "      <td>0</td>\n",
       "      <td>0</td>\n",
       "      <td>0</td>\n",
       "      <td>0</td>\n",
       "      <td>0</td>\n",
       "      <td>0</td>\n",
       "      <td>0</td>\n",
       "      <td>0</td>\n",
       "      <td>0</td>\n",
       "      <td>0</td>\n",
       "      <td>2</td>\n",
       "      <td>60</td>\n",
       "      <td>22</td>\n",
       "    </tr>\n",
       "    <tr>\n",
       "      <th>administración-público</th>\n",
       "      <td>0</td>\n",
       "      <td>0</td>\n",
       "      <td>0</td>\n",
       "      <td>0</td>\n",
       "      <td>0</td>\n",
       "      <td>0</td>\n",
       "      <td>0</td>\n",
       "      <td>0</td>\n",
       "      <td>0</td>\n",
       "      <td>0</td>\n",
       "      <td>0</td>\n",
       "      <td>2</td>\n",
       "      <td>49</td>\n",
       "      <td>13</td>\n",
       "    </tr>\n",
       "    <tr>\n",
       "      <th>...</th>\n",
       "      <td>...</td>\n",
       "      <td>...</td>\n",
       "      <td>...</td>\n",
       "      <td>...</td>\n",
       "      <td>...</td>\n",
       "      <td>...</td>\n",
       "      <td>...</td>\n",
       "      <td>...</td>\n",
       "      <td>...</td>\n",
       "      <td>...</td>\n",
       "      <td>...</td>\n",
       "      <td>...</td>\n",
       "      <td>...</td>\n",
       "      <td>...</td>\n",
       "    </tr>\n",
       "    <tr>\n",
       "      <th>vivienda</th>\n",
       "      <td>0</td>\n",
       "      <td>1</td>\n",
       "      <td>0</td>\n",
       "      <td>0</td>\n",
       "      <td>1</td>\n",
       "      <td>0</td>\n",
       "      <td>0</td>\n",
       "      <td>0</td>\n",
       "      <td>0</td>\n",
       "      <td>0</td>\n",
       "      <td>0</td>\n",
       "      <td>1</td>\n",
       "      <td>31</td>\n",
       "      <td>16</td>\n",
       "    </tr>\n",
       "    <tr>\n",
       "      <th>wall-street</th>\n",
       "      <td>0</td>\n",
       "      <td>0</td>\n",
       "      <td>0</td>\n",
       "      <td>3</td>\n",
       "      <td>3</td>\n",
       "      <td>0</td>\n",
       "      <td>1</td>\n",
       "      <td>0</td>\n",
       "      <td>0</td>\n",
       "      <td>0</td>\n",
       "      <td>0</td>\n",
       "      <td>6</td>\n",
       "      <td>54</td>\n",
       "      <td>37</td>\n",
       "    </tr>\n",
       "    <tr>\n",
       "      <th>web-noticiasdebolsaes</th>\n",
       "      <td>9</td>\n",
       "      <td>9</td>\n",
       "      <td>13</td>\n",
       "      <td>11</td>\n",
       "      <td>17</td>\n",
       "      <td>10</td>\n",
       "      <td>7</td>\n",
       "      <td>5</td>\n",
       "      <td>4</td>\n",
       "      <td>1</td>\n",
       "      <td>3</td>\n",
       "      <td>9</td>\n",
       "      <td>73</td>\n",
       "      <td>38</td>\n",
       "    </tr>\n",
       "    <tr>\n",
       "      <th>zona-euro</th>\n",
       "      <td>0</td>\n",
       "      <td>0</td>\n",
       "      <td>0</td>\n",
       "      <td>0</td>\n",
       "      <td>0</td>\n",
       "      <td>0</td>\n",
       "      <td>0</td>\n",
       "      <td>0</td>\n",
       "      <td>0</td>\n",
       "      <td>0</td>\n",
       "      <td>0</td>\n",
       "      <td>1</td>\n",
       "      <td>55</td>\n",
       "      <td>33</td>\n",
       "    </tr>\n",
       "    <tr>\n",
       "      <th>único-versión</th>\n",
       "      <td>0</td>\n",
       "      <td>0</td>\n",
       "      <td>0</td>\n",
       "      <td>0</td>\n",
       "      <td>0</td>\n",
       "      <td>0</td>\n",
       "      <td>0</td>\n",
       "      <td>0</td>\n",
       "      <td>0</td>\n",
       "      <td>0</td>\n",
       "      <td>0</td>\n",
       "      <td>0</td>\n",
       "      <td>74</td>\n",
       "      <td>21</td>\n",
       "    </tr>\n",
       "  </tbody>\n",
       "</table>\n",
       "<p>242 rows × 14 columns</p>\n",
       "</div>"
      ],
      "text/plain": [
       "year_quarter            2017-4  2018-1  2018-2  2018-3  2018-4  2019-1  \\\n",
       "accionar                     0       0       1       1       1       2   \n",
       "accionista                   0       0       1       0       0       0   \n",
       "actividad                    0       0       0       0       0       0   \n",
       "actividad-económico          0       0       0       0       0       0   \n",
       "administración-público       0       0       0       0       0       0   \n",
       "...                        ...     ...     ...     ...     ...     ...   \n",
       "vivienda                     0       1       0       0       1       0   \n",
       "wall-street                  0       0       0       3       3       0   \n",
       "web-noticiasdebolsaes        9       9      13      11      17      10   \n",
       "zona-euro                    0       0       0       0       0       0   \n",
       "único-versión                0       0       0       0       0       0   \n",
       "\n",
       "year_quarter            2019-2  2019-3  2019-4  2020-1  2020-2  2020-3  \\\n",
       "accionar                     0       0       1       1       0       0   \n",
       "accionista                   0       0       1       0       1       0   \n",
       "actividad                    0       0       0       0       0       0   \n",
       "actividad-económico          0       0       0       0       0       2   \n",
       "administración-público       0       0       0       0       0       2   \n",
       "...                        ...     ...     ...     ...     ...     ...   \n",
       "vivienda                     0       0       0       0       0       1   \n",
       "wall-street                  1       0       0       0       0       6   \n",
       "web-noticiasdebolsaes        7       5       4       1       3       9   \n",
       "zona-euro                    0       0       0       0       0       1   \n",
       "único-versión                0       0       0       0       0       0   \n",
       "\n",
       "year_quarter            2020-4  2021-1  \n",
       "accionar                    51      30  \n",
       "accionista                  44      24  \n",
       "actividad                   39      14  \n",
       "actividad-económico         60      22  \n",
       "administración-público      49      13  \n",
       "...                        ...     ...  \n",
       "vivienda                    31      16  \n",
       "wall-street                 54      37  \n",
       "web-noticiasdebolsaes       73      38  \n",
       "zona-euro                   55      33  \n",
       "único-versión               74      21  \n",
       "\n",
       "[242 rows x 14 columns]"
      ]
     },
     "execution_count": 74,
     "metadata": {},
     "output_type": "execute_result"
    }
   ],
   "source": [
    "df"
   ]
  },
  {
   "cell_type": "markdown",
   "metadata": {},
   "source": [
    "- Guardem aquest dataframe per a realitzar en la plataforma *Flourish* un *bar chart race* per a veure l'evolució de les paraules clau al llarg del temps."
   ]
  },
  {
   "cell_type": "code",
   "execution_count": 75,
   "metadata": {},
   "outputs": [],
   "source": [
    "df.to_csv(\"data/bar_chart_race.csv\")"
   ]
  },
  {
   "cell_type": "markdown",
   "metadata": {},
   "source": [
    "-  Mostrem les keywords més rellevants "
   ]
  },
  {
   "cell_type": "code",
   "execution_count": 76,
   "metadata": {},
   "outputs": [
    {
     "data": {
      "text/html": [
       "<div>\n",
       "<style scoped>\n",
       "    .dataframe tbody tr th:only-of-type {\n",
       "        vertical-align: middle;\n",
       "    }\n",
       "\n",
       "    .dataframe tbody tr th {\n",
       "        vertical-align: top;\n",
       "    }\n",
       "\n",
       "    .dataframe thead th {\n",
       "        text-align: right;\n",
       "    }\n",
       "</style>\n",
       "<table border=\"1\" class=\"dataframe\">\n",
       "  <thead>\n",
       "    <tr style=\"text-align: right;\">\n",
       "      <th></th>\n",
       "      <th>keyword</th>\n",
       "      <th>total</th>\n",
       "    </tr>\n",
       "  </thead>\n",
       "  <tbody>\n",
       "    <tr>\n",
       "      <th>137</th>\n",
       "      <td>millón</td>\n",
       "      <td>1339</td>\n",
       "    </tr>\n",
       "    <tr>\n",
       "      <th>89</th>\n",
       "      <td>euro</td>\n",
       "      <td>643</td>\n",
       "    </tr>\n",
       "    <tr>\n",
       "      <th>87</th>\n",
       "      <td>españa</td>\n",
       "      <td>395</td>\n",
       "    </tr>\n",
       "    <tr>\n",
       "      <th>194</th>\n",
       "      <td>reino-unido</td>\n",
       "      <td>365</td>\n",
       "    </tr>\n",
       "    <tr>\n",
       "      <th>163</th>\n",
       "      <td>país</td>\n",
       "      <td>340</td>\n",
       "    </tr>\n",
       "    <tr>\n",
       "      <th>44</th>\n",
       "      <td>compañía</td>\n",
       "      <td>306</td>\n",
       "    </tr>\n",
       "    <tr>\n",
       "      <th>224</th>\n",
       "      <td>trimestre</td>\n",
       "      <td>304</td>\n",
       "    </tr>\n",
       "    <tr>\n",
       "      <th>104</th>\n",
       "      <td>gobierno</td>\n",
       "      <td>288</td>\n",
       "    </tr>\n",
       "    <tr>\n",
       "      <th>79</th>\n",
       "      <td>empresa</td>\n",
       "      <td>280</td>\n",
       "    </tr>\n",
       "    <tr>\n",
       "      <th>74</th>\n",
       "      <td>dólar</td>\n",
       "      <td>246</td>\n",
       "    </tr>\n",
       "  </tbody>\n",
       "</table>\n",
       "</div>"
      ],
      "text/plain": [
       "         keyword  total\n",
       "137       millón   1339\n",
       "89          euro    643\n",
       "87        españa    395\n",
       "194  reino-unido    365\n",
       "163         país    340\n",
       "44      compañía    306\n",
       "224    trimestre    304\n",
       "104     gobierno    288\n",
       "79       empresa    280\n",
       "74         dólar    246"
      ]
     },
     "execution_count": 76,
     "metadata": {},
     "output_type": "execute_result"
    }
   ],
   "source": [
    "pd.DataFrame({ \"keyword\":vocab,\"total\":np.sum(cv_matrix.toarray(),0)}).sort_values(\"total\", ascending=False).head(10)"
   ]
  },
  {
   "cell_type": "code",
   "execution_count": 79,
   "metadata": {},
   "outputs": [
    {
     "data": {
      "text/html": [
       "<div class=\"flourish-embed flourish-bar-chart-race\" data-src=\"visualisation/6245883\"><script src=\"https://public.flourish.studio/resources/embed.js\"></script></div>\n",
       "\n"
      ],
      "text/plain": [
       "<IPython.core.display.HTML object>"
      ]
     },
     "metadata": {},
     "output_type": "display_data"
    }
   ],
   "source": [
    "%%html\n",
    "<div class=\"flourish-embed flourish-bar-chart-race\" data-src=\"visualisation/6245883\"><script src=\"https://public.flourish.studio/resources/embed.js\"></script></div>"
   ]
  },
  {
   "cell_type": "markdown",
   "metadata": {},
   "source": [
    "## 5.2 Topic Modeling amb LDA <a class=\"anchor\" id=\"topic_lda\"></a>\n",
    "\n",
    "En aquest apartat fem una anàlisi dels tòpics presents en les notícies a través d'un modelatge amb l'algorisme LDA i comentem els resultats"
   ]
  },
  {
   "cell_type": "markdown",
   "metadata": {},
   "source": [
    "- Creem la llista de llistes que necessita `gensim` per a crear el diccionari"
   ]
  },
  {
   "cell_type": "code",
   "execution_count": 53,
   "metadata": {},
   "outputs": [],
   "source": [
    "corpus = normalize_corpus_gensim(data_def[\"text\"]) "
   ]
  },
  {
   "cell_type": "markdown",
   "metadata": {},
   "source": [
    "- Creem el diccionari amb el corpus i filtrem les paraules que apareixen en menys de 5 documents i les que ho fan en més del 20%"
   ]
  },
  {
   "cell_type": "code",
   "execution_count": 54,
   "metadata": {},
   "outputs": [],
   "source": [
    "diccionari = corpora.Dictionary(corpus)\n",
    "diccionari.filter_extremes(no_above=0.20, no_below=5)"
   ]
  },
  {
   "cell_type": "markdown",
   "metadata": {},
   "source": [
    "- Construïm el bag of words del model"
   ]
  },
  {
   "cell_type": "code",
   "execution_count": 55,
   "metadata": {},
   "outputs": [],
   "source": [
    "corpus_bow = [diccionari.doc2bow(doc) for doc in corpus]"
   ]
  },
  {
   "cell_type": "markdown",
   "metadata": {},
   "source": [
    "- Definim una funció per a evaluar el nombre de topis apropiats a través del valor de la coherència."
   ]
  },
  {
   "cell_type": "code",
   "execution_count": 56,
   "metadata": {},
   "outputs": [],
   "source": [
    "def evaluate_graph(dictionary, corpus, texts, limit, start=1, step=1):\n",
    "    \"\"\"\n",
    "    Function to display num_topics - LDA graph using c_v coherence\n",
    "    \n",
    "    Parameters:\n",
    "    ----------\n",
    "    dictionary : Gensim dictionary\n",
    "    corpus : Gensim corpus\n",
    "    limit : topic limit\n",
    "    start: min number of topics\n",
    "    step: step between topics number swept\n",
    "    \n",
    "    Returns:\n",
    "    -------\n",
    "    lm_list : List of LDA topic models\n",
    "    c_v : Coherence values corresponding to the LDA model with respective number of topics\n",
    "    \"\"\"\n",
    "    c_v = []\n",
    "    lm_list = []\n",
    "    n_topics = list(range(start, limit, step))\n",
    "    for num_topics in n_topics:\n",
    "        lm = LdaModel(corpus=corpus, num_topics=num_topics, id2word=dictionary)\n",
    "        lm_list.append(lm)\n",
    "        cm = CoherenceModel(model=lm, texts=texts, dictionary=dictionary, coherence='c_v')\n",
    "        c_v.append(cm.get_coherence())\n",
    "        \n",
    "    # Show graph\n",
    "    x = n_topics\n",
    "    plt.plot(x, c_v)\n",
    "    plt.xlabel(\"num_topics\")\n",
    "    plt.ylabel(\"Coherence score\")\n",
    "    plt.legend((\"c_v\"), loc='best')\n",
    "    plt.show()\n",
    "    \n",
    "    return lm_list, c_v, n_topics"
   ]
  },
  {
   "cell_type": "markdown",
   "metadata": {},
   "source": [
    "- Evaluem el nombre de tòpics"
   ]
  },
  {
   "cell_type": "code",
   "execution_count": 57,
   "metadata": {},
   "outputs": [
    {
     "data": {
      "image/png": "[encoded data removed]",
      "text/plain": [
       "<Figure size 432x288 with 1 Axes>"
      ]
     },
     "metadata": {
      "needs_background": "light"
     },
     "output_type": "display_data"
    }
   ],
   "source": [
    "lmlist, c_v, n = evaluate_graph(dictionary=diccionari, corpus=corpus_bow, texts=corpus, limit=10, step=1)"
   ]
  },
  {
   "cell_type": "markdown",
   "metadata": {},
   "source": [
    "Donat el gràfic, elegirem 5 tòpics per al nostre model\n",
    "\n",
    "- A través de l'algorisme LDA, creem el model"
   ]
  },
  {
   "cell_type": "code",
   "execution_count": 58,
   "metadata": {},
   "outputs": [],
   "source": [
    "ldamodel = LdaModel(corpus=corpus_bow, num_topics=5, id2word=diccionari)"
   ]
  },
  {
   "cell_type": "markdown",
   "metadata": {},
   "source": [
    "###  5.2.1 Visualització del model LDA <a class=\"anchor\" id=\"visualitzacio\"></a>\n",
    "\n",
    "Observem en dos dimensions els tòpics determinats pel model LDA"
   ]
  },
  {
   "cell_type": "code",
   "execution_count": 59,
   "metadata": {},
   "outputs": [
    {
     "data": {
      "text/html": [
       "\n",
       "<link rel=\"stylesheet\" type=\"text/css\" href=\"https://cdn.jsdelivr.net/gh/bmabey/pyLDAvis@3.3.1/pyLDAvis/js/ldavis.v1.0.0.css\">\n",
       "\n",
       "\n",
       "<div id=\"ldavis_el1771140260488822448911228675\"></div>\n",
       "<script type=\"text/javascript\">\n",
       "\n",
       "var ldavis_el1771140260488822448911228675_data = {\"mdsDat\": {\"x\": [-0.11468626037354777, 0.09673908282470745, 0.07640817030231446, -0.01633924240810759, -0.042121750345366596], \"y\": [0.006996338339657906, -0.000513259283306354, -0.01278095007143703, 0.08121329694479909, -0.07491542592971363], \"topics\": [1, 2, 3, 4, 5], \"cluster\": [1, 1, 1, 1, 1], \"Freq\": [26.75518373036148, 23.183588013618472, 17.07108046310672, 16.57216587518451, 16.41798191772881]}, \"tinfo\": {\"Term\": [\"vacuna\", \"inversi\\u00f3n\", \"inversores\", \"plazo\", \"dosis\", \"banco\", \"bolsa\", \"vacunas\", \"acciones\", \"trimestre\", \"pfizer\", \"trump\", \"capital\", \"biden\", \"renta\", \"valores\", \"fondos\", \"activos\", \"recuperaci\\u00f3n\", \"precio\", \"puntos\", \"d\\u00f3lares\", \"trading\", \"mercados\", \"bancos\", \"partido\", \"moderna\", \"invertir\", \"estrategias\", \"suscripci\\u00f3n\", \"gaga\", \"b\\u00e1rcenas\", \"extesorero\", \"ch\\u00f3fer\", \"rebus\", \"disparos\", \"kroos\", \"dict\\u00f3\", \"agresor\", \"andradas\", \"pacheco\", \"subsidiario\", \"negligencia\", \"bayern\", \"condenas\", \"bos\\u00e9\", \"auditorios\", \"escrutado\", \"valdebebas\", \"fianza\", \"providencia\", \"restauradores\", \"vestida\", \"ma\\u0301s\", \"borr\\u00e1s\", \"casta\\u00f1o\", \"supercopa\", \"mingueza\", \"acertijo\", \"modric\", \"koeman\", \"messi\", \"portero\", \"condenado\", \"pensilvania\", \"atl\\u00e9tico\", \"juez\", \"fiscal\\u00eda\", \"aforo\", \"wisconsin\", \"bar\\u00e7a\", \"prisi\\u00f3n\", \"delitos\", \"c\\u00e1rcel\", \"perimetral\", \"hija\", \"anticorrupci\\u00f3n\", \"polic\\u00eda\", \"castilla\", \"conseller\", \"abogado\", \"arag\\u00f3n\", \"medianoche\", \"comunidad\", \"madre\", \"le\\u00f3n\", \"juzgado\", \"capitolio\", \"nevada\", \"padre\", \"madrid\", \"hijo\", \"s\\u00e1bado\", \"sentencia\", \"catalu\\u00f1a\", \"bares\", \"hosteler\\u00eda\", \"tribunal\", \"valenciana\", \"trump\", \"casos\", \"baleares\", \"canarias\", \"justicia\", \"incidencia\", \"casa\", \"toque\", \"partido\", \"comunidades\", \"vida\", \"barcelona\", \"domingo\", \"sanidad\", \"medidas\", \"campa\\u00f1a\", \"situaci\\u00f3n\", \"familia\", \"contagios\", \"ciudad\", \"restricciones\", \"sociales\", \"n\\u00famero\", \"centro\", \"equipo\", \"salud\", \"semana\", \"viernes\", \"datos\", \"enero\", \"elecciones\", \"coronavirus\", \"lunes\", \"biden\", \"seguridad\", \"estados\", \"cierre\", \"tecnicas\", \"suscripcion\", \"suscriban\", \"desistimiento\", \"bitcoin\", \"antedicha\", \"contratacion\", \"establecieran\", \"reintegrar\\u00e1\", \"traiding\", \"wwwestrategiasdeinversioncom\", \"devengada\", \"contraprestaciones\", \"deseara\", \"caracter\", \"vincularse\", \"rellenado\", \"contratantes\", \"subjetivos\", \"macd\", \"calcular\\u00e1\", \"oscilador\", \"bitcoins\", \"criptodivisas\", \"indique\", \"gimeno\", \"directriz\", \"recuperaciones\", \"enterprise\", \"\\u00e1lvarez-pallete\", \"renuevan\", \"personalizadas\", \"aconsejemos\", \"suscripci\\u00f3n\", \"regir\\u00e1n\", \"resultara\", \"contrataci\\u00f3n\", \"perdiera\", \"trimestre\", \"trading\", \"usuario\", \"suscripciones\", \"neto\", \"profesional\", \"realice\", \"telef\\u00f3nica\", \"trader\", \"gratuitamente\", \"mensual\", \"pensiones\", \"soporte\", \"publicaciones\", \"crecimiento\", \"beneficio\", \"pago\", \"ventas\", \"servicio\", \"bajista\", \"interanual\", \"anuales\", \"d\\u00f3lares\", \"ingresos\", \"negocio\", \"dividendo\", \"precio\", \"clientes\", \"servicios\", \"tercer\", \"resistencia\", \"impacto\", \"plazo\", \"inversi\\u00f3n\", \"estrategias\", \"objetivo\", \"productos\", \"nivel\", \"an\\u00e1lisis\", \"alcista\", \"resultados\", \"corto\", \"ca\\u00edda\", \"banco\", \"recuperaci\\u00f3n\", \"datos\", \"econom\\u00eda\", \"puntos\", \"mercados\", \"actividad\", \"abengoa\", \"abenewco\", \"urbas\", \"abengoashares\", \"reg\\u00edstrese\", \"l\\u00f3pez-bravo\", \"nuez\", \"huracanes\", \"amundi\", \"equities\", \"socimi\", \"groupama\", \"cucharadas\", \"scytl\", \"grade\", \"finanzascom\", \"barcelona-el\", \"cucharadita\", \"soja\", \"elecnor\", \"vinagre\", \"felguera\", \"vitaldent\", \"margarida\", \"yield\", \"c\\u00edtricos\", \"urquijo\", \"vdos\", \"citadel\", \"minoritarios\", \"investments\", \"desc\\u00e1rgate\", \"vira\", \"gestoras\", \"service\", \"aceite\", \"gestora\", \"fluidra\", \"bankia\", \"caixabank\", \"hidr\\u00f3geno\", \"bonistas\", \"suez\", \"renta\", \"variable\", \"ence\", \"cellnex\", \"bonos\", \"carteras\", \"inversores\", \"liberbank\", \"banca\", \"morgan\", \"bancos\", \"bolsa\", \"fondos\", \"inversi\\u00f3n\", \"accionistas\", \"volatilidad\", \"rentabilidad\", \"capital\", \"activos\", \"sabadell\", \"valores\", \"acciones\", \"fusi\\u00f3n\", \"bbva\", \"fija\", \"operaci\\u00f3n\", \"santander\", \"banco\", \"plazo\", \"mercados\", \"deuda\", \"fondo\", \"ibex\", \"compa\\u00f1\\u00edas\", \"invertir\", \"riesgo\", \"europa\", \"precio\", \"corto\", \"entidad\", \"estrategias\", \"nivel\", \"an\\u00e1lisis\", \"pa\\u00edses\", \"plitidepsina\", \"arnm\", \"soriot\", \"janssen\", \"fosun\", \"rooms\", \"embarcar\", \"curevac\", \"oc\\u00e9anos\", \"auricular\", \"sola\", \"placebo\", \"lines\", \"reg\\u00edstrateiniciar\", \"kits\", \"monoclonales\", \"cansino\", \"bronce\", \"bourla\", \"l\\u00f3pez-belmonte\", \"tesoros\", \"cl\\u00ednicos\", \"transportation\", \"precl\\u00ednicos\", \"nature\", \"biontech\", \"atracciones\", \"extractos\", \"africana\", \"mol\\u00e9cula\", \"astrazeneca\", \"pfizer\", \"rovi\", \"galaxy\", \"viales\", \"medicamento\", \"c\\u00e9lula\", \"moderna\", \"ensayos\", \"ensayo\", \"vacuna\", \"dosis\", \"robinhood\", \"comparada\", \"medicamentos\", \"travel\", \"farmac\\u00e9utica\", \"cook\", \"eficacia\", \"anticuerpos\", \"f\\u00e1rmaco\", \"saludo\", \"vacunas\", \"sars-cov-\", \"oxford\", \"autorizada\", \"laboratorio\", \"iphone\", \"validez\", \"variante\", \"pacientes\", \"vacunaci\\u00f3n\", \"estudio\", \"original\", \"tratamiento\", \"efectividad\", \"virus\", \"traducci\\u00f3n\", \"fase\", \"coronavirus\", \"pa\\u00edses\", \"apple\", \"versi\\u00f3n\", \"reino\", \"poblaci\\u00f3n\", \"datos\", \"salud\", \"unido\", \"sesi\\u00f3n\", \"gracias\", \"semana\", \"viajes\", \"explica\", \"seguir\", \"seguridad\", \"este\", \"europa\", \"casos\", \"resultados\", \"importante\", \"vida\", \"europea\", \"kobe\", \"celtics\", \"azuaga\", \"mnuchin\", \"fisher\", \"lakers\", \"bryant\", \"kareem\", \"derogaci\\u00f3n\", \"eh-bildu\", \"playoffs\", \"abdul-jabbar\", \"barnier\", \"shaquille\", \"training\", \"gove\", \"sunak\", \"clippers\", \"mattarella\", \"rabobank\", \"conte\", \"showtime\", \"o\\u2019neal\", \"negociadores\", \"nuggets\", \"geoestrat\\u00e9gico\", \"manufactureros\", \"orb\\u00e1n\", \"otegi\", \"angeles\", \"enmiendas\", \"opep\", \"magic\", \"negociador\", \"dina\", \"quinteto\", \"maroto\", \"esquerra\", \"parlamento\", \"presupuestos\", \"anillos\", \"ministra\", \"brexit\", \"calvi\\u00f1o\", \"bildu\", \"podemos\", \"negociaciones\", \"coalici\\u00f3n\", \"enmienda\", \"congreso\", \"psoe\", \"bruselas\", \"ministro\", \"unidas\", \"reforma\", \"reuni\\u00f3n\", \"senado\", \"boris\", \"biden\", \"pacto\", \"iglesias\", \"s\\u00e1nchez\", \"europea\", \"estado\", \"paquete\", \"puntos\", \"recuperaci\\u00f3n\", \"semana\", \"ejecutivo\", \"reino\", \"eeuu\", \"europeos\", \"unido\", \"medidas\", \"pol\\u00edtica\", \"econom\\u00eda\", \"comisi\\u00f3n\", \"trump\", \"pa\\u00edses\", \"diciembre\", \"plan\", \"europa\", \"coronavirus\", \"enero\", \"elecciones\", \"econ\\u00f3mica\", \"partido\", \"estados\", \"consejo\", \"situaci\\u00f3n\"], \"Freq\": [2826.0, 4394.0, 2548.0, 4490.0, 1287.0, 2707.0, 2252.0, 1861.0, 2450.0, 2228.0, 900.0, 2365.0, 2587.0, 1924.0, 1525.0, 2164.0, 2145.0, 1760.0, 2643.0, 2973.0, 3422.0, 3510.0, 1306.0, 2635.0, 1503.0, 1525.0, 755.0, 1592.0, 1855.0, 876.0, 47.54802497656721, 214.77212089412416, 95.87518098533022, 23.836242917265857, 21.989656288186435, 33.24853562156124, 48.542308599014596, 22.29581198082909, 17.31008329861309, 47.69728750121439, 20.993853179631614, 20.50298651390355, 23.394097369608524, 32.093333853574215, 22.84809743746835, 24.908676284211843, 15.573918887409874, 22.73358796802718, 39.07519607421178, 29.58428034285974, 32.8127669336335, 19.2925352346656, 20.773160277329808, 68.96376596489097, 13.569864093542952, 30.446530586413726, 36.77808596587716, 21.388996372192214, 13.591118216840902, 30.479290872954234, 99.52770176271291, 147.86199022265785, 77.93117929201603, 133.39952145202386, 159.9600887908953, 103.5879928282731, 433.9065120354564, 306.6647453982542, 287.9989462878911, 70.41644035122087, 192.03476327203808, 206.07265607208222, 207.11276507063326, 195.2406132562522, 226.6281977079369, 222.89089292704003, 85.83047276603564, 446.3267416584716, 396.1819398338941, 72.6627057973756, 231.56981562542182, 270.62598906208086, 137.8977566446383, 1578.665757055132, 389.7570211666514, 419.44445842496106, 200.95200449640785, 240.00503932241875, 125.71137012131652, 432.6417017634649, 2305.908348056849, 326.17657444555437, 583.9618596962, 384.3765457698072, 797.7526582674053, 328.87262438591745, 527.231289560263, 579.2486960998089, 332.1751070440027, 1340.8529957544386, 1573.2979025265026, 410.33640960086984, 563.9747885349897, 484.30794925133887, 551.2046287343131, 1127.636579538252, 395.04795482479255, 865.9558965259132, 746.0376543728488, 1051.6733008194287, 708.9158282669774, 588.4024789647732, 737.3917618150977, 1367.721894225079, 585.4654700799402, 1227.3889991808107, 565.2653719483883, 668.4001842725188, 696.0008273971303, 850.8659879345416, 728.2244281232079, 847.7593280106527, 711.299246016535, 730.0644178576842, 864.7722583642296, 1070.601215434927, 737.2096891846933, 997.2461387711297, 821.8591143883106, 690.9069785600068, 928.347756376474, 738.0848467569577, 731.9826569750925, 773.1140664871899, 719.2732434059025, 699.28245240985, 247.51193204942115, 160.70376518882512, 86.84957289940108, 247.61611266486804, 248.55676001732147, 74.78175950659549, 74.78175950659549, 74.78175950659549, 74.78175950659549, 74.78175950659549, 74.78175950659549, 88.71483040873946, 74.68950066461515, 74.78157963674839, 75.64053010464383, 91.03966257224117, 79.66306022270889, 77.73387696970714, 83.84147993986839, 49.59764620039378, 91.00565278154936, 53.25074523687382, 35.40547997827983, 74.31719166547636, 91.01407788518806, 38.836162754012825, 144.29058408156516, 33.63293098553957, 27.982956477795913, 31.42391701659285, 87.59039204650769, 102.5822416218939, 68.71960604940234, 809.2420974145671, 83.97202228010791, 85.13059274452752, 871.7536899503567, 138.25501538777505, 1708.1169370416521, 1030.0102611160871, 1046.1015039761935, 217.77849660912554, 357.30595446412946, 1061.1855908091784, 190.26147498328683, 777.8421750355789, 157.63596263484533, 364.35109663578606, 337.85457018493037, 595.733365625758, 624.4900934066513, 278.5800593136339, 1466.1296569826982, 600.9021055523492, 878.5370567413213, 906.8291735123322, 1322.2955969626894, 506.09394664451526, 277.53969211794197, 496.4094087259348, 1996.8587505626344, 1223.9855879754143, 1153.700279660053, 410.9014418473738, 1519.8350520373215, 1060.3843785622057, 1323.4640314895246, 740.6499255544461, 619.149944710557, 948.6175724435558, 1888.7115589097264, 1842.9088103410845, 989.6601302615413, 1175.01321612974, 1003.4229075872342, 1412.2199297817565, 1100.9504683499872, 673.0657730967126, 1021.7546668213103, 992.5698200251164, 844.0657056322356, 1035.58363625074, 999.4339987409912, 1038.2421413702211, 954.9213630533583, 975.1862770666603, 938.3886476405021, 897.4179802030098, 380.1749680397686, 116.3608561298093, 48.950358988737534, 102.4074302605182, 141.78267195110524, 35.31125387808721, 45.554656419069715, 36.4317387756329, 44.07502310235334, 37.67739835251089, 49.63309673501759, 51.86388408449786, 24.706136115177216, 27.95156814450345, 27.731389976138196, 28.968890881714874, 33.41202380483136, 16.555521501776038, 25.026681834064124, 29.24246066655715, 24.677435075063677, 110.06494723038863, 17.73527861654191, 23.222818151778988, 80.79013001514787, 18.003888300081684, 118.56379274225647, 23.91521650657718, 25.12364817226406, 144.79782018511347, 121.3718696603666, 225.89688835497864, 83.86815299656125, 171.540026893272, 78.16406563679607, 114.39347201307571, 256.4625769009191, 114.85226482781178, 460.3053264385657, 473.3854354169521, 211.78969802085035, 43.86575053455546, 65.14118920780459, 1033.9425228187513, 516.0808854784773, 94.12208764049636, 262.2438961504443, 551.9071157486709, 308.3757573727278, 1515.7036290022754, 255.27488627298845, 526.3094010932541, 238.4798269764817, 901.6258273947068, 1257.0799366260862, 1197.9424964175378, 2139.949381334805, 551.0587410814587, 451.8409062813186, 659.6342116111844, 1338.2822384771055, 967.4220996317831, 572.6411179753886, 1131.3573972180718, 1225.6347645052185, 395.62049833762234, 678.1930484949104, 457.7525735494786, 692.4971276993257, 652.9705479539379, 1212.1652855878963, 1586.8229998406998, 1057.2724235313601, 767.3370645646881, 803.112223671671, 906.7921947416535, 814.776877349019, 713.5549338156123, 909.6687091376015, 882.0986727799623, 810.341696481502, 669.551680531518, 589.0918813429801, 634.6331183371107, 670.407938382429, 624.3322978223856, 638.4787557355303, 55.008315134115485, 28.474688967758915, 35.807071726290125, 93.25583291190405, 46.24056586337186, 25.14454413098739, 26.671535855400556, 60.232826855016384, 28.166538086401314, 19.999858282213065, 21.88805998865303, 52.01561573729916, 30.74490925595986, 90.80359652059083, 19.676205096913606, 46.39698008574348, 15.66835872779601, 63.70732299506003, 15.402100196694152, 18.04228771931868, 24.58373796773626, 143.22572568848537, 17.791633066514766, 13.235283888746652, 83.37548700307488, 347.20334633514364, 11.831182991940569, 52.04435999432197, 20.22025277716083, 37.11908325466065, 355.879719829447, 804.9219784533542, 216.79526549843908, 94.04301102809629, 92.47331435857863, 177.85849756974213, 35.41632417866191, 653.6799737240212, 310.71374379446337, 294.2213187444461, 2293.0587292952528, 1044.978213795424, 77.06134730607874, 306.9906604897752, 258.39236610180177, 158.74747019064566, 270.0349988023052, 109.1127367881318, 409.87325314464266, 175.6677418575404, 128.6889078590618, 124.29036280086703, 1164.8931030601939, 146.613649619106, 135.23422564751897, 281.2395503052414, 195.57139893852317, 211.38151175187858, 269.16179877826477, 201.94440547500457, 470.3074338029692, 578.6667305901475, 528.6225316719549, 441.2134935589143, 295.4179726623278, 193.21672535911242, 686.861862645859, 269.0457520050562, 452.10740753739566, 1021.8987097533308, 965.7938698729165, 312.5184655234601, 417.15323896444625, 667.2224531808778, 478.19519942558696, 867.7871137467656, 673.4209678311057, 626.5359731086405, 433.1253153029694, 513.385617093294, 730.8158791789746, 490.98103993214875, 526.8450267273855, 492.73328243433195, 520.8225262930009, 507.129583070988, 527.2082051947184, 510.08031040096535, 461.4245172129355, 459.5033784143434, 451.8623124733986, 448.83748472202484, 176.51309687825616, 159.46149519538957, 56.742091897223936, 57.36705862817977, 110.92827015541802, 214.93921395880227, 70.94810504109383, 30.86488020781672, 24.242629621033323, 31.83973639149489, 41.465293521444025, 24.37150139991678, 47.61991324474606, 25.79414026715932, 27.831201440164985, 19.162741327907444, 20.159696476633737, 17.337601701620436, 24.202632646999593, 30.842456426578195, 73.68636921562599, 14.083455536970035, 13.94957521980949, 43.820608324015915, 16.49219687081252, 16.6092924705577, 12.332585451065532, 17.23136387915753, 14.789921834570016, 18.44558921453775, 165.95603569884108, 117.86569180243129, 104.14007543522003, 54.53184382665222, 33.409375602412226, 27.890409699624726, 114.73562542251419, 77.65524092563543, 213.16760786206035, 581.3967890180036, 69.61541096144586, 494.29432396747217, 453.7391654115326, 188.99243810551195, 99.85395893651808, 456.2137807425775, 424.1877501648921, 192.66433355710993, 148.16554469362757, 671.2221053963854, 332.1718835887558, 357.03604071049364, 674.7360510142195, 302.80395509738946, 394.12706389294976, 479.13448234843844, 398.0225347866624, 169.45353415334014, 959.0507654224483, 263.4908121310497, 264.8903291806916, 497.1439427748078, 919.2950164509668, 806.2995396324959, 382.5638317015239, 1303.0684381697656, 1026.5842447202097, 1355.652077795216, 636.4683729024063, 841.6863350602002, 861.7802441572824, 570.8549929257483, 844.3160061764418, 1141.3843850070825, 694.472035597681, 932.8912566188577, 640.2367909879017, 816.5634663010692, 971.8548515079224, 723.6699693066702, 785.3270626084604, 858.0615955548903, 887.3053449059827, 735.5764112013969, 592.1084372282701, 623.0354222916915, 584.4867361401447, 665.8207102166333, 577.5333972260128, 663.5075501866305], \"Total\": [2826.0, 4394.0, 2548.0, 4490.0, 1287.0, 2707.0, 2252.0, 1861.0, 2450.0, 2228.0, 900.0, 2365.0, 2587.0, 1924.0, 1525.0, 2164.0, 2145.0, 1760.0, 2643.0, 2973.0, 3422.0, 3510.0, 1306.0, 2635.0, 1503.0, 1525.0, 755.0, 1592.0, 1855.0, 876.0, 49.3070092422425, 223.28701876030223, 99.79345387187513, 24.814152941612086, 22.954694850475242, 34.719469899543235, 50.738472805786124, 23.311049765284988, 18.111498187914965, 49.911917361744685, 22.007204346025944, 21.494180183049664, 24.56992083134232, 33.75199796547443, 24.037794414298546, 26.213822056838524, 16.39532281616063, 23.932748973943713, 41.174645109583004, 31.186989334201268, 34.610969274288614, 20.37469433894505, 21.95156747387965, 72.90128559854799, 14.348674146580999, 32.217464320372706, 38.937447760508014, 22.652686390609553, 14.400665644586027, 32.300821149105836, 105.83496391355453, 158.34145057006077, 82.9866162852309, 143.37944588097014, 174.7377873681441, 112.4867855387054, 489.37469581635867, 343.8224542438503, 322.71232735196554, 76.17444239145658, 214.36349694524478, 230.75401754404513, 232.12566343936325, 218.7165943626527, 256.9040000039439, 254.02907573868808, 94.26513244781482, 526.1790406732516, 471.2861846089163, 79.6024378451609, 269.9513424047226, 321.5280002461771, 157.6346421213718, 2121.381715746405, 476.2063658680085, 517.4314178129476, 235.69420599185932, 287.55285768022077, 143.1208618455656, 557.5868414359871, 3561.1527222004343, 410.2586296779762, 802.076437949034, 499.29297919182477, 1147.6582711093404, 421.1288274984648, 737.5542058903292, 830.0611795572564, 431.2298894015301, 2365.8885478055618, 2963.5935103651987, 560.5399552480736, 845.7730464765172, 696.2005761402161, 825.0815203499653, 2079.315351561844, 541.9435443622298, 1525.368535741473, 1267.1261438914698, 2072.891551620633, 1227.1795681419458, 948.5381560284545, 1342.4997653052537, 3460.996573744241, 992.5370307157373, 3197.811657412773, 945.4724561302803, 1258.5764415287656, 1346.726382989478, 1895.5259369767045, 1511.6072538747128, 2077.0856145382577, 1488.7500135700259, 1610.1715358890547, 2295.80184965048, 3964.7108026766173, 1726.796385083016, 3609.0986674587534, 2429.3252571794173, 1527.2688343715904, 3650.03796134872, 1906.021934941054, 1924.757112889773, 2418.5771099510544, 2420.6628064728334, 2232.386437196016, 249.2090237932756, 161.86011504594697, 87.96308380047537, 250.856080379096, 252.0909214860871, 75.8457061289204, 75.8457061289204, 75.8457061289204, 75.8457061289204, 75.8457061289204, 75.8457061289204, 90.01147056504955, 75.8571012799821, 76.01888629758679, 76.93512110755842, 92.61729391385465, 81.0941224599773, 79.18217345579018, 85.47900486565655, 50.80495026464425, 93.26080170464259, 54.63368416387378, 36.38743222604756, 76.39983808320089, 94.75686436086141, 40.48675421142733, 150.52030377263029, 35.139015369846916, 29.26627320401686, 32.91920654992789, 91.86344780298336, 108.06082080289316, 72.30418647849915, 876.9658499098175, 88.62121864716983, 89.93258717253812, 1059.088770937254, 150.68377712057435, 2228.6468407404805, 1306.5403278561846, 1347.4939641693206, 245.77728380087933, 424.15132921909986, 1431.1672116648517, 214.5857688368901, 1029.6294347316757, 174.79363979479004, 453.86382411822467, 417.252728860199, 802.7018691479572, 861.7513846941571, 341.3090295922334, 2341.8331950631596, 835.6177259218261, 1300.5920459578006, 1354.0565840646038, 2126.116198496116, 691.7376419686564, 342.37843033533284, 680.8106117431812, 3510.0858932124856, 1984.055523887625, 2002.7005185646199, 556.4140618362546, 2973.873477986689, 1882.422177598426, 2537.3418902493386, 1211.017253493718, 963.8931247943897, 1725.1924800034446, 4490.954208254829, 4394.672535257285, 1855.6573790989232, 2480.2283745535046, 1994.1259452288023, 3366.8422978827857, 2316.8809474807035, 1096.0992993030861, 2216.269223550904, 2157.4684764105023, 1697.055281267055, 2707.031826709391, 2643.0830347966094, 3609.0986674587534, 2705.0597273756516, 3422.2162649193124, 2635.0436618710405, 2215.208721716143, 386.7203722370538, 119.08611467504699, 50.19146603205016, 105.07194163731896, 145.61108281173478, 36.301031132037906, 47.22806743584442, 37.8171181840262, 45.83699623161928, 39.189615416455716, 51.7313879859536, 54.194660496339594, 25.922725249716724, 29.35931701823123, 29.178571610894632, 30.562059527902818, 35.27136820546531, 17.491450455020896, 26.520865047348657, 31.00614890832634, 26.20680975365024, 116.96108883082745, 18.849108105448988, 24.687393662750104, 85.89329207388752, 19.211655080298282, 126.59988291863294, 25.558185358205694, 26.99679546227205, 156.0351769825979, 132.7060036192431, 250.37451594111096, 91.33092561916368, 189.6517198188784, 85.08699226166408, 127.86447725366585, 303.7793492272847, 131.66809381814576, 579.8664529404037, 606.6699143037735, 258.58771592915576, 47.80711977928477, 73.52974558309685, 1525.458260686863, 710.9292970605594, 109.75740487429854, 339.17179127925124, 775.4085598578575, 417.2365893838382, 2548.7038346916647, 337.6727682616223, 778.9703381491197, 318.4812332966777, 1503.2896590070425, 2252.428039310955, 2145.8256321357335, 4394.672535257285, 863.8783530816929, 681.7208379867641, 1078.406337262886, 2587.334883931174, 1760.718234257994, 917.549226239224, 2164.156952331982, 2450.265916867364, 587.1237158956724, 1172.293267329092, 708.9211208513497, 1223.8388906699643, 1137.4822357459277, 2707.031826709391, 4490.954208254829, 2635.0436618710405, 1696.2987667634666, 1836.8153134491765, 2316.253682451898, 1989.1297897766203, 1592.7024356404181, 2551.7601874415554, 3344.771097379188, 2973.873477986689, 2157.4684764105023, 1266.0079168763227, 1855.6573790989232, 3366.8422978827857, 2316.8809474807035, 3375.2086364817237, 56.570960962765895, 29.50473427667351, 37.21473678730583, 97.02229323458141, 48.137112872368746, 26.36434061972649, 28.011973446046028, 63.34809010145006, 29.636289135297133, 21.148753373541386, 23.196404889354024, 55.191642962662655, 32.670484373758214, 96.55452848439073, 20.943615407992375, 49.5705805971261, 16.74373948323138, 68.16322899747163, 16.497012431867972, 19.351265081142405, 26.41228935101858, 153.8858421234872, 19.116346831763412, 14.231940363775381, 89.69107679394669, 373.7800700691928, 12.739054365631091, 56.10686035121405, 21.79946730114957, 40.122895394974215, 386.4723674161502, 900.2899890490238, 239.4069643254303, 103.07141542969894, 101.4471388561947, 199.36448493928236, 38.47355725363024, 755.1495635655664, 355.1475046129927, 339.46496854761455, 2826.3622006131795, 1287.4781188738998, 85.49865818539222, 363.75863908678036, 303.56061781568565, 182.3234441271154, 322.52819063912517, 124.84291158527837, 518.8356245704855, 211.03786762065212, 151.1383104816184, 146.0508451009334, 1861.2579394816948, 176.63977679273486, 161.5400534567001, 378.07527647302527, 249.17214738645418, 273.52491883938563, 374.1152854454073, 267.16778113601316, 817.0090014198834, 1127.5848034557007, 1010.2411292703486, 801.1549757947304, 467.7352904035009, 263.44149727999763, 1538.0334405370427, 423.01628635241474, 963.7427681281039, 3650.03796134872, 3375.2086364817237, 554.8241999889792, 908.8424633758494, 2069.6726048154774, 1201.9964065244822, 3609.0986674587534, 2295.80184965048, 2138.6772185427817, 1087.5384326998333, 1636.0841758920287, 3964.7108026766173, 1516.4855065223462, 1821.938567345866, 1806.8240987975482, 2418.5771099510544, 2317.905470382077, 3344.771097379188, 2963.5935103651987, 2216.269223550904, 2303.614731354897, 2072.891551620633, 2034.2723587826538, 179.1304840679244, 162.25536804369068, 57.80552031613278, 58.535240390441956, 113.73929942743473, 220.51517876652542, 73.24315359175418, 31.89009011823052, 25.192832415948153, 33.18021701178037, 43.225535477133015, 25.410464744524806, 49.748301445124284, 26.955274872871083, 29.32037898868362, 20.23978937692294, 21.36411450952238, 18.402591008924485, 25.723630402918083, 32.812535297746464, 78.68570218419997, 15.069645612898695, 15.025139826450962, 47.28306702175783, 17.803727247024625, 17.952946090144813, 13.333704590079048, 18.670667796546162, 16.03574923765727, 20.008698806575765, 180.44599095558684, 129.03549349278333, 114.94189154407752, 60.10658113676203, 36.46590102805889, 30.631906030448462, 132.00038111026387, 89.55808659020235, 260.0354639878401, 760.4676051282747, 80.44046252788567, 685.1519358315978, 630.9469206321738, 244.44093915332022, 121.65424132729163, 659.8667967192988, 614.3886665928699, 254.39483095120372, 189.90959591982391, 1055.1963765855974, 477.7908253071012, 538.0090265957372, 1149.634037620162, 447.9466591402071, 611.241442729404, 774.0344238039324, 637.5638701335185, 228.02727067772574, 1924.757112889773, 394.9723954949785, 398.25488851412155, 910.3404580890667, 2034.2723587826538, 1741.1525862993726, 654.7635561834163, 3422.2162649193124, 2643.0830347966094, 3964.7108026766173, 1375.9826407007076, 2069.6726048154774, 2148.695899025495, 1201.3526176323944, 2138.6772185427817, 3460.996573744241, 1651.768791095411, 2705.0597273756516, 1513.4333808448894, 2365.8885478055618, 3375.2086364817237, 2247.362011070504, 2676.8230709979307, 3344.771097379188, 3650.03796134872, 2429.3252571794173, 1527.2688343715904, 1836.9290221673791, 1525.368535741473, 2420.6628064728334, 1535.3751692393241, 3197.811657412773], \"Category\": [\"Default\", \"Default\", \"Default\", \"Default\", \"Default\", \"Default\", \"Default\", \"Default\", \"Default\", \"Default\", \"Default\", \"Default\", \"Default\", \"Default\", \"Default\", \"Default\", \"Default\", \"Default\", \"Default\", \"Default\", \"Default\", \"Default\", \"Default\", \"Default\", \"Default\", \"Default\", \"Default\", \"Default\", \"Default\", \"Default\", \"Topic1\", \"Topic1\", \"Topic1\", \"Topic1\", \"Topic1\", \"Topic1\", \"Topic1\", \"Topic1\", \"Topic1\", \"Topic1\", \"Topic1\", \"Topic1\", \"Topic1\", \"Topic1\", \"Topic1\", \"Topic1\", \"Topic1\", \"Topic1\", \"Topic1\", \"Topic1\", \"Topic1\", \"Topic1\", \"Topic1\", \"Topic1\", \"Topic1\", \"Topic1\", \"Topic1\", \"Topic1\", \"Topic1\", \"Topic1\", \"Topic1\", \"Topic1\", \"Topic1\", \"Topic1\", \"Topic1\", \"Topic1\", \"Topic1\", \"Topic1\", \"Topic1\", \"Topic1\", \"Topic1\", \"Topic1\", \"Topic1\", \"Topic1\", \"Topic1\", \"Topic1\", \"Topic1\", \"Topic1\", \"Topic1\", \"Topic1\", \"Topic1\", \"Topic1\", \"Topic1\", \"Topic1\", \"Topic1\", \"Topic1\", \"Topic1\", \"Topic1\", \"Topic1\", \"Topic1\", \"Topic1\", \"Topic1\", \"Topic1\", \"Topic1\", \"Topic1\", \"Topic1\", \"Topic1\", \"Topic1\", \"Topic1\", \"Topic1\", \"Topic1\", \"Topic1\", \"Topic1\", \"Topic1\", \"Topic1\", \"Topic1\", \"Topic1\", \"Topic1\", \"Topic1\", \"Topic1\", \"Topic1\", \"Topic1\", \"Topic1\", \"Topic1\", \"Topic1\", \"Topic1\", \"Topic1\", \"Topic1\", \"Topic1\", \"Topic1\", \"Topic1\", \"Topic1\", \"Topic1\", \"Topic1\", \"Topic1\", \"Topic1\", \"Topic1\", \"Topic1\", \"Topic1\", \"Topic1\", \"Topic1\", \"Topic1\", \"Topic1\", \"Topic1\", \"Topic1\", \"Topic1\", \"Topic2\", \"Topic2\", \"Topic2\", \"Topic2\", \"Topic2\", \"Topic2\", \"Topic2\", \"Topic2\", \"Topic2\", \"Topic2\", \"Topic2\", \"Topic2\", \"Topic2\", \"Topic2\", \"Topic2\", \"Topic2\", \"Topic2\", \"Topic2\", \"Topic2\", \"Topic2\", \"Topic2\", \"Topic2\", \"Topic2\", \"Topic2\", \"Topic2\", \"Topic2\", \"Topic2\", \"Topic2\", \"Topic2\", \"Topic2\", \"Topic2\", \"Topic2\", \"Topic2\", \"Topic2\", \"Topic2\", \"Topic2\", \"Topic2\", \"Topic2\", \"Topic2\", \"Topic2\", \"Topic2\", \"Topic2\", \"Topic2\", \"Topic2\", \"Topic2\", \"Topic2\", \"Topic2\", \"Topic2\", \"Topic2\", \"Topic2\", \"Topic2\", \"Topic2\", \"Topic2\", \"Topic2\", \"Topic2\", \"Topic2\", \"Topic2\", \"Topic2\", \"Topic2\", \"Topic2\", \"Topic2\", \"Topic2\", \"Topic2\", \"Topic2\", \"Topic2\", \"Topic2\", \"Topic2\", \"Topic2\", \"Topic2\", \"Topic2\", \"Topic2\", \"Topic2\", \"Topic2\", \"Topic2\", \"Topic2\", \"Topic2\", \"Topic2\", \"Topic2\", \"Topic2\", \"Topic2\", \"Topic2\", \"Topic2\", \"Topic2\", \"Topic2\", \"Topic2\", \"Topic2\", \"Topic2\", \"Topic2\", \"Topic3\", \"Topic3\", \"Topic3\", \"Topic3\", \"Topic3\", \"Topic3\", \"Topic3\", \"Topic3\", \"Topic3\", \"Topic3\", \"Topic3\", \"Topic3\", \"Topic3\", \"Topic3\", \"Topic3\", \"Topic3\", \"Topic3\", \"Topic3\", \"Topic3\", \"Topic3\", \"Topic3\", \"Topic3\", \"Topic3\", \"Topic3\", \"Topic3\", \"Topic3\", \"Topic3\", \"Topic3\", \"Topic3\", \"Topic3\", \"Topic3\", \"Topic3\", \"Topic3\", \"Topic3\", \"Topic3\", \"Topic3\", \"Topic3\", \"Topic3\", \"Topic3\", \"Topic3\", \"Topic3\", \"Topic3\", \"Topic3\", \"Topic3\", \"Topic3\", \"Topic3\", \"Topic3\", \"Topic3\", \"Topic3\", \"Topic3\", \"Topic3\", \"Topic3\", \"Topic3\", \"Topic3\", \"Topic3\", \"Topic3\", \"Topic3\", \"Topic3\", \"Topic3\", \"Topic3\", \"Topic3\", \"Topic3\", \"Topic3\", \"Topic3\", \"Topic3\", \"Topic3\", \"Topic3\", \"Topic3\", \"Topic3\", \"Topic3\", \"Topic3\", \"Topic3\", \"Topic3\", \"Topic3\", \"Topic3\", \"Topic3\", \"Topic3\", \"Topic3\", \"Topic3\", \"Topic3\", \"Topic3\", \"Topic3\", \"Topic3\", \"Topic3\", \"Topic3\", \"Topic3\", \"Topic3\", \"Topic4\", \"Topic4\", \"Topic4\", \"Topic4\", \"Topic4\", \"Topic4\", \"Topic4\", \"Topic4\", \"Topic4\", \"Topic4\", \"Topic4\", \"Topic4\", \"Topic4\", \"Topic4\", \"Topic4\", \"Topic4\", \"Topic4\", \"Topic4\", \"Topic4\", \"Topic4\", \"Topic4\", \"Topic4\", \"Topic4\", \"Topic4\", \"Topic4\", \"Topic4\", \"Topic4\", \"Topic4\", \"Topic4\", \"Topic4\", \"Topic4\", \"Topic4\", \"Topic4\", \"Topic4\", \"Topic4\", \"Topic4\", \"Topic4\", \"Topic4\", \"Topic4\", \"Topic4\", \"Topic4\", \"Topic4\", \"Topic4\", \"Topic4\", \"Topic4\", \"Topic4\", \"Topic4\", \"Topic4\", \"Topic4\", \"Topic4\", \"Topic4\", \"Topic4\", \"Topic4\", \"Topic4\", \"Topic4\", \"Topic4\", \"Topic4\", \"Topic4\", \"Topic4\", \"Topic4\", \"Topic4\", \"Topic4\", \"Topic4\", \"Topic4\", \"Topic4\", \"Topic4\", \"Topic4\", \"Topic4\", \"Topic4\", \"Topic4\", \"Topic4\", \"Topic4\", \"Topic4\", \"Topic4\", \"Topic4\", \"Topic4\", \"Topic4\", \"Topic4\", \"Topic4\", \"Topic4\", \"Topic4\", \"Topic4\", \"Topic4\", \"Topic4\", \"Topic4\", \"Topic4\", \"Topic4\", \"Topic4\", \"Topic4\", \"Topic4\", \"Topic4\", \"Topic4\", \"Topic5\", \"Topic5\", \"Topic5\", \"Topic5\", \"Topic5\", \"Topic5\", \"Topic5\", \"Topic5\", \"Topic5\", \"Topic5\", \"Topic5\", \"Topic5\", \"Topic5\", \"Topic5\", \"Topic5\", \"Topic5\", \"Topic5\", \"Topic5\", \"Topic5\", \"Topic5\", \"Topic5\", \"Topic5\", \"Topic5\", \"Topic5\", \"Topic5\", \"Topic5\", \"Topic5\", \"Topic5\", \"Topic5\", \"Topic5\", \"Topic5\", \"Topic5\", \"Topic5\", \"Topic5\", \"Topic5\", \"Topic5\", \"Topic5\", \"Topic5\", \"Topic5\", \"Topic5\", \"Topic5\", \"Topic5\", \"Topic5\", \"Topic5\", \"Topic5\", \"Topic5\", \"Topic5\", \"Topic5\", \"Topic5\", \"Topic5\", \"Topic5\", \"Topic5\", \"Topic5\", \"Topic5\", \"Topic5\", \"Topic5\", \"Topic5\", \"Topic5\", \"Topic5\", \"Topic5\", \"Topic5\", \"Topic5\", \"Topic5\", \"Topic5\", \"Topic5\", \"Topic5\", \"Topic5\", \"Topic5\", \"Topic5\", \"Topic5\", \"Topic5\", \"Topic5\", \"Topic5\", \"Topic5\", \"Topic5\", \"Topic5\", \"Topic5\", \"Topic5\", \"Topic5\", \"Topic5\", \"Topic5\", \"Topic5\", \"Topic5\", \"Topic5\", \"Topic5\", \"Topic5\", \"Topic5\", \"Topic5\", \"Topic5\", \"Topic5\"], \"logprob\": [30.0, 29.0, 28.0, 27.0, 26.0, 25.0, 24.0, 23.0, 22.0, 21.0, 20.0, 19.0, 18.0, 17.0, 16.0, 15.0, 14.0, 13.0, 12.0, 11.0, 10.0, 9.0, 8.0, 7.0, 6.0, 5.0, 4.0, 3.0, 2.0, 1.0, -9.3927, -7.8849, -8.6914, -10.0832, -10.1639, -9.7504, -9.372, -10.15, -10.4031, -9.3896, -10.2102, -10.2339, -10.1019, -9.7858, -10.1256, -10.0392, -10.5088, -10.1306, -9.5889, -9.8672, -9.7636, -10.2947, -10.2208, -9.0208, -10.6466, -9.8385, -9.6495, -10.1916, -10.645, -9.8374, -8.654, -8.2581, -8.8986, -8.3611, -8.1795, -8.614, -7.1816, -7.5287, -7.5915, -9.0, -7.9968, -7.9262, -7.9212, -7.9802, -7.8311, -7.8477, -8.8021, -7.1534, -7.2726, -8.9686, -7.8095, -7.6537, -8.3279, -5.8901, -7.2889, -7.2155, -7.9514, -7.7738, -8.4204, -7.1845, -5.5112, -7.467, -6.8846, -7.3028, -6.5726, -7.4588, -6.9868, -6.8927, -7.4488, -6.0534, -5.8935, -7.2375, -6.9194, -7.0717, -6.9423, -6.2266, -7.2754, -6.4906, -6.6397, -6.2963, -6.6907, -6.877, -6.6513, -6.0335, -6.882, -6.1418, -6.9171, -6.7495, -6.7091, -6.5082, -6.6638, -6.5118, -6.6873, -6.6613, -6.492, -6.2785, -6.6516, -6.3494, -6.5429, -6.7164, -6.421, -6.6504, -6.6587, -6.604, -6.6762, -6.7044, -7.5997, -8.0316, -8.647, -7.5993, -7.5955, -8.7966, -8.7966, -8.7966, -8.7966, -8.7966, -8.7966, -8.6257, -8.7978, -8.7966, -8.7852, -8.5999, -8.7333, -8.7579, -8.6822, -9.2072, -8.6002, -9.1361, -9.5443, -8.8028, -8.6001, -9.4518, -8.1393, -9.5956, -9.7796, -9.6636, -8.6385, -8.4805, -8.8811, -6.415, -8.6807, -8.667, -6.3406, -8.182, -5.668, -6.1738, -6.1583, -7.7277, -7.2326, -6.144, -7.8627, -6.4546, -8.0509, -7.213, -7.2885, -6.7214, -6.6742, -7.4814, -5.8208, -6.7127, -6.3329, -6.3012, -5.924, -6.8844, -7.4852, -6.9037, -5.5118, -6.0013, -6.0604, -7.0928, -5.7848, -6.1448, -5.9231, -6.5036, -6.6828, -6.2561, -5.5675, -5.592, -6.2138, -6.0421, -6.2, -5.8582, -6.1072, -6.5993, -6.1819, -6.2108, -6.3729, -6.1684, -6.204, -6.1659, -6.2495, -6.2285, -6.267, -6.3116, -6.8645, -8.0484, -8.9143, -8.1761, -7.8508, -9.2409, -8.9862, -9.2096, -9.0192, -9.176, -8.9004, -8.8565, -9.598, -9.4746, -9.4825, -9.4389, -9.2962, -9.9984, -9.5851, -9.4295, -9.5992, -8.104, -9.9295, -9.66, -8.4132, -9.9145, -8.0296, -9.6306, -9.5813, -7.8297, -8.0062, -7.385, -8.3758, -7.6603, -8.4463, -8.0654, -7.2581, -8.0614, -6.6732, -6.6452, -7.4495, -9.024, -8.6285, -5.864, -6.5588, -8.2605, -7.2358, -6.4917, -7.0738, -5.4815, -7.2627, -6.5392, -7.3308, -6.0009, -5.6685, -5.7167, -5.1365, -6.4932, -6.6918, -6.3134, -5.6059, -5.9305, -6.4548, -5.7739, -5.6939, -6.8246, -6.2857, -6.6788, -6.2648, -6.3236, -5.7049, -5.4356, -5.8416, -6.1622, -6.1166, -5.9952, -6.1022, -6.2348, -5.992, -6.0228, -6.1076, -6.2985, -6.4265, -6.352, -6.2972, -6.3684, -6.346, -8.7679, -9.4264, -9.1973, -8.2401, -8.9416, -9.5508, -9.4918, -8.6772, -9.4373, -9.7797, -9.6895, -8.8239, -9.3497, -8.2667, -9.796, -8.9382, -10.0238, -8.6211, -10.0409, -9.8827, -9.5733, -7.811, -9.8967, -10.1925, -8.3521, -6.9255, -10.3047, -8.8233, -9.7687, -9.1613, -6.9008, -6.0847, -7.3965, -8.2317, -8.2485, -7.5944, -9.2083, -6.2928, -7.0366, -7.0911, -5.0378, -5.8237, -8.4308, -7.0486, -7.2209, -7.7081, -7.1769, -8.083, -6.7596, -7.6068, -7.918, -7.9528, -5.715, -7.7876, -7.8684, -7.1362, -7.4995, -7.4218, -7.1801, -7.4674, -6.622, -6.4147, -6.5052, -6.6859, -7.087, -7.5116, -6.2433, -7.1805, -6.6615, -5.846, -5.9025, -7.0308, -6.742, -6.2723, -6.6054, -6.0095, -6.2631, -6.3352, -6.7044, -6.5344, -6.1813, -6.579, -6.5085, -6.5755, -6.52, -6.5467, -6.5078, -6.5409, -6.6411, -6.6453, -6.662, -6.6688, -7.5927, -7.6943, -8.7276, -8.7166, -8.0572, -7.3957, -8.5041, -9.3365, -9.578, -9.3054, -9.0412, -9.5727, -8.9028, -9.5159, -9.4399, -9.8131, -9.7624, -9.9132, -9.5796, -9.3372, -8.4663, -10.1211, -10.1306, -8.986, -9.9632, -9.9561, -10.2538, -9.9193, -10.0721, -9.8513, -7.6544, -7.9965, -8.1203, -8.7673, -9.2572, -9.4378, -8.0234, -8.4138, -7.404, -6.4006, -8.5231, -6.5629, -6.6486, -7.5244, -8.1624, -6.6431, -6.7159, -7.5051, -7.7677, -6.257, -6.9604, -6.8882, -6.2518, -7.053, -6.7894, -6.5941, -6.7796, -7.6335, -5.9001, -7.1921, -7.1868, -6.5572, -5.9425, -6.0736, -6.8192, -5.5936, -5.8321, -5.554, -6.3101, -6.0307, -6.0071, -6.4189, -6.0276, -5.7261, -6.2229, -5.9278, -6.3042, -6.061, -5.8869, -6.1817, -6.1, -6.0114, -5.9779, -6.1654, -6.3824, -6.3315, -6.3953, -6.2651, -6.4073, -6.2685], \"loglift\": [30.0, 29.0, 28.0, 27.0, 26.0, 25.0, 24.0, 23.0, 22.0, 21.0, 20.0, 19.0, 18.0, 17.0, 16.0, 15.0, 14.0, 13.0, 12.0, 11.0, 10.0, 9.0, 8.0, 7.0, 6.0, 5.0, 4.0, 3.0, 2.0, 1.0, 1.2821, 1.2796, 1.2784, 1.2782, 1.2755, 1.2752, 1.2742, 1.2739, 1.2732, 1.2731, 1.2713, 1.2712, 1.2694, 1.2681, 1.2677, 1.2674, 1.267, 1.267, 1.2661, 1.2657, 1.2651, 1.2639, 1.2633, 1.2629, 1.2626, 1.2619, 1.2614, 1.261, 1.2606, 1.2604, 1.257, 1.25, 1.2556, 1.2463, 1.2301, 1.236, 1.1981, 1.2041, 1.2046, 1.2398, 1.2084, 1.2053, 1.2044, 1.2049, 1.1931, 1.1877, 1.2247, 1.1539, 1.1448, 1.2272, 1.1651, 1.1461, 1.1847, 1.023, 1.1181, 1.1085, 1.159, 1.1377, 1.1887, 1.0647, 0.8838, 1.0891, 1.0011, 1.0569, 0.9548, 1.0712, 0.9827, 0.9587, 1.0575, 0.7506, 0.6852, 1.0065, 0.9132, 0.9555, 0.9151, 0.7065, 1.0023, 0.7523, 0.7887, 0.6399, 0.7697, 0.8409, 0.7193, 0.39, 0.7906, 0.3609, 0.8041, 0.6856, 0.6584, 0.5174, 0.5881, 0.4223, 0.5798, 0.5275, 0.3421, 0.0092, 0.4673, 0.0322, 0.2346, 0.5252, -0.0506, 0.3697, 0.3516, 0.1779, 0.1049, 0.1577, 1.4549, 1.4546, 1.449, 1.4487, 1.4476, 1.4476, 1.4476, 1.4476, 1.4476, 1.4476, 1.4476, 1.4472, 1.4462, 1.4453, 1.4448, 1.4445, 1.4439, 1.4433, 1.4424, 1.4377, 1.4372, 1.4361, 1.4344, 1.4341, 1.4214, 1.4201, 1.4195, 1.4179, 1.4169, 1.4152, 1.4141, 1.4097, 1.4109, 1.3814, 1.4078, 1.4069, 1.2671, 1.3756, 1.1957, 1.2239, 1.2085, 1.3408, 1.2902, 1.1626, 1.3414, 1.1813, 1.3584, 1.242, 1.2506, 1.1635, 1.1397, 1.2586, 0.9934, 1.132, 1.0694, 1.0608, 0.9868, 1.1492, 1.2518, 1.1458, 0.8977, 0.9787, 0.9102, 1.1586, 0.7905, 0.8878, 0.8109, 0.97, 1.0191, 0.8636, 0.5956, 0.5927, 0.8331, 0.7147, 0.7749, 0.5929, 0.7177, 0.9741, 0.6874, 0.6853, 0.7633, 0.5008, 0.4892, 0.2158, 0.4205, 0.2063, 0.4292, 0.5581, 1.7507, 1.7446, 1.7427, 1.7421, 1.7411, 1.7401, 1.7317, 1.7305, 1.7286, 1.7284, 1.7264, 1.7238, 1.7197, 1.7186, 1.7169, 1.7142, 1.7136, 1.7128, 1.7098, 1.7092, 1.7077, 1.707, 1.7069, 1.7066, 1.7065, 1.7029, 1.7022, 1.7013, 1.6959, 1.693, 1.6785, 1.6649, 1.6825, 1.6674, 1.6829, 1.6565, 1.5985, 1.6311, 1.5369, 1.5197, 1.5681, 1.6817, 1.6467, 1.3789, 1.4475, 1.6141, 1.5106, 1.4278, 1.4654, 1.2481, 1.488, 1.3757, 1.4785, 1.2566, 1.1846, 1.1849, 1.0482, 1.3182, 1.3565, 1.2762, 1.1085, 1.1689, 1.2963, 1.1192, 1.075, 1.373, 1.2205, 1.3304, 1.1983, 1.2127, 0.9643, 0.7275, 0.8546, 0.9745, 0.9405, 0.83, 0.8752, 0.9649, 0.7363, 0.4349, 0.4676, 0.5977, 1.0027, 0.6948, 0.1539, 0.4565, 0.1027, 1.7694, 1.7619, 1.7589, 1.7579, 1.7572, 1.7501, 1.7484, 1.747, 1.7466, 1.7416, 1.7394, 1.7382, 1.7367, 1.736, 1.735, 1.7313, 1.7311, 1.7298, 1.7288, 1.7274, 1.7257, 1.7257, 1.7256, 1.7248, 1.7244, 1.7237, 1.7235, 1.7223, 1.7222, 1.7196, 1.715, 1.6855, 1.6982, 1.7058, 1.7048, 1.6833, 1.7146, 1.6531, 1.6638, 1.6544, 1.5883, 1.5888, 1.6935, 1.6278, 1.6363, 1.659, 1.6198, 1.6628, 1.5617, 1.614, 1.6366, 1.6361, 1.3288, 1.6111, 1.6197, 1.5016, 1.5552, 1.5397, 1.4682, 1.5176, 1.2452, 1.1303, 1.1498, 1.2009, 1.3379, 1.4874, 0.9913, 1.3449, 1.0405, 0.5244, 0.5462, 1.2235, 1.0187, 0.6654, 0.8757, 0.3722, 0.571, 0.5697, 0.8768, 0.6384, 0.1064, 0.6697, 0.5567, 0.4981, 0.2619, 0.2778, -0.0501, 0.0379, 0.2282, 0.1854, 0.2741, 0.2862, 1.7921, 1.7894, 1.7882, 1.7866, 1.7818, 1.7812, 1.775, 1.7741, 1.7683, 1.7656, 1.7652, 1.765, 1.7631, 1.7628, 1.7547, 1.7521, 1.7488, 1.7472, 1.7458, 1.7449, 1.7411, 1.7391, 1.7325, 1.7307, 1.7303, 1.729, 1.7287, 1.7266, 1.7259, 1.7255, 1.7231, 1.7163, 1.7081, 1.7095, 1.7193, 1.713, 1.6666, 1.6642, 1.6081, 1.5383, 1.6623, 1.4803, 1.4771, 1.5495, 1.6093, 1.4377, 1.4363, 1.5289, 1.5586, 1.3544, 1.4433, 1.3968, 1.2739, 1.4152, 1.368, 1.3272, 1.3356, 1.5099, 1.1102, 1.402, 1.399, 1.2019, 1.0125, 1.0369, 1.2694, 0.8412, 0.8611, 0.7336, 1.0358, 0.9071, 0.8932, 1.0627, 0.8774, 0.6975, 0.9403, 0.7422, 0.9465, 0.743, 0.5618, 0.6736, 0.5805, 0.4463, 0.3925, 0.6121, 0.8592, 0.7255, 0.8475, 0.516, 0.829, 0.2341]}, \"token.table\": {\"Topic\": [5, 1, 2, 3, 5, 1, 2, 3, 4, 5, 1, 2, 3, 5, 1, 2, 3, 4, 5, 1, 2, 3, 4, 5, 1, 2, 3, 4, 5, 1, 2, 3, 4, 5, 1, 2, 4, 1, 2, 3, 4, 5, 1, 2, 3, 4, 5, 1, 2, 3, 4, 5, 4, 5, 1, 1, 2, 3, 4, 5, 3, 4, 1, 4, 5, 1, 5, 1, 2, 3, 4, 5, 2, 1, 2, 4, 5, 1, 2, 3, 4, 5, 1, 2, 3, 4, 5, 1, 2, 3, 4, 5, 1, 2, 3, 4, 5, 1, 2, 3, 4, 5, 4, 1, 2, 3, 4, 5, 1, 2, 3, 4, 5, 4, 1, 4, 1, 2, 3, 4, 5, 5, 1, 2, 3, 4, 5, 1, 2, 3, 4, 5, 1, 2, 3, 4, 5, 1, 2, 3, 4, 5, 1, 2, 3, 4, 5, 1, 2, 3, 4, 5, 1, 2, 3, 4, 5, 1, 3, 4, 1, 2, 3, 4, 5, 1, 2, 4, 5, 1, 2, 3, 4, 5, 1, 5, 1, 2, 3, 4, 5, 1, 2, 3, 4, 5, 1, 2, 3, 4, 5, 1, 2, 3, 4, 5, 1, 2, 3, 4, 5, 1, 2, 3, 2, 1, 2, 3, 4, 5, 1, 2, 3, 5, 1, 2, 3, 4, 5, 1, 2, 3, 4, 5, 1, 1, 5, 4, 1, 2, 3, 4, 5, 1, 4, 5, 1, 2, 3, 4, 5, 1, 5, 1, 2, 3, 4, 5, 1, 2, 3, 4, 5, 1, 2, 5, 1, 2, 3, 4, 5, 1, 2, 3, 4, 5, 1, 2, 3, 4, 5, 4, 1, 2, 3, 4, 5, 1, 2, 3, 4, 5, 2, 1, 2, 3, 4, 5, 1, 2, 3, 4, 5, 1, 2, 3, 4, 5, 1, 2, 1, 2, 3, 4, 5, 1, 2, 3, 4, 5, 1, 2, 3, 4, 5, 1, 2, 3, 4, 5, 1, 5, 1, 2, 3, 4, 5, 1, 1, 2, 3, 4, 5, 1, 3, 1, 2, 3, 4, 5, 1, 2, 3, 4, 5, 5, 1, 2, 3, 4, 5, 1, 2, 3, 4, 5, 1, 2, 3, 4, 5, 1, 2, 3, 4, 5, 1, 2, 3, 4, 5, 1, 2, 3, 4, 5, 1, 2, 3, 4, 5, 1, 2, 3, 4, 5, 1, 1, 2, 3, 4, 5, 1, 2, 3, 4, 5, 1, 3, 4, 1, 2, 3, 4, 5, 1, 3, 4, 5, 2, 2, 1, 2, 3, 4, 5, 1, 2, 1, 2, 3, 4, 5, 1, 2, 3, 4, 5, 1, 2, 3, 4, 5, 1, 2, 3, 4, 5, 2, 3, 5, 3, 3, 1, 4, 5, 1, 2, 3, 4, 5, 2, 3, 4, 3, 1, 2, 3, 4, 5, 1, 2, 3, 4, 5, 5, 2, 3, 4, 5, 2, 1, 2, 3, 1, 2, 3, 4, 5, 2, 1, 2, 3, 4, 5, 1, 1, 3, 4, 5, 2, 3, 4, 1, 4, 1, 2, 3, 4, 5, 1, 2, 3, 4, 5, 1, 2, 3, 4, 5, 1, 2, 3, 4, 5, 1, 2, 3, 4, 5, 1, 2, 3, 4, 5, 1, 2, 3, 4, 5, 1, 2, 3, 4, 5, 1, 2, 3, 4, 5, 5, 1, 2, 3, 4, 5, 1, 2, 3, 4, 5, 2, 3, 4, 4, 1, 2, 3, 4, 5, 1, 2, 3, 4, 5, 1, 2, 3, 4, 5, 1, 2, 3, 4, 5, 1, 2, 3, 4, 5, 1, 2, 3, 4, 5, 2, 1, 2, 3, 4, 5, 1, 2, 3, 4, 5, 2, 3, 1, 5, 1, 2, 3, 4, 5, 2, 1, 2, 3, 4, 5, 1, 2, 3, 4, 5, 1, 2, 3, 4, 5, 1, 2, 3, 4, 5, 1, 2, 3, 4, 5, 1, 2, 3, 4, 5, 1, 2, 3, 4, 5, 1, 2, 3, 4, 5, 1, 2, 3, 4, 5, 1, 2, 4, 5, 1, 2, 4, 1, 2, 3, 4, 5, 1, 2, 3, 4, 5, 1, 2, 3, 4, 5, 1, 2, 3, 5, 1, 5, 1, 2, 3, 4, 5, 1, 3, 1, 2, 3, 4, 5, 3, 5, 1, 2, 3, 4, 5, 1, 2, 3, 4, 5, 1, 2, 3, 4, 5, 1, 3, 4, 1, 2, 3, 4, 5, 1, 2, 3, 4, 5, 1, 4, 5, 1, 2, 3, 4, 5, 5, 1, 2, 3, 4, 5, 1, 2, 3, 4, 5, 1, 2, 5, 1, 2, 3, 4, 5, 2, 3, 1, 2, 3, 4, 5, 1, 2, 3, 1, 2, 3, 4, 5, 1, 2, 3, 4, 5, 1, 2, 3, 4, 5, 1, 2, 3, 4, 5, 3, 4, 1, 2, 3, 4, 5, 1, 2, 3, 4, 5, 1, 2, 3, 4, 5, 1, 2, 3, 4, 5, 1, 2, 3, 4, 5, 1, 2, 3, 4, 5, 1, 2, 3, 4, 5, 1, 2, 3, 4, 5, 1, 2, 3, 4, 5, 1, 2, 3, 4, 5, 1, 2, 3, 4, 5, 2, 3, 5, 1, 2, 3, 4, 5, 1, 3, 4, 5, 1, 2, 3, 4, 5, 1, 2, 3, 4, 5, 1, 2, 3, 4, 5, 5, 1, 4, 1, 3, 5, 1, 2, 3, 4, 5, 1, 3, 5, 1, 2, 3, 4, 5, 1, 2, 3, 4, 5, 1, 2, 3, 4, 5, 1, 2, 3, 4, 5, 1, 4, 1, 2, 3, 4, 5, 4, 3, 2, 1, 2, 3, 4, 5, 1, 2, 3, 4, 5, 1, 2, 3, 4, 5, 5, 3, 5, 1, 2, 3, 4, 5, 1, 5, 1, 3, 4, 5, 1, 2, 3, 4, 5, 1, 2, 3, 4, 5, 1, 2, 3, 4, 5, 1, 2, 3, 4, 5, 1, 2, 3, 4, 5, 1, 2, 3, 4, 5, 1, 2, 3, 4, 5, 1, 1, 2, 3, 4, 5, 1, 2, 3, 4, 5, 1, 2, 3, 4, 5, 1, 5, 1, 2, 3, 4, 5, 1, 3, 5, 1, 2, 4, 1, 2, 4, 1, 2, 3, 4, 5, 1, 2, 3, 4, 5, 1, 1, 2, 3, 4, 5, 1, 2, 3, 4, 5, 1, 3, 4, 5, 1, 2, 3, 4, 5, 1, 2, 3, 4, 5, 1, 2, 3, 4, 5, 1, 2, 3, 4, 5, 3, 4, 1, 5, 1, 2, 3, 4, 5, 1, 2, 3, 4, 5, 3, 4, 1, 2, 3, 4, 5, 1, 2, 3, 4, 5, 1, 5, 1, 2, 3, 4, 5, 2, 3, 1, 5, 1, 2, 3, 4, 5, 5, 1, 1, 2, 3, 4, 5, 1, 2, 3, 4, 5, 1, 2, 3, 4, 5, 1, 2, 3, 4, 5, 1, 2, 3, 4, 5, 1, 2, 3, 4, 5, 1, 2, 3, 4, 5, 1, 2, 3, 4, 5, 1, 2, 3, 4, 5, 1, 2, 3, 4, 5, 1, 2, 3, 5, 1, 2, 3, 4, 5, 2, 3, 4, 1, 2, 3, 4, 5, 1, 2, 3, 4, 5, 1, 2, 3, 4, 5, 1, 5, 1, 2, 3, 4, 5, 2, 4, 1, 2, 3, 4, 5, 1, 2, 3, 4, 5, 1, 2, 3, 4, 5, 1, 2, 3, 4, 5, 1, 2, 3, 4, 5, 1, 2, 3, 4, 5, 4, 1, 2, 3, 4, 5, 1, 2, 3, 4, 5, 1, 2, 3, 4, 5, 1, 2, 3, 4, 5, 1, 4, 1, 2, 3, 4, 5, 1, 2, 3, 4, 5, 1, 2, 3, 4, 5, 1, 5, 1, 3, 5, 1, 2, 3, 4, 5, 1, 2, 3, 1, 2, 3, 4, 5, 1, 2, 3, 4, 5, 1, 2, 5, 1, 3, 4, 5, 3, 5, 1, 2, 3, 4, 5, 2, 2, 3, 1, 2, 3, 4, 5, 1, 2, 3, 4, 5, 1, 2, 5, 1, 2, 3, 4, 5, 1, 1, 2, 3, 4, 5, 1, 2, 3, 4, 5, 1, 2, 1, 2, 3, 4, 5, 1, 2, 3, 4, 5, 1, 2, 3, 4, 4, 1, 2, 3, 4, 1, 2, 3, 4, 5, 1, 2, 3, 4, 5, 1, 2, 3, 4, 5, 1, 2, 3, 4, 5, 1, 2, 3, 4, 5, 1, 2, 3, 4, 5, 2, 3, 1, 2, 3, 4, 5, 1, 2, 3, 4, 5, 1, 2, 3, 4, 5, 1, 2, 3, 4, 5, 1, 2, 3, 4, 5, 1, 2, 3, 4, 5, 1, 2, 3, 4, 5, 1, 2, 3, 4, 5, 1, 2, 3, 4, 5, 5, 5, 1, 2, 3, 4, 5, 1, 2, 3, 4, 5, 2, 3, 4, 3, 4, 1, 2, 3, 4, 5, 3, 4, 1, 2, 3, 1, 1, 3, 5, 5, 1, 3, 2, 2, 1, 2, 3, 4, 5, 1, 2, 3, 4, 5, 1, 2, 3, 4, 5, 1, 2, 3, 4, 5, 2, 3, 1, 2, 3, 4, 5, 1, 2, 3, 4, 5, 4, 5, 1, 2, 3, 4, 5, 1, 2, 3, 4, 1, 2, 3, 4, 5, 1, 2, 3, 4, 5, 2, 5, 2, 4, 1, 2, 3, 4, 5, 1, 2, 3, 4, 5, 1, 2, 3, 4, 5, 1, 2, 3, 4, 5, 1, 2, 3, 4, 5, 1, 2, 3, 4, 5, 1, 2, 3, 4, 5, 3, 1, 2, 3, 4, 5, 1, 2, 3, 4, 5, 1, 2, 3, 4, 5, 1, 2, 3, 4, 5, 1, 2, 3, 4, 5, 1, 3, 5, 1, 2, 3, 4, 5, 1, 2, 3, 4, 5, 1, 2, 3, 4, 5, 1, 2, 3, 4, 5, 1, 2, 3, 4, 5, 1, 2, 3, 1, 2, 3, 4, 5, 1, 2, 3, 4, 5, 1, 1, 2, 3, 4, 5, 1, 2, 3, 4, 5, 1, 2, 3, 4, 5, 1, 2, 3, 4, 5, 1, 3, 2, 3, 2, 3, 4, 1, 2, 3, 4, 5, 3, 1, 2, 3, 4, 5, 1, 2, 3, 5, 2, 1, 2, 3, 4, 5, 2], \"Freq\": [0.9444927608091577, 0.008397284626580714, 0.008397284626580714, 0.9740850166833628, 0.008397284626580714, 0.002585847738548966, 0.007757543215646898, 0.9826221406486071, 0.002585847738548966, 0.005171695477097932, 0.009517288673047845, 0.009517288673047845, 0.9707634446508803, 0.009517288673047845, 0.8594141371305932, 0.018521856403676578, 0.018521856403676578, 0.02593059896514721, 0.07779179689544163, 0.042852491754952565, 0.3464930047614736, 0.500353856110208, 0.06407467814788145, 0.04652556247680564, 0.01041813348823305, 0.324119708522806, 0.637821283557379, 0.01041813348823305, 0.01736355581372175, 0.023462341257207857, 0.01564156083813857, 0.8915689677738986, 0.03910390209534643, 0.01564156083813857, 0.9721772830177015, 0.9543015883391247, 0.0414913734060489, 0.25911779525466877, 0.404927983176721, 0.11827327936711361, 0.07990217728236301, 0.13723311804428448, 0.04884370385148099, 0.3180520250794111, 0.5492076933067689, 0.03521290277664909, 0.04827575380669633, 0.8924356945493854, 0.021691145353630897, 0.03408608555570569, 0.015493675252593497, 0.03408608555570569, 0.9174536113066085, 0.04587268056533043, 0.9386302460247811, 0.006386282706731671, 0.613995465947202, 0.23994176455291846, 0.08758330569232005, 0.052002587754815026, 0.9599232850613347, 0.021816438296848515, 0.9616941711958739, 0.02003529523324737, 0.02003529523324737, 0.049978262438102904, 0.8996087238858523, 0.03729466372672849, 0.012431554575576162, 0.03729466372672849, 0.06215777287788082, 0.8702088202903314, 0.9888496505328477, 0.912320364559076, 0.02121675266416456, 0.01060837633208228, 0.05304188166041139, 0.0995082078717182, 0.018953944356517753, 0.014215458267388315, 0.8339735516867811, 0.033169402623906066, 0.058753490780030615, 0.7285432856723797, 0.09253674797854822, 0.07637953801403981, 0.0425962808155222, 0.0375504835907088, 0.4752078440617285, 0.26932760644370446, 0.16487683599598574, 0.05265699997777555, 0.03965219974261577, 0.32622946151879334, 0.046861690604909544, 0.564142659974488, 0.025233218018028216, 0.8428503887453334, 0.012440596143842558, 0.07153342782709471, 0.04043193746748831, 0.03421163939556703, 0.9490002430605465, 0.01293753556930512, 0.010350028455444096, 0.01293753556930512, 0.9211525325345246, 0.043987620935637406, 0.9245530441814857, 0.01777986623425934, 0.03555973246851868, 0.00888993311712967, 0.01777986623425934, 0.9419851470588745, 0.9758880736540932, 0.945682218083901, 0.0661243978533034, 0.14282869936313533, 0.03173971096958563, 0.7432382318711301, 0.013224879570660679, 0.9860649932441147, 0.0028912695777377154, 0.7314912031676419, 0.16913927029765635, 0.04192340887719687, 0.05493412197701659, 0.7314376007657646, 0.03567988296418364, 0.08384772496583155, 0.05708781274269382, 0.09098370155866828, 0.014121205213200622, 0.2387767426959378, 0.6752503583766842, 0.025674918569455675, 0.04493110749654743, 0.02659739693105922, 0.3827069891746855, 0.4477228483394969, 0.01883982282616695, 0.12412118567827636, 0.023282272840962872, 0.2261706504550679, 0.600017431501386, 0.03459080536371627, 0.11641136420481435, 0.015520815102102454, 0.11899291578278548, 0.7932861052185698, 0.015520815102102454, 0.05690965537437566, 0.5777475590418167, 0.06926451695141668, 0.1254910071825667, 0.13038026720266668, 0.09697032373198335, 0.028351607858666784, 0.935603059336004, 0.028351607858666784, 0.7812336238159792, 0.02849484342185942, 0.05461511655856389, 0.061738827414028745, 0.0736116788398035, 0.020101188803462306, 0.020101188803462306, 0.020101188803462306, 0.9648570625661907, 0.8956748827858638, 0.004664973347843041, 0.023324866739215206, 0.009329946695686082, 0.06530962686980257, 0.9480920220703206, 0.02962787568969752, 0.014501490773492325, 0.27894044017247, 0.578353573201635, 0.023884808332810887, 0.10406952202153316, 0.055049095505069985, 0.7192283999684144, 0.13762273876267495, 0.05744253444007302, 0.031114706155039557, 0.3803077256334941, 0.020781842930792025, 0.08468600994297751, 0.016105928271363822, 0.49824468426573887, 0.08220017560338543, 0.008220017560338543, 0.08220017560338543, 0.016440035120677085, 0.8220017560338543, 0.018727590261043574, 0.005350740074583879, 0.010701480149167757, 0.928353402940303, 0.03745518052208715, 0.003966822740402375, 0.9877388623601914, 0.00793364548080475, 0.9618705651602869, 0.021310336739851537, 0.29434902621919934, 0.5580644433748622, 0.0759180746357211, 0.0506120497571474, 0.02091738646077793, 0.04183477292155586, 0.920365004274229, 0.02091738646077793, 0.009027499001665898, 0.15604676845736765, 0.7118827784170821, 0.02966178243404509, 0.09285427544570637, 0.03508352301995719, 0.017541761509978594, 0.017541761509978594, 0.1885739362322699, 0.7411394237965956, 0.9756999048818681, 0.9536953423195352, 0.03814781369278141, 0.9092555432051364, 0.023773790646241418, 0.0586420169273955, 0.11886895323120708, 0.07766104944438863, 0.7195533968929069, 0.014670666497285403, 0.9389226558262658, 0.04401199949185621, 0.061337260842644514, 0.08550042420489841, 0.07806560470882029, 0.11152229244117184, 0.6635576400249724, 0.013653153243152838, 0.9693738802638515, 0.9628862492485588, 0.02687124416507606, 0.004478540694179343, 0.004478540694179343, 0.004478540694179343, 0.013186742594910051, 0.1434058257196468, 0.7796661559240567, 0.014835085419273808, 0.047801941906548934, 0.010722618524843963, 0.9757582857608006, 0.010722618524843963, 0.028636774282762036, 0.09409225835764669, 0.08181935509360581, 0.020454838773401453, 0.773192905634575, 0.589398664126562, 0.06548874045850689, 0.04533835877896631, 0.15112786259655436, 0.14810530534462327, 0.6668455590416589, 0.03074110733170768, 0.05911751409943784, 0.033105807895685194, 0.21045835019399872, 0.9555810406644093, 0.12561188040188978, 0.25431574555213377, 0.5171344491622416, 0.0456067750382246, 0.05758821593809716, 0.8346291597870228, 0.0069552429982251895, 0.010432864497337786, 0.010432864497337786, 0.1391048599645038, 0.9878453287120835, 0.007190165187646427, 0.18934101660802258, 0.7381902925983664, 0.02876066075058571, 0.03595082593823214, 0.5424862559460839, 0.07310098484379854, 0.10676591207449523, 0.18371431717323053, 0.09426179624595074, 0.5307745460024853, 0.0607370745584535, 0.06984763574222153, 0.17208837791561823, 0.1663520986517643, 0.9311719787031628, 0.031039065956772093, 0.8402537840751889, 0.014852970930622027, 0.07214300166302128, 0.04243705980177722, 0.029705941861244055, 0.6953289320423262, 0.04530965471955007, 0.05489438937176259, 0.026140185415125042, 0.17862460033668778, 0.10606607927680967, 0.4973320606090409, 0.1620453988951259, 0.10135203130895147, 0.13317185509199436, 0.008845075201227456, 0.17395314562413997, 0.7724699009071979, 0.029483584004091522, 0.014741792002045761, 0.012326248580333304, 0.9799367621364977, 0.4775818596266679, 0.06582703550409769, 0.06649873994801704, 0.27472711756301993, 0.11553316435413062, 0.9671899764812527, 0.3131178313724112, 0.29923134671927143, 0.1841079094335637, 0.08511071239021192, 0.11781114399276704, 0.037041433358173836, 0.926035833954346, 0.5168087659016611, 0.03341435986433154, 0.11286628220840876, 0.2888485774938882, 0.04826518647070111, 0.07490349491094835, 0.5631042879830159, 0.19814896171477822, 0.14502591567864467, 0.01859306611264675, 0.9237829603318203, 0.019494970808247716, 0.012996647205498478, 0.019494970808247716, 0.9292602751931411, 0.012996647205498478, 0.14544320677292805, 0.023585384882096442, 0.047170769764192884, 0.023585384882096442, 0.7586632137074355, 0.06871792397095203, 0.18500979530640932, 0.21342201387132217, 0.10968437864594267, 0.4228795321289356, 0.06322873886305966, 0.08522134368499344, 0.0054981512054834486, 0.8439662100417092, 0.0027490756027417243, 0.027650282190070923, 0.4248088809201805, 0.4097269088165055, 0.08646997339440361, 0.05127870515249516, 0.7443262041336258, 0.03582570710206179, 0.05986664213107693, 0.05562412418478014, 0.10464877600865416, 0.5887338080713576, 0.06708092987408229, 0.044194494975865986, 0.09628086405456518, 0.20361035185309684, 0.9276085507431318, 0.013949000763054612, 0.013949000763054612, 0.013949000763054612, 0.03487250190763653, 0.9568265541999466, 0.25208577844128155, 0.027483035995478064, 0.05686145378374772, 0.027483035995478064, 0.6359005914815786, 0.1699910257955442, 0.1478466009792664, 0.27159485730552463, 0.03451925044890361, 0.3764552218767224, 0.9170573411582736, 0.07537457598561154, 0.012562429330935255, 0.530758385393417, 0.030192842282859053, 0.03734377861300988, 0.1263332084993313, 0.2757083229513708, 0.03812636751943986, 0.012708789173146622, 0.012708789173146622, 0.94045039881285, 0.9887011068770132, 0.9888496505328477, 0.062317722377126586, 0.8233493017099148, 0.06515034612154143, 0.015107326636879172, 0.033991484932978135, 0.012629105218466004, 0.9850702070403483, 0.0080100663089463, 0.0480603978536778, 0.0160201326178926, 0.8730972276751467, 0.0560704641626241, 0.25424393111163596, 0.13534105815640965, 0.08712238156627179, 0.2799970879268232, 0.24301117122416063, 0.02827387777247574, 0.46026164964046573, 0.3105491493042417, 0.11077798012494593, 0.0908472138263155, 0.03501530346946357, 0.6260053034906535, 0.17635756503522504, 0.06405238439536018, 0.09906768786482376, 0.9685884401929306, 0.013089032975580141, 0.013089032975580141, 0.9644047745432627, 0.971903390385797, 0.015785795568556686, 0.9471477341134011, 0.03157159113711337, 0.8915647236015007, 0.018288507150800014, 0.02286063393850002, 0.03200488751390002, 0.03657701430160003, 0.025991877834629997, 0.025991877834629997, 0.9097157242120499, 0.9369312495339954, 0.27624625754607307, 0.2876064346367341, 0.07120891493414322, 0.2405032613339934, 0.12413071552722241, 0.8917583559392748, 0.017232045525396613, 0.017232045525396613, 0.01292403414404746, 0.06031215933888815, 0.9526519132007945, 0.04393418379124193, 0.9026477760746068, 0.04393418379124193, 0.00798803341658944, 0.986596932062406, 0.007972698915559797, 0.9886146655294149, 0.003986349457779898, 0.02358075168345485, 0.29004324570649465, 0.45216091353024673, 0.04598246578273696, 0.18805649467555244, 0.9887628703464123, 0.24562130946454033, 0.1650824380640298, 0.1285952145566162, 0.1388294357843054, 0.322155485602042, 0.9437584416623993, 0.02742287923258895, 0.02742287923258895, 0.02742287923258895, 0.9049550146754353, 0.9566815664783697, 0.02657448795773249, 0.006643621989433123, 0.9504753412273194, 0.028802283067494525, 0.010783336388370647, 0.7386585426033894, 0.2246528414243885, 0.019769450045346186, 0.005391668194185324, 0.6199012620240456, 0.017922315398654378, 0.028464853868451073, 0.09699135392212958, 0.23615286172344593, 0.08077807185644771, 0.006213697835111362, 0.013980820129000565, 0.8116642797114216, 0.08699176969155907, 0.04159442373826884, 0.5689319466118005, 0.15954025543445582, 0.09202054018808792, 0.13817325693876978, 0.06580261359799584, 0.3530421122813822, 0.18890525589087573, 0.04768841097832283, 0.3449092049827535, 0.09853401945081113, 0.3402417798715854, 0.1649492148817446, 0.05716061901842635, 0.3391530061759963, 0.05119384276290036, 0.2126871467513224, 0.23363008242705435, 0.10145688838465707, 0.4011735678329101, 0.08351000213386048, 0.07212227457015223, 0.05314272863063848, 0.7326104732652305, 0.06073454700644398, 0.0713135302353808, 0.04240263959941561, 0.021201319799707807, 0.7902310107163819, 0.0751683156535095, 0.9644300996777283, 0.20494444599707584, 0.14244365750151372, 0.10755949648073485, 0.08212312906975025, 0.46221513352532, 0.45244162942951605, 0.08708355530264202, 0.05696443091225455, 0.01636908934260188, 0.38762003563281255, 0.032251667337231345, 0.935298352779709, 0.032251667337231345, 0.9638735397206057, 0.00911100258925825, 0.10022102848184074, 0.8564342433902754, 0.027333007767774746, 0.00911100258925825, 0.33836555956051273, 0.18647153099867672, 0.08726702995964561, 0.08520884529078605, 0.3029647832561282, 0.13690724723029102, 0.0052656633550111935, 0.05792229690512313, 0.01579699006503358, 0.7793181765416566, 0.033250946547639174, 0.0055418244246065295, 0.033250946547639174, 0.0055418244246065295, 0.9199428544846838, 0.06186205336546963, 0.03534974478026836, 0.02062068445515654, 0.8660687471165748, 0.014729060325111816, 0.04786743473961628, 0.030973046007987007, 0.016894388731629274, 0.8756924825894508, 0.02815731455271546, 0.9567326801335586, 0.0402841082746422, 0.39968154484252844, 0.46524195634831866, 0.018957227423361034, 0.07582890969344414, 0.45336784543078584, 0.15526296076396776, 0.10992617622088917, 0.11303143543616853, 0.16892610131119692, 0.025516963853135954, 0.9696446264191663, 0.9610262500576418, 0.04178375000250616, 0.08932750022458831, 0.011165937528073539, 0.022331875056147078, 0.011165937528073539, 0.8709431271897361, 0.9888496505328477, 0.34632231818442166, 0.06777119991005266, 0.08959582360990014, 0.03331126775239877, 0.4629117553178173, 0.29702608644103573, 0.13591318837148925, 0.12930342845068732, 0.162765338049747, 0.2751312567033794, 0.24591166778947324, 0.24073458004653694, 0.16005829605244662, 0.21873195713905777, 0.1341728573377652, 0.01832234785524354, 0.5335036581379736, 0.34219679082587195, 0.08245056534859592, 0.02371127369502105, 0.15639830474345887, 0.16035775549645784, 0.10690517033097188, 0.5236373620841123, 0.052462722477236205, 0.09896043417122226, 0.2233336686583173, 0.26369517504235057, 0.15755936195841128, 0.25651979612963355, 0.033918762009473934, 0.12486037029574462, 0.16861065752535592, 0.22071774119208398, 0.4517585838653122, 0.03995496350987905, 0.14566913779643403, 0.2022720027687627, 0.13734518706520923, 0.4752975867529362, 0.3123047122433434, 0.1893587446818163, 0.15148699574545305, 0.28925234332555705, 0.05763092229446583, 0.9619869467916649, 0.020041394724826352, 0.010020697362413176, 0.010020697362413176, 0.017823132389520022, 0.05346939716856007, 0.9268028842550412, 0.5975848332086646, 0.08038309260859913, 0.07297938671043869, 0.17768894155585072, 0.07192171443927291, 0.027904537529465277, 0.046507562549108795, 0.021703529189584105, 0.8371361258839584, 0.0682110917386929, 0.14007887214781709, 0.13592838704714102, 0.12866503812095792, 0.469004816376395, 0.12555217429545087, 0.008549852006306135, 0.025649556018918402, 0.9404837206936747, 0.025649556018918402, 0.9619395985460015, 0.03206465328486672, 0.05360257845663487, 0.21017853131680514, 0.6460521298194414, 0.035264854247786095, 0.05642376679645776, 0.03272030797162119, 0.9488889311770146, 0.8929027066459871, 0.011633911487244132, 0.026176300846299298, 0.020359345102677232, 0.04944412382078756, 0.017584071733059977, 0.9759159811848288, 0.015189708774567002, 0.075948543872835, 0.8734082545376026, 0.022784563161850502, 0.015189708774567002, 0.07349677401507322, 0.287998470029435, 0.4371697002526207, 0.05825299866379877, 0.14263818364406802, 0.07409735330719663, 0.17242780329347646, 0.5582932657988778, 0.04054383482846608, 0.15471900187414644, 0.020773992047495884, 0.020773992047495884, 0.9556036341848105, 0.01192252980161314, 0.20779266225668613, 0.6744745430626862, 0.015328966887788321, 0.09197380132672993, 0.03308228062141865, 0.046315192869986116, 0.026465824497134922, 0.8535228400326013, 0.046315192869986116, 0.9734924250663585, 0.020281092188882466, 0.020281092188882466, 0.01940402187805525, 0.04851005469513813, 0.01940402187805525, 0.9119890282685968, 0.009702010939027625, 0.9469197932551066, 0.03291863000377323, 0.07900471200905576, 0.8427169280965947, 0.023043041002641262, 0.023043041002641262, 0.010545646524640242, 0.06854670241016157, 0.9069256011190608, 0.010545646524640242, 0.005272823262320121, 0.02469943613602276, 0.9632780093048877, 0.9387449467069788, 0.1436356414069422, 0.3263890745162006, 0.16625061473484376, 0.3135535491138781, 0.05073088611394129, 0.03427172561204546, 0.9596083171372728, 0.006609912137915943, 0.8020026727338011, 0.16084119535595462, 0.026439648551663773, 0.004406608091943962, 0.018452002297671775, 0.018452002297671775, 0.9595041194789323, 0.0038671597233720335, 0.14308490976476523, 0.8198378613548711, 0.027070118063604234, 0.011601479170116101, 0.8778522669168519, 0.011809671752244644, 0.01574622900299286, 0.04330212975823036, 0.05117524425972679, 0.7946207012290925, 0.05606219671248198, 0.019499894508689383, 0.09262449891627457, 0.03656230220379259, 0.7145237540389844, 0.0989757761761781, 0.028472483557530688, 0.02711665100717208, 0.13015992483442598, 0.9519498504570414, 0.026443051401584483, 0.009066364431105922, 0.20205040732178914, 0.39158059709586057, 0.15930897500371835, 0.23831586504621283, 0.2536064287291697, 0.007532864219678309, 0.03515336635849877, 0.03515336635849877, 0.665403006071584, 0.09564150198456148, 0.5500835477778718, 0.16519895797333348, 0.08173001078680708, 0.10723441131602349, 0.15193512840323936, 0.3116840634100739, 0.22616629113739345, 0.19968616875854317, 0.11026149318406514, 0.6678127995962008, 0.01696802031641889, 0.03514804208401057, 0.10786812915437725, 0.17210420606653448, 0.010553325152167468, 0.9603525888472397, 0.021106650304334937, 0.010553325152167468, 0.010553325152167468, 0.12348444741099723, 0.6169182189022883, 0.09576344901261011, 0.09525943085991215, 0.06804245061422297, 0.03796968163931214, 0.8119670381329829, 0.035048936897826594, 0.06717712905416764, 0.0467319158637688, 0.015928376787669316, 0.4193714059953507, 0.48695323322303335, 0.047330033883360254, 0.030491464136395547, 0.018440745982432255, 0.20324056210425337, 0.5948121470078149, 0.07533240911972326, 0.10829033810960219, 0.014440864461133199, 0.453945435017361, 0.44829466196735235, 0.057763457844532795, 0.026370274233373667, 0.05274817874920138, 0.911789946950481, 0.030141816428115076, 0.03655974030604509, 0.17183077943841193, 0.014623896122418038, 0.7714105204575514, 0.0036559740306045096, 0.010306909542760348, 0.010306909542760348, 0.9585425874767125, 0.020613819085520697, 0.8868460173978051, 0.02452108803864899, 0.02043424003220749, 0.010217120016103745, 0.057215872090180975, 0.6952019526949106, 0.02585461807543056, 0.04452739779657485, 0.030163721088002318, 0.20396420926172998, 0.8527999199392384, 0.03394228537071596, 0.05515621372741343, 0.01697114268535798, 0.04242785671339495, 0.9720888177195308, 0.0477472480524249, 0.9549449610484979, 0.005582522735889054, 0.005582522735889054, 0.9881065242523626, 0.9448673321387391, 0.009448673321387392, 0.028346019964162174, 0.009448673321387392, 0.009448673321387392, 0.9657365957300182, 0.01970891011693915, 0.01970891011693915, 0.0481594757916043, 0.06421263438880574, 0.04414618614230394, 0.7866047712628703, 0.05618605509020502, 0.013604505670679052, 0.004534835223559684, 0.004534835223559684, 0.004534835223559684, 0.9749895730653321, 0.8097691511872386, 0.030921972360371877, 0.07343968435588322, 0.05411345163065079, 0.030921972360371877, 0.0029614469806022955, 0.10957353828228493, 0.7551689800535853, 0.0029614469806022955, 0.1273422201658987, 0.030608667706292905, 0.9488686988950801, 0.3871938651235005, 0.0823705106021539, 0.09548683394644593, 0.1542479625288742, 0.2806893195678493, 0.9301717445615896, 0.9641599400494807, 0.9841560662799345, 0.8189726722554932, 0.039898668648344536, 0.025199159146322866, 0.09659677672757098, 0.020999299288602388, 0.6475431355763714, 0.04605250400456414, 0.11793933952388379, 0.07048279576308293, 0.11793933952388379, 0.06960038583436907, 0.008700048229296134, 0.008700048229296134, 0.008700048229296134, 0.9048050158467981, 0.8999749408674171, 0.9316495825439787, 0.04050650358886864, 0.022727207109303798, 0.06060588562481013, 0.03787867851550633, 0.015151471406202533, 0.8712096058566456, 0.038874761623326703, 0.932994278959841, 0.9464853662522285, 0.01371717922104679, 0.02743435844209358, 0.01371717922104679, 0.8754420864783391, 0.006343783235350283, 0.01903134970605085, 0.03171891617675142, 0.06978161558885311, 0.025079692611865045, 0.015047815567119028, 0.020063754089492035, 0.8928370569823956, 0.04514344670135708, 0.0362365845713192, 0.02635387968823215, 0.03953081953234822, 0.8499126199454868, 0.046119289454406256, 0.3952618764138343, 0.12164126459811712, 0.0736782006473156, 0.07974581717121218, 0.3296738311317141, 0.03594943534815267, 0.8100606098450401, 0.052725838510623915, 0.05751909655704427, 0.045535951440993386, 0.017077515887553556, 0.3559713311672275, 0.40113187318098026, 0.11878361050676141, 0.10663959920894556, 0.9346889236341496, 0.00631546570023074, 0.02526186280092296, 0.00631546570023074, 0.02526186280092296, 0.9270423665382725, 0.16492692217653465, 0.04816449939668711, 0.04962402968143521, 0.016054833132229038, 0.7210079606655586, 0.28878755250433225, 0.028704786845310134, 0.03044447089654105, 0.06523815192115939, 0.5871433672904346, 0.032044056325565826, 0.019226433795339497, 0.929277633441409, 0.006408811265113166, 0.012817622530226332, 0.01708372586035005, 0.9737723740399529, 0.03443026554532668, 0.03707874751035181, 0.02913330161527642, 0.8660536025632173, 0.03310602456281411, 0.9287689579628682, 0.030958965265428937, 0.030958965265428937, 0.024923425644034148, 0.024923425644034148, 0.9221667488292635, 0.02017325574875304, 0.02017325574875304, 0.9279697644426398, 0.018839414611317978, 0.1287359998440062, 0.7472967795822798, 0.03139902435219663, 0.07221775601005224, 0.03344814341890555, 0.011149381139635182, 0.03344814341890555, 0.9253986345897202, 0.011149381139635182, 0.9361039523847522, 0.0227868786669485, 0.056967196667371246, 0.18717793190707696, 0.042318488952904354, 0.6901168967704402, 0.04991133987764208, 0.01663711329254736, 0.01663711329254736, 0.01663711329254736, 0.9150412310901048, 0.021149220280906034, 0.021149220280906034, 0.021149220280906034, 0.9305656923598655, 0.04993257807296731, 0.5762219509620428, 0.23268581382002768, 0.11834021003293252, 0.022968985913564964, 0.06365652572563993, 0.8416807290390168, 0.042437683817093286, 0.028291789211395524, 0.02357649100949627, 0.8803747991397659, 0.0069871015804743326, 0.020961304741422996, 0.02794840632189733, 0.06288391422426899, 0.1075191434501227, 0.4193840622971637, 0.19899951964525472, 0.1274190954146482, 0.1464280047538964, 0.9739970847311791, 0.021173849668069112, 0.0561680139290564, 0.8986882228649024, 0.40826434599736655, 0.1848744208289962, 0.11747228823509133, 0.15598779257446552, 0.13335993377508318, 0.08346005638987358, 0.47374669689904086, 0.18707954669034466, 0.1290203770278239, 0.12700443363676414, 0.03374241611136765, 0.9447876511182942, 0.0232494170308868, 0.007749805676962268, 0.03099922270784907, 0.0232494170308868, 0.9144770698815475, 0.10295472791441038, 0.22306857714788916, 0.5654339025140633, 0.05147736395720519, 0.05719707106356132, 0.053559948197727955, 0.9105191193613752, 0.07614007507035599, 0.30705669618537, 0.05242431398286805, 0.5504552968201145, 0.013730177471703537, 0.9700974922545303, 0.0183037262689534, 0.06236066585848496, 0.9354099878772744, 0.04333290629915701, 0.04333290629915701, 0.012380830371187718, 0.835706050055171, 0.06809456704153245, 0.9317716947534652, 0.9542329716128698, 0.28518657639642686, 0.018359650840971686, 0.04651111546379494, 0.5752690596837795, 0.07343860336388675, 0.06582738514527543, 0.10380472272908818, 0.10633654523467569, 0.05823191762851288, 0.6658693189695168, 0.7765606499695525, 0.023314753925182872, 0.019727868705923968, 0.1147803270162849, 0.0663573765562897, 0.10533664297409147, 0.6758460523666161, 0.14608731507355752, 0.029986343620361806, 0.04305731391641695, 0.06872709938577327, 0.13287239214582836, 0.1679995762763347, 0.04734533513242159, 0.5849439792166926, 0.07691258604993682, 0.042301922327465255, 0.03076503441997473, 0.03076503441997473, 0.8191190414318271, 0.5677316528487605, 0.014422744067751422, 0.019667378274206483, 0.015078323343558304, 0.38285829707121954, 0.08680944840951214, 0.14991665834543735, 0.1890253518268558, 0.2862045295685622, 0.2879821974540812, 0.9156576972266796, 0.005722860607666747, 0.011445721215333495, 0.02289144243066699, 0.04578288486133398, 0.056060664275973456, 0.7424923535217818, 0.07973072252582891, 0.013703717934126844, 0.10838395093354868, 0.026545657909804548, 0.9158251978882569, 0.01990924343235341, 0.026545657909804548, 0.8835985426327156, 0.01167751377928699, 0.05449506430333929, 0.01167751377928699, 0.0428175505240523, 0.9531669224304312, 0.009254047790586712, 0.03701619116234685, 0.03554410288822782, 0.009996778937314075, 0.016661298228856793, 0.8941563382819812, 0.04331937539502766, 0.01811868511826154, 0.01811868511826154, 0.01811868511826154, 0.9421716261495999, 0.01811868511826154, 0.13486136006195498, 0.3096954778154035, 0.1972487482346599, 0.06462885122082607, 0.29325808212918186, 0.02313447338388707, 0.9485134087393698, 0.0347364931295127, 0.42062330462595826, 0.35337701664446575, 0.0941893371396402, 0.09730671472818621, 0.017676913790773043, 0.9722302584925174, 0.28535859020724436, 0.11064924926403352, 0.07404348259021792, 0.39767173795645133, 0.13311187881387493, 0.1621539385402912, 0.028793690021173202, 0.08031924058537789, 0.03637097686885036, 0.6910485605081569, 0.8476202309946407, 0.01330345654027463, 0.019004937914678045, 0.0437113572037595, 0.07601975165871218, 0.2730406352458738, 0.1204769100087115, 0.13561220021081094, 0.050249163470970123, 0.42015565601028027, 0.9399105963292739, 0.012050135850375307, 0.012050135850375307, 0.012050135850375307, 0.024100271700750613, 0.03799758155027528, 0.5111179111187472, 0.2723720447409113, 0.13820359307224017, 0.04001515225205981, 0.9134383413444421, 0.05128423582674706, 0.09467858921860994, 0.07232392231977149, 0.017094745275582354, 0.7640036157779497, 0.8927255186821603, 0.013000857068186801, 0.030335333159102532, 0.02166809511364467, 0.0390025712045604, 0.021563332096893338, 0.5029772579810237, 0.23468928886851353, 0.18604642344063788, 0.054660539501427303, 0.13415623166537596, 0.7413529260258536, 0.03982763127565849, 0.04891112612800165, 0.035635249036115486, 0.9534549506105467, 0.028892574260925657, 0.23231923703987928, 0.01046483049729186, 0.05023118638700093, 0.012557796596750232, 0.6948647450201795, 0.08496698735057405, 0.8174410162348331, 0.011719584462148144, 0.08203709123503701, 0.005859792231074072, 0.05639620206893923, 0.2849030933534495, 0.15545481606567704, 0.12272748636763976, 0.3807474160405586, 0.06529139904033322, 0.914079586564665, 0.03047615769174286, 0.03047615769174286, 0.9447608884440286, 0.04660141282528923, 0.8854268436804953, 0.03262098897770246, 0.009320282565057845, 0.023300706412644614, 0.958409603930959, 0.9675854500230443, 0.02845839558891307, 0.028375953011166525, 0.3779676941087381, 0.1479333016982148, 0.057130252062481936, 0.38856138323290695, 0.1832336490468993, 0.10143291286524782, 0.047444426985357856, 0.02290420613086241, 0.6445898011114136, 0.022567958673223133, 0.9478542642753717, 0.022567958673223133, 0.031070526127471982, 0.010356842042490662, 0.9424726258666501, 0.010356842042490662, 0.9752004947562704, 0.02060282735400571, 0.0705425581129614, 0.12224155618204954, 0.07827324941301196, 0.3222731935708579, 0.40682762966516095, 0.9888496505328477, 0.9865079930975603, 0.012331349913719505, 0.03539919864846751, 0.16847396393807684, 0.6778291000465816, 0.04588785009986529, 0.0727650194440721, 0.015764002317668006, 0.2800428647021022, 0.6120142076271109, 0.04729200695300402, 0.04543741844504308, 0.010885722492635683, 0.9579435793519402, 0.03265716747790705, 0.040460917291343046, 0.642187379572855, 0.08714659108904656, 0.18466777635536055, 0.045648214379976765, 0.9325293270133922, 0.4489519153493169, 0.14349579433021645, 0.06172429388468869, 0.09179510372594728, 0.2537554304148313, 0.09204657892291238, 0.4611353120549826, 0.12317998061742685, 0.20800722001697355, 0.11550943237385082, 0.0444777596837717, 0.9451523932801487, 0.1989575595917025, 0.05296922041077794, 0.07751593230845552, 0.05038535600049609, 0.6188355262625033, 0.1673354738041111, 0.17948395082501845, 0.3566165835169581, 0.14460606518434893, 0.15166001958358546, 0.011696089988121638, 0.023392179976243276, 0.058480449940608185, 0.9005989290853661, 0.948250531298869, 0.004176987928557841, 0.03759289135702057, 0.05012385514269409, 0.9064063804970515, 0.009808738041105942, 0.19726462060446395, 0.624489655283745, 0.02506677499393741, 0.14277163148720873, 0.3767746768440361, 0.07012800343571077, 0.09582708544010167, 0.2931437659144928, 0.16421277823144695, 0.047928514177116965, 0.041081583580385966, 0.05477544477384796, 0.8490193939946433, 0.006846930596730995, 0.5489758874054053, 0.010428307223440535, 0.03202980075771021, 0.14897581747772193, 0.25921792241123615, 0.033407115123060105, 0.3112136514095599, 0.5740748993515329, 0.0430775958165775, 0.037802788165568015, 0.10756354171741381, 0.011322478075517242, 0.016983717113275863, 0.8322021385505174, 0.03962867326431035, 0.03406073783593232, 0.9537006594061048, 0.27728211082275156, 0.17489250902193512, 0.1306159244594199, 0.2728544523665, 0.14389889982817447, 0.31960940869718374, 0.18523287852048942, 0.05829874078435046, 0.21541591452940845, 0.22120444198317374, 0.2701331959135473, 0.07970316518084122, 0.12409480148409456, 0.18437662578226244, 0.34201737970006546, 0.3121255913675369, 0.009410821850277496, 0.043917168634628315, 0.009410821850277496, 0.6242511827350739, 0.7690875217623878, 0.07210195516522386, 0.07009912307730097, 0.0400566417584577, 0.04806797011014924, 0.011752677740972984, 0.035258033222918955, 0.9167088637958928, 0.011752677740972984, 0.011752677740972984, 0.147216789101836, 0.6217910389540805, 0.08654277697999305, 0.10864881240423041, 0.035745929622171047, 0.11429283578788918, 0.5214117991288876, 0.2069094440987649, 0.08158143795894159, 0.07527562632926495, 0.06436554138709726, 0.06804357232350282, 0.14344320651981673, 0.39814684886590157, 0.32550573787189185, 0.9645607445156306, 0.9290198561814126, 0.383699895882148, 0.22921925320424977, 0.12539825448145178, 0.053786782470847144, 0.20764199744559597, 0.481606580104662, 0.14752509253205992, 0.05226225251135755, 0.1164323600253029, 0.20177198754384879, 0.01933062380370551, 0.9665311901852756, 0.01933062380370551, 0.9426540180860088, 0.948422831250755, 0.01856683990786802, 0.7241067564068527, 0.07658821461995557, 0.15317642923991115, 0.026689832367560274, 0.026871075448291388, 0.9673587161384899, 0.01169877915134429, 0.9826974487129204, 0.01169877915134429, 0.9770086516982223, 0.09519956780061499, 0.8839959867199964, 0.013599938257230713, 0.9361492605315156, 0.9502420453332061, 0.025682217441438, 0.989051272887841, 0.9946860593438797, 0.004068724271565175, 0.8869818912012081, 0.0650995883450428, 0.04068724271565175, 0.004068724271565175, 0.012543247836995227, 0.9224988636481035, 0.041050629284711655, 0.018244724126538513, 0.003420885773725971, 0.7281101555524174, 0.019948223439792256, 0.029922335159688385, 0.05984467031937677, 0.16207931544831208, 0.31087270425622626, 0.028560743147215135, 0.06810638750489763, 0.046136585083962914, 0.5459495901602278, 0.9951485553176497, 0.004012695787571168, 0.031079142573599103, 0.7556116538206281, 0.07089929399602295, 0.07769785643399775, 0.06507195476347312, 0.10321900834970095, 0.6118822814970273, 0.0867039670137488, 0.06936317361099904, 0.1288173224204268, 0.9465290822673759, 0.037861163290695034, 0.7288582069278896, 0.018452106504503536, 0.0830344792702659, 0.05904674081441131, 0.1107126390270212, 0.005721031961883812, 0.9039230499776423, 0.045768255695070495, 0.045768255695070495, 0.001530760250838692, 0.7883415291819263, 0.1630259667143207, 0.037503626145547954, 0.009184561505032152, 0.12292670915435822, 0.19857391478780945, 0.030731677288589554, 0.6359093223561992, 0.011819875880226751, 0.9888496505328477, 0.9549671923001668, 0.05231125009399893, 0.9416025016919808, 0.1304156458824759, 0.10048418617174372, 0.08551845631637764, 0.6306986153332851, 0.05131107378982658, 0.005484758171323281, 0.005484758171323281, 0.005484758171323281, 0.8720765492404018, 0.1151799215977889, 0.6975389456339, 0.024094609521032817, 0.057827062850478755, 0.021685148568929533, 0.19998525902457237, 0.029165679735243914, 0.7663843228891786, 0.07627947007679177, 0.05563914287954223, 0.07268984795553099, 0.5668060742945059, 0.014793596271668687, 0.03592730523119538, 0.03719532776876698, 0.3453248043986662, 0.16743064931872845, 0.03348612986374569, 0.07813430301540661, 0.04464817315166092, 0.6764198232476629, 0.08509933075548834, 0.155236141817704, 0.07200712602387475, 0.29317187024006147, 0.3946364569100668, 0.9762615813754207, 0.01579780291965531, 0.007898901459827655, 0.939969273719491, 0.007898901459827655, 0.039494507299138275, 0.041558627711198615, 0.7762557961770312, 0.05269040299098396, 0.11799681796572463, 0.011131775279785342, 0.042811215057202874, 0.02865874726969779, 0.03998072149970186, 0.8112902159187289, 0.07748476113659032, 0.16052007746582844, 0.037247752782125935, 0.02394498393136667, 0.5134868776393076, 0.26516852575846794, 0.049966207276943966, 0.04244441263310294, 0.11497600384157, 0.6259207685767713, 0.1665540242564799, 0.9471848487389422, 0.024286790993306207, 0.024286790993306207, 0.7698909749988726, 0.04869792311739857, 0.09739584623479713, 0.03014633335838959, 0.05333582055715081, 0.06949729404679468, 0.11226485961405296, 0.07217026689474833, 0.7190296960995296, 0.02940270132749006, 0.04251077996023607, 0.3151342601400109, 0.5226053492937717, 0.052214327559855174, 0.0670006858068938, 0.01828592527238699, 0.1420675732700835, 0.7258105723501297, 0.04501150836279874, 0.06751726254419811, 0.10854602256563381, 0.018714831476833414, 0.01122889888610005, 0.75607919166407, 0.10480305627026713, 0.03912640846698221, 0.03912640846698221, 0.939033803207573, 0.04283425130277476, 0.6698390677864949, 0.07680624371532026, 0.17355256993365636, 0.03692607870928859, 0.09132495822400363, 0.34989562307509825, 0.06491774138814715, 0.4588253925230062, 0.03410932174631461, 0.9566515022213368, 0.1589200813087024, 0.15496356476159778, 0.09825349425309816, 0.32377493743806174, 0.2637677698069749, 0.03942940180570451, 0.009857350451426128, 0.009857350451426128, 0.9068762415312038, 0.03942940180570451, 0.5075036362503011, 0.12398140163148991, 0.07670444692376224, 0.21805289314176435, 0.07429235739785776, 0.42680191270180856, 0.07123016996244566, 0.11234677213588991, 0.09555266702279296, 0.2936072859427638, 0.03815802111742022, 0.9539505279355054, 0.9825378841735656, 0.010797119606302918, 0.01094919375031685, 0.9197322750266154, 0.06569516250190109, 0.3127370233458948, 0.05331483558079703, 0.050063930972211845, 0.4466742932196044, 0.1371881744822948, 0.9549523457184946, 0.008801256563784974, 0.25083581206787176, 0.6630279944718014, 0.02493689359739076, 0.052807539382709844, 0.9189433857654457, 0.01312776265379208, 0.01312776265379208, 0.05251105061516832, 0.9888496505328477, 0.011642352689657947, 0.023284705379315894, 0.9430305678622937, 0.023284705379315894, 0.011642352689657947, 0.9416994894145742], \"Term\": [\"abdul-jabbar\", \"abenewco\", \"abenewco\", \"abenewco\", \"abenewco\", \"abengoa\", \"abengoa\", \"abengoa\", \"abengoa\", \"abengoa\", \"abengoashares\", \"abengoashares\", \"abengoashares\", \"abengoashares\", \"abogado\", \"abogado\", \"abogado\", \"abogado\", \"abogado\", \"acciones\", \"acciones\", \"acciones\", \"acciones\", \"acciones\", \"accionistas\", \"accionistas\", \"accionistas\", \"accionistas\", \"accionistas\", \"aceite\", \"aceite\", \"aceite\", \"aceite\", \"aceite\", \"acertijo\", \"aconsejemos\", \"aconsejemos\", \"actividad\", \"actividad\", \"actividad\", \"actividad\", \"actividad\", \"activos\", \"activos\", \"activos\", \"activos\", \"activos\", \"aforo\", \"aforo\", \"aforo\", \"aforo\", \"aforo\", \"africana\", \"africana\", \"agresor\", \"alcista\", \"alcista\", \"alcista\", \"alcista\", \"alcista\", \"amundi\", \"amundi\", \"andradas\", \"andradas\", \"andradas\", \"angeles\", \"angeles\", \"anillos\", \"anillos\", \"anillos\", \"anillos\", \"anillos\", \"antedicha\", \"anticorrupci\\u00f3n\", \"anticorrupci\\u00f3n\", \"anticorrupci\\u00f3n\", \"anticorrupci\\u00f3n\", \"anticuerpos\", \"anticuerpos\", \"anticuerpos\", \"anticuerpos\", \"anticuerpos\", \"anuales\", \"anuales\", \"anuales\", \"anuales\", \"anuales\", \"an\\u00e1lisis\", \"an\\u00e1lisis\", \"an\\u00e1lisis\", \"an\\u00e1lisis\", \"an\\u00e1lisis\", \"apple\", \"apple\", \"apple\", \"apple\", \"apple\", \"arag\\u00f3n\", \"arag\\u00f3n\", \"arag\\u00f3n\", \"arag\\u00f3n\", \"arag\\u00f3n\", \"arnm\", \"astrazeneca\", \"astrazeneca\", \"astrazeneca\", \"astrazeneca\", \"astrazeneca\", \"atl\\u00e9tico\", \"atl\\u00e9tico\", \"atl\\u00e9tico\", \"atl\\u00e9tico\", \"atl\\u00e9tico\", \"atracciones\", \"auditorios\", \"auricular\", \"autorizada\", \"autorizada\", \"autorizada\", \"autorizada\", \"autorizada\", \"azuaga\", \"bajista\", \"bajista\", \"bajista\", \"bajista\", \"bajista\", \"baleares\", \"baleares\", \"baleares\", \"baleares\", \"baleares\", \"banca\", \"banca\", \"banca\", \"banca\", \"banca\", \"banco\", \"banco\", \"banco\", \"banco\", \"banco\", \"bancos\", \"bancos\", \"bancos\", \"bancos\", \"bancos\", \"bankia\", \"bankia\", \"bankia\", \"bankia\", \"bankia\", \"barcelona\", \"barcelona\", \"barcelona\", \"barcelona\", \"barcelona\", \"barcelona-el\", \"barcelona-el\", \"barcelona-el\", \"bares\", \"bares\", \"bares\", \"bares\", \"bares\", \"barnier\", \"barnier\", \"barnier\", \"barnier\", \"bar\\u00e7a\", \"bar\\u00e7a\", \"bar\\u00e7a\", \"bar\\u00e7a\", \"bar\\u00e7a\", \"bayern\", \"bayern\", \"bbva\", \"bbva\", \"bbva\", \"bbva\", \"bbva\", \"beneficio\", \"beneficio\", \"beneficio\", \"beneficio\", \"beneficio\", \"biden\", \"biden\", \"biden\", \"biden\", \"biden\", \"bildu\", \"bildu\", \"bildu\", \"bildu\", \"bildu\", \"biontech\", \"biontech\", \"biontech\", \"biontech\", \"biontech\", \"bitcoin\", \"bitcoin\", \"bitcoin\", \"bitcoins\", \"bolsa\", \"bolsa\", \"bolsa\", \"bolsa\", \"bolsa\", \"bonistas\", \"bonistas\", \"bonistas\", \"bonistas\", \"bonos\", \"bonos\", \"bonos\", \"bonos\", \"bonos\", \"boris\", \"boris\", \"boris\", \"boris\", \"boris\", \"borr\\u00e1s\", \"bos\\u00e9\", \"bos\\u00e9\", \"bourla\", \"brexit\", \"brexit\", \"brexit\", \"brexit\", \"brexit\", \"bronce\", \"bronce\", \"bronce\", \"bruselas\", \"bruselas\", \"bruselas\", \"bruselas\", \"bruselas\", \"bryant\", \"bryant\", \"b\\u00e1rcenas\", \"b\\u00e1rcenas\", \"b\\u00e1rcenas\", \"b\\u00e1rcenas\", \"b\\u00e1rcenas\", \"caixabank\", \"caixabank\", \"caixabank\", \"caixabank\", \"caixabank\", \"calcular\\u00e1\", \"calcular\\u00e1\", \"calcular\\u00e1\", \"calvi\\u00f1o\", \"calvi\\u00f1o\", \"calvi\\u00f1o\", \"calvi\\u00f1o\", \"calvi\\u00f1o\", \"campa\\u00f1a\", \"campa\\u00f1a\", \"campa\\u00f1a\", \"campa\\u00f1a\", \"campa\\u00f1a\", \"canarias\", \"canarias\", \"canarias\", \"canarias\", \"canarias\", \"cansino\", \"capital\", \"capital\", \"capital\", \"capital\", \"capital\", \"capitolio\", \"capitolio\", \"capitolio\", \"capitolio\", \"capitolio\", \"caracter\", \"carteras\", \"carteras\", \"carteras\", \"carteras\", \"carteras\", \"casa\", \"casa\", \"casa\", \"casa\", \"casa\", \"casos\", \"casos\", \"casos\", \"casos\", \"casos\", \"casta\\u00f1o\", \"casta\\u00f1o\", \"castilla\", \"castilla\", \"castilla\", \"castilla\", \"castilla\", \"catalu\\u00f1a\", \"catalu\\u00f1a\", \"catalu\\u00f1a\", \"catalu\\u00f1a\", \"catalu\\u00f1a\", \"ca\\u00edda\", \"ca\\u00edda\", \"ca\\u00edda\", \"ca\\u00edda\", \"ca\\u00edda\", \"cellnex\", \"cellnex\", \"cellnex\", \"cellnex\", \"cellnex\", \"celtics\", \"celtics\", \"centro\", \"centro\", \"centro\", \"centro\", \"centro\", \"ch\\u00f3fer\", \"cierre\", \"cierre\", \"cierre\", \"cierre\", \"cierre\", \"citadel\", \"citadel\", \"ciudad\", \"ciudad\", \"ciudad\", \"ciudad\", \"ciudad\", \"clientes\", \"clientes\", \"clientes\", \"clientes\", \"clientes\", \"clippers\", \"cl\\u00ednicos\", \"cl\\u00ednicos\", \"cl\\u00ednicos\", \"cl\\u00ednicos\", \"cl\\u00ednicos\", \"coalici\\u00f3n\", \"coalici\\u00f3n\", \"coalici\\u00f3n\", \"coalici\\u00f3n\", \"coalici\\u00f3n\", \"comisi\\u00f3n\", \"comisi\\u00f3n\", \"comisi\\u00f3n\", \"comisi\\u00f3n\", \"comisi\\u00f3n\", \"comparada\", \"comparada\", \"comparada\", \"comparada\", \"comparada\", \"compa\\u00f1\\u00edas\", \"compa\\u00f1\\u00edas\", \"compa\\u00f1\\u00edas\", \"compa\\u00f1\\u00edas\", \"compa\\u00f1\\u00edas\", \"comunidad\", \"comunidad\", \"comunidad\", \"comunidad\", \"comunidad\", \"comunidades\", \"comunidades\", \"comunidades\", \"comunidades\", \"comunidades\", \"condenado\", \"condenado\", \"condenado\", \"condenado\", \"condenado\", \"condenas\", \"congreso\", \"congreso\", \"congreso\", \"congreso\", \"congreso\", \"consejo\", \"consejo\", \"consejo\", \"consejo\", \"consejo\", \"conseller\", \"conseller\", \"conseller\", \"contagios\", \"contagios\", \"contagios\", \"contagios\", \"contagios\", \"conte\", \"conte\", \"conte\", \"conte\", \"contraprestaciones\", \"contratacion\", \"contrataci\\u00f3n\", \"contrataci\\u00f3n\", \"contrataci\\u00f3n\", \"contrataci\\u00f3n\", \"contrataci\\u00f3n\", \"contratantes\", \"contratantes\", \"cook\", \"cook\", \"cook\", \"cook\", \"cook\", \"coronavirus\", \"coronavirus\", \"coronavirus\", \"coronavirus\", \"coronavirus\", \"corto\", \"corto\", \"corto\", \"corto\", \"corto\", \"crecimiento\", \"crecimiento\", \"crecimiento\", \"crecimiento\", \"crecimiento\", \"criptodivisas\", \"criptodivisas\", \"criptodivisas\", \"cucharadas\", \"cucharadita\", \"curevac\", \"curevac\", \"curevac\", \"c\\u00e1rcel\", \"c\\u00e1rcel\", \"c\\u00e1rcel\", \"c\\u00e1rcel\", \"c\\u00e1rcel\", \"c\\u00e9lula\", \"c\\u00e9lula\", \"c\\u00e9lula\", \"c\\u00edtricos\", \"datos\", \"datos\", \"datos\", \"datos\", \"datos\", \"delitos\", \"delitos\", \"delitos\", \"delitos\", \"delitos\", \"derogaci\\u00f3n\", \"desc\\u00e1rgate\", \"desc\\u00e1rgate\", \"desc\\u00e1rgate\", \"desc\\u00e1rgate\", \"deseara\", \"desistimiento\", \"desistimiento\", \"desistimiento\", \"deuda\", \"deuda\", \"deuda\", \"deuda\", \"deuda\", \"devengada\", \"diciembre\", \"diciembre\", \"diciembre\", \"diciembre\", \"diciembre\", \"dict\\u00f3\", \"dina\", \"dina\", \"dina\", \"dina\", \"directriz\", \"directriz\", \"directriz\", \"disparos\", \"disparos\", \"dividendo\", \"dividendo\", \"dividendo\", \"dividendo\", \"dividendo\", \"domingo\", \"domingo\", \"domingo\", \"domingo\", \"domingo\", \"dosis\", \"dosis\", \"dosis\", \"dosis\", \"dosis\", \"d\\u00f3lares\", \"d\\u00f3lares\", \"d\\u00f3lares\", \"d\\u00f3lares\", \"d\\u00f3lares\", \"econom\\u00eda\", \"econom\\u00eda\", \"econom\\u00eda\", \"econom\\u00eda\", \"econom\\u00eda\", \"econ\\u00f3mica\", \"econ\\u00f3mica\", \"econ\\u00f3mica\", \"econ\\u00f3mica\", \"econ\\u00f3mica\", \"eeuu\", \"eeuu\", \"eeuu\", \"eeuu\", \"eeuu\", \"efectividad\", \"efectividad\", \"efectividad\", \"efectividad\", \"efectividad\", \"eficacia\", \"eficacia\", \"eficacia\", \"eficacia\", \"eficacia\", \"eh-bildu\", \"ejecutivo\", \"ejecutivo\", \"ejecutivo\", \"ejecutivo\", \"ejecutivo\", \"elecciones\", \"elecciones\", \"elecciones\", \"elecciones\", \"elecciones\", \"elecnor\", \"elecnor\", \"elecnor\", \"embarcar\", \"ence\", \"ence\", \"ence\", \"ence\", \"ence\", \"enero\", \"enero\", \"enero\", \"enero\", \"enero\", \"enmienda\", \"enmienda\", \"enmienda\", \"enmienda\", \"enmienda\", \"enmiendas\", \"enmiendas\", \"enmiendas\", \"enmiendas\", \"enmiendas\", \"ensayo\", \"ensayo\", \"ensayo\", \"ensayo\", \"ensayo\", \"ensayos\", \"ensayos\", \"ensayos\", \"ensayos\", \"ensayos\", \"enterprise\", \"entidad\", \"entidad\", \"entidad\", \"entidad\", \"entidad\", \"equipo\", \"equipo\", \"equipo\", \"equipo\", \"equipo\", \"equities\", \"equities\", \"escrutado\", \"escrutado\", \"esquerra\", \"esquerra\", \"esquerra\", \"esquerra\", \"esquerra\", \"establecieran\", \"estado\", \"estado\", \"estado\", \"estado\", \"estado\", \"estados\", \"estados\", \"estados\", \"estados\", \"estados\", \"este\", \"este\", \"este\", \"este\", \"este\", \"estrategias\", \"estrategias\", \"estrategias\", \"estrategias\", \"estrategias\", \"estudio\", \"estudio\", \"estudio\", \"estudio\", \"estudio\", \"europa\", \"europa\", \"europa\", \"europa\", \"europa\", \"europea\", \"europea\", \"europea\", \"europea\", \"europea\", \"europeos\", \"europeos\", \"europeos\", \"europeos\", \"europeos\", \"explica\", \"explica\", \"explica\", \"explica\", \"explica\", \"extesorero\", \"extesorero\", \"extesorero\", \"extesorero\", \"extractos\", \"extractos\", \"extractos\", \"familia\", \"familia\", \"familia\", \"familia\", \"familia\", \"farmac\\u00e9utica\", \"farmac\\u00e9utica\", \"farmac\\u00e9utica\", \"farmac\\u00e9utica\", \"farmac\\u00e9utica\", \"fase\", \"fase\", \"fase\", \"fase\", \"fase\", \"felguera\", \"felguera\", \"felguera\", \"felguera\", \"fianza\", \"fianza\", \"fija\", \"fija\", \"fija\", \"fija\", \"fija\", \"finanzascom\", \"finanzascom\", \"fiscal\\u00eda\", \"fiscal\\u00eda\", \"fiscal\\u00eda\", \"fiscal\\u00eda\", \"fiscal\\u00eda\", \"fisher\", \"fisher\", \"fluidra\", \"fluidra\", \"fluidra\", \"fluidra\", \"fluidra\", \"fondo\", \"fondo\", \"fondo\", \"fondo\", \"fondo\", \"fondos\", \"fondos\", \"fondos\", \"fondos\", \"fondos\", \"fosun\", \"fosun\", \"fosun\", \"fusi\\u00f3n\", \"fusi\\u00f3n\", \"fusi\\u00f3n\", \"fusi\\u00f3n\", \"fusi\\u00f3n\", \"f\\u00e1rmaco\", \"f\\u00e1rmaco\", \"f\\u00e1rmaco\", \"f\\u00e1rmaco\", \"f\\u00e1rmaco\", \"gaga\", \"gaga\", \"gaga\", \"galaxy\", \"galaxy\", \"galaxy\", \"galaxy\", \"galaxy\", \"geoestrat\\u00e9gico\", \"gestora\", \"gestora\", \"gestora\", \"gestora\", \"gestora\", \"gestoras\", \"gestoras\", \"gestoras\", \"gestoras\", \"gestoras\", \"gimeno\", \"gimeno\", \"gove\", \"gracias\", \"gracias\", \"gracias\", \"gracias\", \"gracias\", \"grade\", \"grade\", \"gratuitamente\", \"gratuitamente\", \"gratuitamente\", \"gratuitamente\", \"gratuitamente\", \"groupama\", \"groupama\", \"groupama\", \"hidr\\u00f3geno\", \"hidr\\u00f3geno\", \"hidr\\u00f3geno\", \"hidr\\u00f3geno\", \"hidr\\u00f3geno\", \"hija\", \"hija\", \"hija\", \"hija\", \"hija\", \"hijo\", \"hijo\", \"hijo\", \"hijo\", \"hijo\", \"hosteler\\u00eda\", \"hosteler\\u00eda\", \"hosteler\\u00eda\", \"hosteler\\u00eda\", \"hosteler\\u00eda\", \"huracanes\", \"huracanes\", \"ibex\", \"ibex\", \"ibex\", \"ibex\", \"ibex\", \"iglesias\", \"iglesias\", \"iglesias\", \"iglesias\", \"iglesias\", \"impacto\", \"impacto\", \"impacto\", \"impacto\", \"impacto\", \"importante\", \"importante\", \"importante\", \"importante\", \"importante\", \"incidencia\", \"incidencia\", \"incidencia\", \"incidencia\", \"incidencia\", \"indique\", \"indique\", \"indique\", \"indique\", \"indique\", \"ingresos\", \"ingresos\", \"ingresos\", \"ingresos\", \"ingresos\", \"interanual\", \"interanual\", \"interanual\", \"interanual\", \"interanual\", \"inversi\\u00f3n\", \"inversi\\u00f3n\", \"inversi\\u00f3n\", \"inversi\\u00f3n\", \"inversi\\u00f3n\", \"inversores\", \"inversores\", \"inversores\", \"inversores\", \"inversores\", \"invertir\", \"invertir\", \"invertir\", \"invertir\", \"invertir\", \"investments\", \"investments\", \"investments\", \"iphone\", \"iphone\", \"iphone\", \"iphone\", \"iphone\", \"janssen\", \"janssen\", \"janssen\", \"janssen\", \"juez\", \"juez\", \"juez\", \"juez\", \"juez\", \"justicia\", \"justicia\", \"justicia\", \"justicia\", \"justicia\", \"juzgado\", \"juzgado\", \"juzgado\", \"juzgado\", \"juzgado\", \"kareem\", \"kits\", \"kits\", \"kobe\", \"kobe\", \"kobe\", \"koeman\", \"koeman\", \"koeman\", \"koeman\", \"koeman\", \"kroos\", \"kroos\", \"kroos\", \"laboratorio\", \"laboratorio\", \"laboratorio\", \"laboratorio\", \"laboratorio\", \"lakers\", \"lakers\", \"lakers\", \"lakers\", \"lakers\", \"le\\u00f3n\", \"le\\u00f3n\", \"le\\u00f3n\", \"le\\u00f3n\", \"le\\u00f3n\", \"liberbank\", \"liberbank\", \"liberbank\", \"liberbank\", \"liberbank\", \"lines\", \"lines\", \"lunes\", \"lunes\", \"lunes\", \"lunes\", \"lunes\", \"l\\u00f3pez-belmonte\", \"l\\u00f3pez-bravo\", \"macd\", \"madre\", \"madre\", \"madre\", \"madre\", \"madre\", \"madrid\", \"madrid\", \"madrid\", \"madrid\", \"madrid\", \"magic\", \"magic\", \"magic\", \"magic\", \"magic\", \"manufactureros\", \"margarida\", \"margarida\", \"maroto\", \"maroto\", \"maroto\", \"maroto\", \"maroto\", \"mattarella\", \"mattarella\", \"ma\\u0301s\", \"ma\\u0301s\", \"ma\\u0301s\", \"ma\\u0301s\", \"medianoche\", \"medianoche\", \"medianoche\", \"medianoche\", \"medianoche\", \"medicamento\", \"medicamento\", \"medicamento\", \"medicamento\", \"medicamento\", \"medicamentos\", \"medicamentos\", \"medicamentos\", \"medicamentos\", \"medicamentos\", \"medidas\", \"medidas\", \"medidas\", \"medidas\", \"medidas\", \"mensual\", \"mensual\", \"mensual\", \"mensual\", \"mensual\", \"mercados\", \"mercados\", \"mercados\", \"mercados\", \"mercados\", \"messi\", \"messi\", \"messi\", \"messi\", \"messi\", \"mingueza\", \"ministra\", \"ministra\", \"ministra\", \"ministra\", \"ministra\", \"ministro\", \"ministro\", \"ministro\", \"ministro\", \"ministro\", \"minoritarios\", \"minoritarios\", \"minoritarios\", \"minoritarios\", \"minoritarios\", \"mnuchin\", \"mnuchin\", \"moderna\", \"moderna\", \"moderna\", \"moderna\", \"moderna\", \"modric\", \"modric\", \"modric\", \"mol\\u00e9cula\", \"mol\\u00e9cula\", \"mol\\u00e9cula\", \"monoclonales\", \"monoclonales\", \"monoclonales\", \"morgan\", \"morgan\", \"morgan\", \"morgan\", \"morgan\", \"nature\", \"nature\", \"nature\", \"nature\", \"nature\", \"negligencia\", \"negociaciones\", \"negociaciones\", \"negociaciones\", \"negociaciones\", \"negociaciones\", \"negociador\", \"negociador\", \"negociador\", \"negociador\", \"negociador\", \"negociadores\", \"negociadores\", \"negociadores\", \"negociadores\", \"negocio\", \"negocio\", \"negocio\", \"negocio\", \"negocio\", \"neto\", \"neto\", \"neto\", \"neto\", \"neto\", \"nevada\", \"nevada\", \"nevada\", \"nevada\", \"nevada\", \"nivel\", \"nivel\", \"nivel\", \"nivel\", \"nivel\", \"nuez\", \"nuez\", \"nuggets\", \"nuggets\", \"n\\u00famero\", \"n\\u00famero\", \"n\\u00famero\", \"n\\u00famero\", \"n\\u00famero\", \"objetivo\", \"objetivo\", \"objetivo\", \"objetivo\", \"objetivo\", \"oc\\u00e9anos\", \"oc\\u00e9anos\", \"opep\", \"opep\", \"opep\", \"opep\", \"opep\", \"operaci\\u00f3n\", \"operaci\\u00f3n\", \"operaci\\u00f3n\", \"operaci\\u00f3n\", \"operaci\\u00f3n\", \"orb\\u00e1n\", \"orb\\u00e1n\", \"original\", \"original\", \"original\", \"original\", \"original\", \"oscilador\", \"oscilador\", \"otegi\", \"otegi\", \"oxford\", \"oxford\", \"oxford\", \"oxford\", \"oxford\", \"o\\u2019neal\", \"pacheco\", \"pacientes\", \"pacientes\", \"pacientes\", \"pacientes\", \"pacientes\", \"pacto\", \"pacto\", \"pacto\", \"pacto\", \"pacto\", \"padre\", \"padre\", \"padre\", \"padre\", \"padre\", \"pago\", \"pago\", \"pago\", \"pago\", \"pago\", \"paquete\", \"paquete\", \"paquete\", \"paquete\", \"paquete\", \"parlamento\", \"parlamento\", \"parlamento\", \"parlamento\", \"parlamento\", \"partido\", \"partido\", \"partido\", \"partido\", \"partido\", \"pa\\u00edses\", \"pa\\u00edses\", \"pa\\u00edses\", \"pa\\u00edses\", \"pa\\u00edses\", \"pensilvania\", \"pensilvania\", \"pensilvania\", \"pensilvania\", \"pensilvania\", \"pensiones\", \"pensiones\", \"pensiones\", \"pensiones\", \"pensiones\", \"perdiera\", \"perdiera\", \"perdiera\", \"perdiera\", \"perimetral\", \"perimetral\", \"perimetral\", \"perimetral\", \"perimetral\", \"personalizadas\", \"personalizadas\", \"personalizadas\", \"pfizer\", \"pfizer\", \"pfizer\", \"pfizer\", \"pfizer\", \"placebo\", \"placebo\", \"placebo\", \"placebo\", \"placebo\", \"plan\", \"plan\", \"plan\", \"plan\", \"plan\", \"playoffs\", \"playoffs\", \"plazo\", \"plazo\", \"plazo\", \"plazo\", \"plazo\", \"plitidepsina\", \"plitidepsina\", \"poblaci\\u00f3n\", \"poblaci\\u00f3n\", \"poblaci\\u00f3n\", \"poblaci\\u00f3n\", \"poblaci\\u00f3n\", \"podemos\", \"podemos\", \"podemos\", \"podemos\", \"podemos\", \"polic\\u00eda\", \"polic\\u00eda\", \"polic\\u00eda\", \"polic\\u00eda\", \"polic\\u00eda\", \"pol\\u00edtica\", \"pol\\u00edtica\", \"pol\\u00edtica\", \"pol\\u00edtica\", \"pol\\u00edtica\", \"portero\", \"portero\", \"portero\", \"portero\", \"portero\", \"precio\", \"precio\", \"precio\", \"precio\", \"precio\", \"precl\\u00ednicos\", \"presupuestos\", \"presupuestos\", \"presupuestos\", \"presupuestos\", \"presupuestos\", \"prisi\\u00f3n\", \"prisi\\u00f3n\", \"prisi\\u00f3n\", \"prisi\\u00f3n\", \"prisi\\u00f3n\", \"productos\", \"productos\", \"productos\", \"productos\", \"productos\", \"profesional\", \"profesional\", \"profesional\", \"profesional\", \"profesional\", \"providencia\", \"providencia\", \"psoe\", \"psoe\", \"psoe\", \"psoe\", \"psoe\", \"publicaciones\", \"publicaciones\", \"publicaciones\", \"publicaciones\", \"publicaciones\", \"puntos\", \"puntos\", \"puntos\", \"puntos\", \"puntos\", \"quinteto\", \"quinteto\", \"rabobank\", \"rabobank\", \"rabobank\", \"realice\", \"realice\", \"realice\", \"realice\", \"realice\", \"rebus\", \"recuperaciones\", \"recuperaciones\", \"recuperaci\\u00f3n\", \"recuperaci\\u00f3n\", \"recuperaci\\u00f3n\", \"recuperaci\\u00f3n\", \"recuperaci\\u00f3n\", \"reforma\", \"reforma\", \"reforma\", \"reforma\", \"reforma\", \"regir\\u00e1n\", \"regir\\u00e1n\", \"regir\\u00e1n\", \"reg\\u00edstrateiniciar\", \"reg\\u00edstrateiniciar\", \"reg\\u00edstrateiniciar\", \"reg\\u00edstrateiniciar\", \"reg\\u00edstrese\", \"reg\\u00edstrese\", \"reino\", \"reino\", \"reino\", \"reino\", \"reino\", \"reintegrar\\u00e1\", \"rellenado\", \"rellenado\", \"renta\", \"renta\", \"renta\", \"renta\", \"renta\", \"rentabilidad\", \"rentabilidad\", \"rentabilidad\", \"rentabilidad\", \"rentabilidad\", \"renuevan\", \"renuevan\", \"renuevan\", \"resistencia\", \"resistencia\", \"resistencia\", \"resistencia\", \"resistencia\", \"restauradores\", \"restricciones\", \"restricciones\", \"restricciones\", \"restricciones\", \"restricciones\", \"resultados\", \"resultados\", \"resultados\", \"resultados\", \"resultados\", \"resultara\", \"resultara\", \"reuni\\u00f3n\", \"reuni\\u00f3n\", \"reuni\\u00f3n\", \"reuni\\u00f3n\", \"reuni\\u00f3n\", \"riesgo\", \"riesgo\", \"riesgo\", \"riesgo\", \"riesgo\", \"robinhood\", \"robinhood\", \"robinhood\", \"robinhood\", \"rooms\", \"rovi\", \"rovi\", \"rovi\", \"rovi\", \"sabadell\", \"sabadell\", \"sabadell\", \"sabadell\", \"sabadell\", \"salud\", \"salud\", \"salud\", \"salud\", \"salud\", \"saludo\", \"saludo\", \"saludo\", \"saludo\", \"saludo\", \"sanidad\", \"sanidad\", \"sanidad\", \"sanidad\", \"sanidad\", \"santander\", \"santander\", \"santander\", \"santander\", \"santander\", \"sars-cov-\", \"sars-cov-\", \"sars-cov-\", \"sars-cov-\", \"sars-cov-\", \"scytl\", \"scytl\", \"seguir\", \"seguir\", \"seguir\", \"seguir\", \"seguir\", \"seguridad\", \"seguridad\", \"seguridad\", \"seguridad\", \"seguridad\", \"semana\", \"semana\", \"semana\", \"semana\", \"semana\", \"senado\", \"senado\", \"senado\", \"senado\", \"senado\", \"sentencia\", \"sentencia\", \"sentencia\", \"sentencia\", \"sentencia\", \"service\", \"service\", \"service\", \"service\", \"service\", \"servicio\", \"servicio\", \"servicio\", \"servicio\", \"servicio\", \"servicios\", \"servicios\", \"servicios\", \"servicios\", \"servicios\", \"sesi\\u00f3n\", \"sesi\\u00f3n\", \"sesi\\u00f3n\", \"sesi\\u00f3n\", \"sesi\\u00f3n\", \"shaquille\", \"showtime\", \"situaci\\u00f3n\", \"situaci\\u00f3n\", \"situaci\\u00f3n\", \"situaci\\u00f3n\", \"situaci\\u00f3n\", \"sociales\", \"sociales\", \"sociales\", \"sociales\", \"sociales\", \"socimi\", \"socimi\", \"socimi\", \"soja\", \"sola\", \"soporte\", \"soporte\", \"soporte\", \"soporte\", \"soporte\", \"soriot\", \"soriot\", \"subjetivos\", \"subjetivos\", \"subjetivos\", \"subsidiario\", \"suez\", \"suez\", \"suez\", \"sunak\", \"supercopa\", \"supercopa\", \"suscriban\", \"suscripcion\", \"suscripciones\", \"suscripciones\", \"suscripciones\", \"suscripciones\", \"suscripciones\", \"suscripci\\u00f3n\", \"suscripci\\u00f3n\", \"suscripci\\u00f3n\", \"suscripci\\u00f3n\", \"suscripci\\u00f3n\", \"s\\u00e1bado\", \"s\\u00e1bado\", \"s\\u00e1bado\", \"s\\u00e1bado\", \"s\\u00e1bado\", \"s\\u00e1nchez\", \"s\\u00e1nchez\", \"s\\u00e1nchez\", \"s\\u00e1nchez\", \"s\\u00e1nchez\", \"tecnicas\", \"tecnicas\", \"telef\\u00f3nica\", \"telef\\u00f3nica\", \"telef\\u00f3nica\", \"telef\\u00f3nica\", \"telef\\u00f3nica\", \"tercer\", \"tercer\", \"tercer\", \"tercer\", \"tercer\", \"tesoros\", \"tesoros\", \"toque\", \"toque\", \"toque\", \"toque\", \"toque\", \"trader\", \"trader\", \"trader\", \"trader\", \"trading\", \"trading\", \"trading\", \"trading\", \"trading\", \"traducci\\u00f3n\", \"traducci\\u00f3n\", \"traducci\\u00f3n\", \"traducci\\u00f3n\", \"traducci\\u00f3n\", \"traiding\", \"training\", \"transportation\", \"transportation\", \"tratamiento\", \"tratamiento\", \"tratamiento\", \"tratamiento\", \"tratamiento\", \"travel\", \"travel\", \"travel\", \"travel\", \"travel\", \"tribunal\", \"tribunal\", \"tribunal\", \"tribunal\", \"tribunal\", \"trimestre\", \"trimestre\", \"trimestre\", \"trimestre\", \"trimestre\", \"trump\", \"trump\", \"trump\", \"trump\", \"trump\", \"unidas\", \"unidas\", \"unidas\", \"unidas\", \"unidas\", \"unido\", \"unido\", \"unido\", \"unido\", \"unido\", \"urbas\", \"urquijo\", \"urquijo\", \"urquijo\", \"urquijo\", \"urquijo\", \"usuario\", \"usuario\", \"usuario\", \"usuario\", \"usuario\", \"vacuna\", \"vacuna\", \"vacuna\", \"vacuna\", \"vacuna\", \"vacunaci\\u00f3n\", \"vacunaci\\u00f3n\", \"vacunaci\\u00f3n\", \"vacunaci\\u00f3n\", \"vacunaci\\u00f3n\", \"vacunas\", \"vacunas\", \"vacunas\", \"vacunas\", \"vacunas\", \"valdebebas\", \"valdebebas\", \"valdebebas\", \"valenciana\", \"valenciana\", \"valenciana\", \"valenciana\", \"valenciana\", \"validez\", \"validez\", \"validez\", \"validez\", \"validez\", \"valores\", \"valores\", \"valores\", \"valores\", \"valores\", \"variable\", \"variable\", \"variable\", \"variable\", \"variable\", \"variante\", \"variante\", \"variante\", \"variante\", \"variante\", \"vdos\", \"vdos\", \"vdos\", \"ventas\", \"ventas\", \"ventas\", \"ventas\", \"ventas\", \"versi\\u00f3n\", \"versi\\u00f3n\", \"versi\\u00f3n\", \"versi\\u00f3n\", \"versi\\u00f3n\", \"vestida\", \"viajes\", \"viajes\", \"viajes\", \"viajes\", \"viajes\", \"viales\", \"viales\", \"viales\", \"viales\", \"viales\", \"vida\", \"vida\", \"vida\", \"vida\", \"vida\", \"viernes\", \"viernes\", \"viernes\", \"viernes\", \"viernes\", \"vinagre\", \"vinagre\", \"vincularse\", \"vincularse\", \"vira\", \"vira\", \"vira\", \"virus\", \"virus\", \"virus\", \"virus\", \"virus\", \"vitaldent\", \"volatilidad\", \"volatilidad\", \"volatilidad\", \"volatilidad\", \"volatilidad\", \"wisconsin\", \"wisconsin\", \"wisconsin\", \"wisconsin\", \"wwwestrategiasdeinversioncom\", \"yield\", \"yield\", \"yield\", \"yield\", \"yield\", \"\\u00e1lvarez-pallete\"]}, \"R\": 30, \"lambda.step\": 0.01, \"plot.opts\": {\"xlab\": \"PC1\", \"ylab\": \"PC2\"}, \"topic.order\": [4, 3, 1, 2, 5]};\n",
       "\n",
       "function LDAvis_load_lib(url, callback){\n",
       "  var s = document.createElement('script');\n",
       "  s.src = url;\n",
       "  s.async = true;\n",
       "  s.onreadystatechange = s.onload = callback;\n",
       "  s.onerror = function(){console.warn(\"failed to load library \" + url);};\n",
       "  document.getElementsByTagName(\"head\")[0].appendChild(s);\n",
       "}\n",
       "\n",
       "if(typeof(LDAvis) !== \"undefined\"){\n",
       "   // already loaded: just create the visualization\n",
       "   !function(LDAvis){\n",
       "       new LDAvis(\"#\" + \"ldavis_el1771140260488822448911228675\", ldavis_el1771140260488822448911228675_data);\n",
       "   }(LDAvis);\n",
       "}else if(typeof define === \"function\" && define.amd){\n",
       "   // require.js is available: use it to load d3/LDAvis\n",
       "   require.config({paths: {d3: \"https://d3js.org/d3.v5\"}});\n",
       "   require([\"d3\"], function(d3){\n",
       "      window.d3 = d3;\n",
       "      LDAvis_load_lib(\"https://cdn.jsdelivr.net/gh/bmabey/pyLDAvis@3.3.1/pyLDAvis/js/ldavis.v3.0.0.js\", function(){\n",
       "        new LDAvis(\"#\" + \"ldavis_el1771140260488822448911228675\", ldavis_el1771140260488822448911228675_data);\n",
       "      });\n",
       "    });\n",
       "}else{\n",
       "    // require.js not available: dynamically load d3 & LDAvis\n",
       "    LDAvis_load_lib(\"https://d3js.org/d3.v5.js\", function(){\n",
       "         LDAvis_load_lib(\"https://cdn.jsdelivr.net/gh/bmabey/pyLDAvis@3.3.1/pyLDAvis/js/ldavis.v3.0.0.js\", function(){\n",
       "                 new LDAvis(\"#\" + \"ldavis_el1771140260488822448911228675\", ldavis_el1771140260488822448911228675_data);\n",
       "            })\n",
       "         });\n",
       "}\n",
       "</script>"
      ],
      "text/plain": [
       "<IPython.core.display.HTML object>"
      ]
     },
     "execution_count": 59,
     "metadata": {},
     "output_type": "execute_result"
    }
   ],
   "source": [
    "vis_data = pyLDAvis.gensim_models.prepare(ldamodel, corpus_bow, diccionari)\n",
    "pyLDAvis.display(vis_data)"
   ]
  },
  {
   "cell_type": "markdown",
   "metadata": {},
   "source": [
    "Observant el gràfic resultant pensem que seria apropiat disminuir el número de topics"
   ]
  },
  {
   "cell_type": "code",
   "execution_count": 60,
   "metadata": {},
   "outputs": [
    {
     "data": {
      "text/html": [
       "\n",
       "<link rel=\"stylesheet\" type=\"text/css\" href=\"https://cdn.jsdelivr.net/gh/bmabey/pyLDAvis@3.3.1/pyLDAvis/js/ldavis.v1.0.0.css\">\n",
       "\n",
       "\n",
       "<div id=\"ldavis_el17711402604948204007364589410\"></div>\n",
       "<script type=\"text/javascript\">\n",
       "\n",
       "var ldavis_el17711402604948204007364589410_data = {\"mdsDat\": {\"x\": [0.10783318666163245, -0.11230349651951907, -0.0433378189972146, 0.04780812885510123], \"y\": [-0.04861341123434161, -0.05487130048763285, 0.06437488913371357, 0.03910982258826097], \"topics\": [1, 2, 3, 4], \"cluster\": [1, 1, 1, 1], \"Freq\": [29.875727874509494, 27.62643485396249, 25.750005437544814, 16.747831833983195]}, \"tinfo\": {\"Term\": [\"d\\u00f3lares\", \"plazo\", \"ibex\", \"inversi\\u00f3n\", \"inversores\", \"madrid\", \"banco\", \"bolsa\", \"acciones\", \"casos\", \"eeuu\", \"comunidad\", \"puntos\", \"trimestre\", \"contrataci\\u00f3n\", \"sanidad\", \"alcista\", \"profesional\", \"mercados\", \"catalu\\u00f1a\", \"corto\", \"medidas\", \"semana\", \"valores\", \"trading\", \"servicio\", \"canarias\", \"recuperaci\\u00f3n\", \"m\\u00e1ximos\", \"biden\", \"d\\u00e9cimos\", \"cucharadita\", \"tonos\", \"salsa\", \"cucharadas\", \"kroos\", \"meir\\u00e1s\", \"seminario\", \"modric\", \"vinagre\", \"auricular\", \"pand\\u00e8mia\", \"supercopa\", \"ostras\", \"beb\\u00e9s\", \"arterial\", \"lily\", \"aix\\u00f2\", \"persones\", \"portero\", \"bos\\u00e9\", \"tomate\", \"wood\", \"ritual\", \"prix\", \"cuchilla\", \"ciclismo\", \"cantado\", \"lentes\", \"pedri\", \"champions\", \"koeman\", \"piel\", \"messi\", \"nature\", \"fins\", \"goles\", \"dels\", \"mary\", \"pulgadas\", \"auriculares\", \"per\\u00f2\", \"pantalla\", \"bar\\u00e7a\", \"gafas\", \"actriz\", \"diabetes\", \"jam\\u00f3n\", \"pel\\u00edcula\", \"m\\u00fasica\", \"copa\", \"pollo\", \"iphone\", \"personajes\", \"fotos\", \"ni\\u00f1os\", \"juegos\", \"ni\\u00f1o\", \"novela\", \"madre\", \"aceite\", \"libro\", \"liga\", \"v\\u00eddeos\", \"f\\u00fatbol\", \"premio\", \"instagram\", \"vida\", \"mujeres\", \"padre\", \"radio\", \"padres\", \"joven\", \"familia\", \"gente\", \"amigos\", \"equipo\", \"casa\", \"mujer\", \"cuando\", \"minutos\", \"original\", \"versi\\u00f3n\", \"puedes\", \"historia\", \"ciudad\", \"hijos\", \"hombre\", \"club\", \"explica\", \"amazon\", \"agua\", \"centro\", \"madrid\", \"serie\", \"este\", \"partido\", \"tipo\", \"marca\", \"tambi\\u00e9n\", \"gracias\", \"importante\", \"tecnolog\\u00eda\", \"virus\", \"salud\", \"coronavirus\", \"real\", \"esta\", \"europa\", \"datos\", \"directriz\", \"siemens-gamesa\", \"intercambia\", \"aconsejemos\", \"jofre\", \"oscilador\", \"descartamos\", \"macd\", \"urbas\", \"m\\u00faltiplos\", \"fibonacci\", \"biosearch\", \"eurostoxx\", \"alcista\", \"alcistas\", \"fargo\", \"rovi\", \"mnuchin\", \"bajista\", \"ichimoku\", \"indicarnos\", \"correctiva\", \"berenberg\", \"superara\", \"revaloriza\", \"jpmorgan\", \"sobreventa\", \"felguera\", \"trader\", \"throw\", \"liberbank\", \"aproximarnos\", \"stanley\", \"d\\u00f3lar\", \"ibex\", \"nasdaq\", \"unicaja\", \"iniciara\", \"securities\", \"volatilidad\", \"\\u00edndices\", \"dividendo\", \"m\\u00e1ximos\", \"wall\", \"sabadell\", \"analistas\", \"inversores\", \"eeuu\", \"solaria\", \"bank\", \"bolsa\", \"d\\u00f3lares\", \"bolsas\", \"accionistas\", \"acciones\", \"santander\", \"biden\", \"street\", \"subidas\", \"banco\", \"bbva\", \"bancos\", \"plazo\", \"ganancias\", \"soporte\", \"puntos\", \"corto\", \"valores\", \"trimestre\", \"mercados\", \"trump\", \"inversi\\u00f3n\", \"activos\", \"resultados\", \"an\\u00e1lisis\", \"vacuna\", \"nivel\", \"capital\", \"invertir\", \"precio\", \"compa\\u00f1\\u00edas\", \"crecimiento\", \"objetivo\", \"europa\", \"semana\", \"negocio\", \"estrategias\", \"suscripcion\", \"contratantes\", \"contraprestaciones\", \"antedicha\", \"contratacion\", \"establecieran\", \"reintegrar\\u00e1\", \"traiding\", \"wwwestrategiasdeinversioncom\", \"tecnicas\", \"desistimiento\", \"caracter\", \"regir\\u00e1n\", \"deseara\", \"vincularse\", \"resultara\", \"calcular\\u00e1\", \"comercializados\", \"subjetivos\", \"orientativos\", \"suscriban\", \"renuevan\", \"contrate\", \"turespa\\u00f1a\", \"devengada\", \"expreso\", \"renovaciones\", \"adhiere\", \"rcep\", \"refundido\", \"pensi\\u00f3n\", \"contractual\", \"aut\\u00f3nomos\", \"erte\", \"contrataci\\u00f3n\", \"pensiones\", \"realice\", \"suscripci\\u00f3n\", \"jubilaci\\u00f3n\", \"profesional\", \"consentimiento\", \"renovaci\\u00f3n\", \"publicaciones\", \"trabajadores\", \"servicio\", \"pago\", \"turismo\", \"derecho\", \"generales\", \"contratar\", \"usuario\", \"vivienda\", \"reforma\", \"laboral\", \"digitalizaci\\u00f3n\", \"cliente\", \"sostenibilidad\", \"regulaci\\u00f3n\", \"trading\", \"econom\\u00eda\", \"deber\\u00e1\", \"recuperaci\\u00f3n\", \"social\", \"condiciones\", \"servicios\", \"contrato\", \"anual\", \"econ\\u00f3mica\", \"plan\", \"profesionales\", \"sectores\", \"demanda\", \"actividad\", \"medidas\", \"inversi\\u00f3n\", \"seguridad\", \"pa\\u00edses\", \"productos\", \"estado\", \"impacto\", \"cambio\", \"situaci\\u00f3n\", \"datos\", \"crecimiento\", \"precio\", \"kobe\", \"celtics\", \"kareem\", \"lakers\", \"playoffs\", \"menorca\", \"barcelona-el\", \"abdul-jabbar\", \"quinteto\", \"bryant\", \"shaquille\", \"fisher\", \"eurowings\", \"reg\\u00edstrateiniciar\", \"iceta\", \"o\\u2019neal\", \"aemet\", \"conseller\", \"showtime\", \"alicante-elche\", \"celulosa\", \"eurocontrol\", \"electrolizador\", \"injurias\", \"clippers\", \"diagn\\u00f3stica\", \"neurona\", \"raptors\", \"otegi\", \"shapps\", \"clia\", \"ashotel\", \"ant\\u00edgenos\", \"lebron\", \"consellera\", \"arag\\u00f3n\", \"canarias\", \"illa\", \"melilla\", \"draft\", \"baleares\", \"madrid-barajas\", \"hidr\\u00f3geno\", \"vuelos\", \"castilla-la\", \"sim\\u00f3n\", \"govern\", \"sanidad\", \"pasajeros\", \"catalu\\u00f1a\", \"castilla\", \"mallorca\", \"test\", \"aeropuertos\", \"aeropuerto\", \"incidencia\", \"comunidad\", \"islas\", \"cantabria\", \"navarra\", \"generalitat\", \"comunidades\", \"contagios\", \"casos\", \"le\\u00f3n\", \"valenciana\", \"madrid\", \"viajeros\", \"habitantes\", \"medidas\", \"semana\", \"salud\", \"coronavirus\", \"movilidad\", \"restricciones\", \"ministro\", \"situaci\\u00f3n\", \"n\\u00famero\", \"partido\", \"viernes\", \"ministerio\", \"datos\", \"proyecto\", \"lunes\", \"centro\", \"zonas\", \"cierre\", \"ciudadanos\", \"informaci\\u00f3n\", \"unido\", \"pa\\u00edses\", \"diciembre\"], \"Freq\": [3364.0, 4218.0, 1900.0, 4376.0, 2217.0, 3283.0, 2515.0, 2040.0, 2229.0, 2572.0, 1769.0, 1800.0, 3062.0, 2285.0, 1276.0, 1188.0, 1018.0, 1755.0, 2439.0, 1009.0, 2046.0, 3141.0, 3439.0, 2010.0, 1492.0, 2488.0, 762.0, 2638.0, 1069.0, 1279.0, 62.501390209222116, 30.600000357100775, 99.65167133309802, 112.08059118376264, 43.85488125730877, 48.106912116321325, 42.02328419500886, 112.15742520100538, 30.702785673277088, 44.48494430494341, 26.437746714084543, 32.801635220012614, 37.145784382188594, 35.281154811751655, 59.30208366573809, 36.41152209444503, 35.369038296841524, 47.52168668270695, 24.423410414081488, 79.08684774156228, 29.075417174547876, 67.49352912017174, 21.455132087461287, 28.56689595532342, 27.35368895553584, 21.71183113638024, 51.84691707908303, 21.033486063309176, 24.854617809089348, 46.18862529159597, 178.597488275061, 98.82616227563145, 238.99579411947403, 147.86625491584147, 104.29814061114638, 52.84123474665443, 120.64165489744461, 110.29362312375522, 128.3462144867308, 125.84234527054576, 100.97872007063329, 86.33438075766796, 416.5891275250456, 195.0801883061219, 91.2626798441063, 157.61724919630896, 80.24592231590377, 92.7572577064828, 260.8393890589248, 540.8185425463314, 229.9781488709641, 123.75077627310914, 312.3692673057878, 181.13480026911432, 238.337526766246, 557.3338416367171, 331.26496528442067, 259.61842633868065, 148.98819660264135, 405.65390473168475, 190.94980589929148, 478.8633441985513, 340.40356824850306, 237.03586375807126, 401.10004978913025, 397.72992269132254, 320.43358477332345, 1528.3674734675528, 744.7278467288606, 431.32023077349515, 338.51030092366057, 311.16573525435217, 384.49285027894115, 680.9444308287704, 950.1800247066512, 339.7518095811812, 1108.0794096752177, 1242.8821200496461, 468.5014791494032, 649.936235268142, 501.445888235896, 624.831028415849, 704.589466846319, 569.4889145544408, 855.0552278659839, 788.1733807823229, 420.9463867753574, 361.6131689682049, 391.8276015405159, 879.0414599538274, 679.4306328725428, 539.9233108136307, 698.6140852326341, 1066.4253033369207, 598.7008240645551, 864.7239085944927, 651.0666326836405, 788.1664826878582, 564.045724637357, 695.1834329188785, 661.3368569186908, 719.3784621671306, 621.4775531697328, 594.3767572580383, 641.2979666719234, 671.7953323768735, 589.5099290940472, 601.6619609163616, 628.9296091237362, 614.9898953257238, 152.61188604392763, 167.14423574682834, 62.57569952150729, 75.88077885118597, 92.48584461116612, 57.685835723493085, 68.97383728780966, 51.47234729669551, 40.815168817182474, 64.70822920708909, 49.53383359422759, 41.5997291741841, 79.6542716215924, 991.4012257073474, 240.37328135453674, 47.468606565242, 139.06471862979305, 41.960287081423, 652.2767711220943, 50.67429640082075, 34.55740210121406, 36.242570599721496, 40.38069801790333, 176.43124788146469, 71.99718407874022, 70.39275304738776, 29.74585158867934, 94.37988711875958, 171.24175865779492, 58.67232977104382, 274.0129324273833, 197.14362758856848, 112.82224681512169, 502.99865572736206, 1766.395791825045, 425.6295450708488, 325.0016994194515, 151.4963080731014, 150.38043860032306, 556.4500997997736, 682.6060745849583, 510.4412149806154, 970.944510359441, 548.4535153657245, 721.5896251802386, 834.3121954749033, 1912.2733826235426, 1539.286552326837, 249.21019732790074, 348.84549597944704, 1751.7154791606747, 2788.1622614712373, 682.7776149102037, 695.093469504927, 1842.586583002328, 890.4203540447393, 1087.2412375307717, 730.84457210014, 857.174179165756, 2030.5286599697572, 906.1512397446095, 1098.8255251086746, 3080.673564837727, 548.5163426099966, 722.3721535971621, 2182.3951412277247, 1535.7354412515633, 1501.7324587161393, 1644.9328955862154, 1730.9868782272931, 1144.494895889462, 2578.497047498432, 1209.84435222897, 1451.4690171696811, 1499.001256896357, 1338.919221796765, 1846.8132927196123, 1514.1202628515193, 1105.130266506871, 1622.4668058407115, 1198.8310655337814, 1322.6663075421393, 1333.143916532343, 1464.7590369940972, 1432.3840757141816, 1169.2026699412427, 1122.3699663109996, 220.7373921757126, 115.75492235780412, 114.54450282610756, 107.68109292374824, 107.68109292374824, 107.68109292374824, 107.68109292374824, 107.68109292374824, 107.68109292374824, 333.70710617121404, 342.15287262341076, 113.01697428223164, 119.40816489756656, 107.67986227035689, 119.88798386884535, 116.75059287270979, 120.11694932968308, 121.65457882087503, 111.64951858304514, 113.36490556798532, 114.07003799620672, 118.20533705886861, 123.4423506007429, 41.06358729825645, 115.12944676727747, 119.0622234345041, 121.61882594247952, 113.08250257969324, 26.619989807819334, 117.6980281676791, 283.43459548426284, 119.9247036891912, 561.2001301824732, 712.8735896682679, 1112.6206254616402, 844.6249124046284, 251.1479722343367, 949.546840468687, 349.0842002087123, 1392.7932862283117, 362.06775331258916, 446.40801030451877, 361.9826304559354, 1016.8016966908065, 1666.2039381373174, 1053.7672002046058, 1191.2926847231427, 953.0447729522098, 636.2894857190538, 282.7598458105474, 1134.6534766198467, 649.8483453096203, 453.2021120454288, 535.4884564747271, 477.0415304171164, 710.702844946016, 505.4957072162343, 471.6985767972606, 957.2763027170707, 1568.6587063261372, 712.7541044117256, 1415.6547986467103, 1198.4384017187244, 974.2730644776805, 1392.1565429671239, 688.2580924994729, 610.2491156782356, 1032.3154092372563, 1310.4714606233147, 701.0121367371185, 809.1514083114716, 885.2364743192368, 1042.1236208712605, 1261.6988447177243, 1509.115539799529, 1038.4283363347972, 1220.3550280527502, 1028.9758314784285, 828.340714940123, 874.4785818473869, 937.7450982007857, 1029.9086987140963, 1032.3136191959597, 913.0105632857728, 915.8238049733798, 223.16951694940553, 200.46374906262716, 39.089140626562774, 271.1933478422337, 52.64273315549111, 65.80643360562154, 48.06281230442567, 30.89128999611663, 36.66151084907165, 88.46815769481631, 32.59491541724713, 134.3065867030593, 24.728856370993256, 89.95847423292467, 76.83079780463187, 17.792627432475815, 32.5562588507463, 61.19418936805947, 17.890747543607812, 13.867331821409817, 69.14106987435876, 34.976625091876436, 16.78212399405803, 14.938104420298455, 21.78277251987537, 33.05218816537166, 19.02461545530812, 17.364508882085033, 18.421752332388575, 16.7084205397703, 52.69539444379852, 31.56379471023544, 170.5726675141254, 39.50038412387301, 34.049680907978605, 226.8270960219024, 617.4038963083308, 367.5358754202565, 114.03104475578444, 48.94177037064701, 371.4959294566636, 66.35048417348358, 275.2795769116995, 393.4312583295864, 144.90278427460456, 155.37638270791498, 215.82107387642907, 840.388838872583, 458.983148514998, 708.56663628354, 291.69484684121375, 223.30864420615768, 458.75878190488606, 227.05088050960117, 248.6677676324235, 474.8647369321351, 1066.2823560743338, 342.11710523672497, 184.0810987783377, 235.83887073022146, 313.95633058621183, 659.9534272374442, 628.1564041428603, 1283.1779239750786, 300.91123757776865, 267.04156763102566, 1434.2035965321213, 387.80292461732466, 413.70795412664455, 1017.5563816007688, 1066.8429399582346, 755.3950580107986, 957.8656325127222, 485.9856866740409, 609.8612946204696, 489.07542612255816, 818.8567129311383, 648.7322276999529, 567.3898096748959, 539.3975386729147, 487.26061791926935, 785.1005152747947, 572.9951079716643, 551.0917542512944, 528.3370049214635, 457.1596916358561, 527.4099749784601, 441.8235935000494, 476.0623706369266, 484.12879933631297, 501.36145229428917, 465.2116504352575], \"Total\": [3364.0, 4218.0, 1900.0, 4376.0, 2217.0, 3283.0, 2515.0, 2040.0, 2229.0, 2572.0, 1769.0, 1800.0, 3062.0, 2285.0, 1276.0, 1188.0, 1018.0, 1755.0, 2439.0, 1009.0, 2046.0, 3141.0, 3439.0, 2010.0, 1492.0, 2488.0, 762.0, 2638.0, 1069.0, 1279.0, 63.6262892310273, 31.335763613572563, 102.19954380978763, 115.04718571712691, 45.032975647752004, 49.40495697686674, 43.169444231881336, 115.21859184424031, 31.558542367759415, 45.725485383125225, 27.191565334534328, 33.74772049884712, 38.217505096147036, 36.31460112773023, 61.045877181053285, 37.49486436277097, 36.44267608201395, 48.98651559019338, 25.198968069639278, 81.62234154144338, 30.06170587698754, 69.84238810914101, 22.20279091960515, 29.56884717999313, 28.31309580285886, 22.47770110923804, 53.6911857616777, 21.799166872614688, 25.760167764261773, 47.87808213683493, 185.5208982213537, 102.82030923459969, 250.96298665659205, 154.65719316568948, 108.90224149268508, 54.898172785086444, 126.67172731661078, 115.62726878474848, 135.01346857965885, 132.69320886573712, 106.16769398242319, 90.5701908070435, 456.66269139115974, 210.03576625921357, 96.0460743453366, 168.72708827959653, 84.2489288693415, 97.82860985795746, 285.3055034747295, 612.3146443674524, 251.68735854849547, 132.69008277540496, 348.41258619366846, 197.40630979944228, 264.4432722629695, 651.9669907027861, 376.37947212305437, 291.1196874904455, 161.32761827483182, 470.0047886166456, 211.0886261863848, 568.3961861213851, 395.71865913817953, 268.6772745445658, 482.92386924050254, 478.69797540132066, 381.2010730279034, 2239.690184772114, 1017.5127519918321, 543.7477188903276, 413.95595791913667, 377.3863628186658, 485.88223378443143, 955.1930016631437, 1449.7036498380799, 421.7549310070412, 1758.7994299846823, 2026.453374627508, 625.542852449659, 953.0130898989341, 702.8472387723757, 948.7638462166939, 1118.7703419210902, 849.6917222131053, 1483.5431315021447, 1353.9917144974534, 570.6134145350411, 461.27291451081726, 522.1589279933567, 1899.7897914173898, 1258.6014752660728, 892.3332920710222, 1487.9024114281888, 3283.817194617901, 1126.3140269838646, 2405.5500730817766, 1494.0265485205719, 2340.6626520006644, 1097.8702571137887, 1866.3761778026153, 1762.8810679977205, 2422.7164081862834, 1687.3425880958364, 1441.3602246848181, 2128.389281911691, 3298.3959403534245, 1535.5939037510864, 1829.7635352211641, 3227.6858966722084, 3425.3218887192706, 154.28561245390586, 169.57248513100558, 63.539751565139724, 77.05066770908049, 94.03569575663228, 58.66222377626321, 70.4246219203626, 52.567169498793476, 41.82783283653674, 66.34837458490013, 50.81280973346021, 42.72194382047012, 81.8159309038384, 1018.3954130021027, 246.986274984081, 48.80692647864505, 142.98889476288616, 43.16908069837188, 671.07285936801, 52.17737013496497, 35.60189701307662, 37.377907240743404, 41.64988055874553, 182.04218023001283, 74.29754798313331, 72.66741579623594, 30.7225434294213, 97.51643334797828, 176.93497407679317, 60.71327961168888, 284.3416413046023, 205.5426378015295, 117.19712636538777, 531.611102608825, 1900.6188908445756, 450.42321202624385, 342.58221386200495, 158.5120300529164, 157.64915439049793, 599.6251813426013, 741.6598628503398, 549.9857499491561, 1069.7742490966214, 596.3656239684065, 795.5469744409413, 933.0300533130433, 2217.229409593668, 1769.8169108008235, 266.6255666320215, 378.65339654226074, 2040.8281374117207, 3364.7835493068806, 765.670823955962, 789.021507663572, 2229.6457641949387, 1032.1800404758624, 1279.1602642312741, 837.1135213791124, 994.881794699958, 2515.312226650499, 1069.953437467461, 1338.6362842911028, 4218.931348789542, 627.156497711675, 858.1903592413867, 3062.6877707452372, 2046.088166951226, 2010.1644979183923, 2285.996850943466, 2439.913942094522, 1502.213961810496, 4376.5494640848765, 1649.1311484245055, 2099.13807909185, 2238.4384419964367, 1957.2820541139313, 3271.591230512805, 2462.1171162233386, 1552.2537781861954, 3086.2280666561333, 1956.4333563340704, 2436.3982631344443, 2500.5716623500257, 3227.6858966722084, 3439.5420307564223, 2070.7895601587693, 1896.652009660718, 222.0443665509167, 116.76677721407579, 115.5584767019642, 108.7836999919239, 108.7836999919239, 108.7836999919239, 108.7836999919239, 108.7836999919239, 108.7836999919239, 337.23421122068936, 345.7951493447955, 114.26672251792174, 120.82485569189606, 108.98571762101332, 121.75328724491852, 118.57436020782312, 122.05858264170112, 123.84687124329626, 113.92236196073046, 115.75352432741981, 116.59891491911445, 121.19065631241824, 126.72593957787552, 42.17306940928023, 118.5037521471585, 122.75580224976602, 125.9582764286305, 117.3517953303152, 27.753479555750648, 122.74281815795938, 299.0497391153595, 125.74645008019523, 608.6255713579789, 797.2618275554842, 1276.8510210712218, 963.3847538396678, 271.37964017857195, 1140.4335451417564, 389.1714198762184, 1755.859911263858, 414.3084434050312, 540.8023834166315, 429.9136756694661, 1397.257118311149, 2488.0753651064842, 1474.245709353108, 1727.1504450323866, 1348.1149526043, 847.1678897910092, 330.8555088912112, 1687.7002206438037, 877.1574745296482, 578.9499026737396, 713.2479767842128, 625.5840255200479, 1014.7980250911087, 678.6360650145999, 627.4806329390195, 1492.751085442432, 2749.4642847330974, 1044.323696867693, 2638.7465319418034, 2126.6258825121236, 1658.5258177048179, 2719.995451073625, 1035.542526642232, 878.2196150844424, 1859.1923175844863, 2639.2792625127663, 1082.6984495041193, 1393.300315718752, 1672.8578818722635, 2220.164105613952, 3141.5706661877375, 4376.5494640848765, 2286.7862382385447, 3163.3967056263155, 2291.651922184858, 1605.0312100317237, 1862.665894498224, 2290.177323965778, 3022.2280037740034, 3425.3218887192706, 2436.3982631344443, 3086.2280666561333, 226.7214061452937, 205.98091038833695, 40.188258045648, 278.83476194537434, 54.37946182256875, 67.97873720495888, 49.65959005234607, 31.955119293434898, 37.92973557182141, 91.66744116472614, 33.818931800796456, 140.46577967317143, 25.90613256022204, 94.87323867696645, 81.09299758092914, 18.781562066305682, 34.56699451588461, 65.49536229001177, 19.16252540712181, 14.85961265051342, 74.2727993660776, 37.737523935665614, 18.149723274975113, 16.161318751794923, 23.665050588752234, 35.98179760155199, 20.729503017886348, 18.935070913555013, 20.093299470306363, 18.229654496044557, 57.9817234538249, 34.723417142810774, 196.68579332840696, 43.81305944565328, 37.656320818899445, 266.02114351276646, 762.6969330797926, 449.8943053950153, 133.10387598887127, 55.14181233187622, 473.79385538076883, 76.16020971751911, 346.0398242297913, 507.4719509125547, 175.18935232135928, 189.99905787742364, 270.68048724117443, 1188.7599032672922, 619.8294583196441, 1009.4542463901937, 382.6562234562664, 285.8224416603384, 639.0715344407488, 293.1509831230285, 327.6517967852125, 693.2452152925329, 1800.0590698959795, 479.9959005561254, 233.81214192212516, 314.55581456231636, 446.49021984884394, 1124.8932099496324, 1063.1667472296626, 2572.401252064432, 430.93473945364553, 374.41324703673433, 3283.817194617901, 621.9765017055729, 685.3676773351342, 3141.5706661877375, 3439.5420307564223, 2128.389281911691, 3298.3959403534245, 1043.6256396689123, 1656.6071850849416, 1108.162627488841, 3022.2280037740034, 1957.328506616339, 1494.0265485205719, 1431.5825189932489, 1148.816489463857, 3425.3218887192706, 1703.5164568691062, 1578.2033355467088, 1487.9024114281888, 1020.4532318556484, 2000.8577810158208, 1005.3751106859484, 1606.1802104985586, 1934.8591256202026, 3163.3967056263155, 2010.4657402670562], \"Category\": [\"Default\", \"Default\", \"Default\", \"Default\", \"Default\", \"Default\", \"Default\", \"Default\", \"Default\", \"Default\", \"Default\", \"Default\", \"Default\", \"Default\", \"Default\", \"Default\", \"Default\", \"Default\", \"Default\", \"Default\", \"Default\", \"Default\", \"Default\", \"Default\", \"Default\", \"Default\", \"Default\", \"Default\", \"Default\", \"Default\", \"Topic1\", \"Topic1\", \"Topic1\", \"Topic1\", \"Topic1\", \"Topic1\", \"Topic1\", \"Topic1\", \"Topic1\", \"Topic1\", \"Topic1\", \"Topic1\", \"Topic1\", \"Topic1\", \"Topic1\", \"Topic1\", \"Topic1\", \"Topic1\", \"Topic1\", \"Topic1\", \"Topic1\", \"Topic1\", \"Topic1\", \"Topic1\", \"Topic1\", \"Topic1\", \"Topic1\", \"Topic1\", \"Topic1\", \"Topic1\", \"Topic1\", \"Topic1\", \"Topic1\", \"Topic1\", \"Topic1\", \"Topic1\", \"Topic1\", \"Topic1\", \"Topic1\", \"Topic1\", \"Topic1\", \"Topic1\", \"Topic1\", \"Topic1\", \"Topic1\", \"Topic1\", \"Topic1\", \"Topic1\", \"Topic1\", \"Topic1\", \"Topic1\", \"Topic1\", \"Topic1\", \"Topic1\", \"Topic1\", \"Topic1\", \"Topic1\", \"Topic1\", \"Topic1\", \"Topic1\", \"Topic1\", \"Topic1\", \"Topic1\", \"Topic1\", \"Topic1\", \"Topic1\", \"Topic1\", \"Topic1\", \"Topic1\", \"Topic1\", \"Topic1\", \"Topic1\", \"Topic1\", \"Topic1\", \"Topic1\", \"Topic1\", \"Topic1\", \"Topic1\", \"Topic1\", \"Topic1\", \"Topic1\", \"Topic1\", \"Topic1\", \"Topic1\", \"Topic1\", \"Topic1\", \"Topic1\", \"Topic1\", \"Topic1\", \"Topic1\", \"Topic1\", \"Topic1\", \"Topic1\", \"Topic1\", \"Topic1\", \"Topic1\", \"Topic1\", \"Topic1\", \"Topic1\", \"Topic1\", \"Topic1\", \"Topic1\", \"Topic1\", \"Topic1\", \"Topic1\", \"Topic1\", \"Topic1\", \"Topic1\", \"Topic1\", \"Topic1\", \"Topic2\", \"Topic2\", \"Topic2\", \"Topic2\", \"Topic2\", \"Topic2\", \"Topic2\", \"Topic2\", \"Topic2\", \"Topic2\", \"Topic2\", \"Topic2\", \"Topic2\", \"Topic2\", \"Topic2\", \"Topic2\", \"Topic2\", \"Topic2\", \"Topic2\", \"Topic2\", \"Topic2\", \"Topic2\", \"Topic2\", \"Topic2\", \"Topic2\", \"Topic2\", \"Topic2\", \"Topic2\", \"Topic2\", \"Topic2\", \"Topic2\", \"Topic2\", \"Topic2\", \"Topic2\", \"Topic2\", \"Topic2\", \"Topic2\", \"Topic2\", \"Topic2\", \"Topic2\", \"Topic2\", \"Topic2\", \"Topic2\", \"Topic2\", \"Topic2\", \"Topic2\", \"Topic2\", \"Topic2\", \"Topic2\", \"Topic2\", \"Topic2\", \"Topic2\", \"Topic2\", \"Topic2\", \"Topic2\", \"Topic2\", \"Topic2\", \"Topic2\", \"Topic2\", \"Topic2\", \"Topic2\", \"Topic2\", \"Topic2\", \"Topic2\", \"Topic2\", \"Topic2\", \"Topic2\", \"Topic2\", \"Topic2\", \"Topic2\", \"Topic2\", \"Topic2\", \"Topic2\", \"Topic2\", \"Topic2\", \"Topic2\", \"Topic2\", \"Topic2\", \"Topic2\", \"Topic2\", \"Topic2\", \"Topic2\", \"Topic2\", \"Topic2\", \"Topic2\", \"Topic2\", \"Topic2\", \"Topic3\", \"Topic3\", \"Topic3\", \"Topic3\", \"Topic3\", \"Topic3\", \"Topic3\", \"Topic3\", \"Topic3\", \"Topic3\", \"Topic3\", \"Topic3\", \"Topic3\", \"Topic3\", \"Topic3\", \"Topic3\", \"Topic3\", \"Topic3\", \"Topic3\", \"Topic3\", \"Topic3\", \"Topic3\", \"Topic3\", \"Topic3\", \"Topic3\", \"Topic3\", \"Topic3\", \"Topic3\", \"Topic3\", \"Topic3\", \"Topic3\", \"Topic3\", \"Topic3\", \"Topic3\", \"Topic3\", \"Topic3\", \"Topic3\", \"Topic3\", \"Topic3\", \"Topic3\", \"Topic3\", \"Topic3\", \"Topic3\", \"Topic3\", \"Topic3\", \"Topic3\", \"Topic3\", \"Topic3\", \"Topic3\", \"Topic3\", \"Topic3\", \"Topic3\", \"Topic3\", \"Topic3\", \"Topic3\", \"Topic3\", \"Topic3\", \"Topic3\", \"Topic3\", \"Topic3\", \"Topic3\", \"Topic3\", \"Topic3\", \"Topic3\", \"Topic3\", \"Topic3\", \"Topic3\", \"Topic3\", \"Topic3\", \"Topic3\", \"Topic3\", \"Topic3\", \"Topic3\", \"Topic3\", \"Topic3\", \"Topic3\", \"Topic3\", \"Topic3\", \"Topic3\", \"Topic3\", \"Topic3\", \"Topic3\", \"Topic3\", \"Topic3\", \"Topic3\", \"Topic4\", \"Topic4\", \"Topic4\", \"Topic4\", \"Topic4\", \"Topic4\", \"Topic4\", \"Topic4\", \"Topic4\", \"Topic4\", \"Topic4\", \"Topic4\", \"Topic4\", \"Topic4\", \"Topic4\", \"Topic4\", \"Topic4\", \"Topic4\", \"Topic4\", \"Topic4\", \"Topic4\", \"Topic4\", \"Topic4\", \"Topic4\", \"Topic4\", \"Topic4\", \"Topic4\", \"Topic4\", \"Topic4\", \"Topic4\", \"Topic4\", \"Topic4\", \"Topic4\", \"Topic4\", \"Topic4\", \"Topic4\", \"Topic4\", \"Topic4\", \"Topic4\", \"Topic4\", \"Topic4\", \"Topic4\", \"Topic4\", \"Topic4\", \"Topic4\", \"Topic4\", \"Topic4\", \"Topic4\", \"Topic4\", \"Topic4\", \"Topic4\", \"Topic4\", \"Topic4\", \"Topic4\", \"Topic4\", \"Topic4\", \"Topic4\", \"Topic4\", \"Topic4\", \"Topic4\", \"Topic4\", \"Topic4\", \"Topic4\", \"Topic4\", \"Topic4\", \"Topic4\", \"Topic4\", \"Topic4\", \"Topic4\", \"Topic4\", \"Topic4\", \"Topic4\", \"Topic4\", \"Topic4\", \"Topic4\", \"Topic4\", \"Topic4\", \"Topic4\", \"Topic4\", \"Topic4\", \"Topic4\", \"Topic4\", \"Topic4\", \"Topic4\", \"Topic4\", \"Topic4\", \"Topic4\", \"Topic4\", \"Topic4\", \"Topic4\", \"Topic4\", \"Topic4\"], \"logprob\": [30.0, 29.0, 28.0, 27.0, 26.0, 25.0, 24.0, 23.0, 22.0, 21.0, 20.0, 19.0, 18.0, 17.0, 16.0, 15.0, 14.0, 13.0, 12.0, 11.0, 10.0, 9.0, 8.0, 7.0, 6.0, 5.0, 4.0, 3.0, 2.0, 1.0, -9.2296, -9.9437, -8.7631, -8.6455, -9.5839, -9.4913, -9.6265, -8.6448, -9.9404, -9.5696, -10.09, -9.8743, -9.7499, -9.8014, -9.2821, -9.7699, -9.7989, -9.5036, -10.1692, -8.9942, -9.9949, -9.1527, -10.2988, -10.0125, -10.0559, -10.2869, -9.4165, -10.3186, -10.1517, -9.532, -8.1796, -8.7714, -7.8883, -8.3684, -8.7175, -9.3975, -8.5719, -8.6616, -8.51, -8.5297, -8.7498, -8.9065, -7.3326, -8.0913, -8.851, -8.3046, -8.9797, -8.8348, -7.8008, -7.0717, -7.9268, -8.5465, -7.6206, -8.1655, -7.8911, -7.0416, -7.5618, -7.8055, -8.3609, -7.3592, -8.1127, -7.1933, -7.5346, -7.8965, -7.3705, -7.379, -7.5951, -6.0328, -6.7517, -7.2979, -7.5402, -7.6244, -7.4128, -6.8413, -6.5081, -7.5365, -6.3544, -6.2396, -7.2152, -6.8879, -7.1473, -6.9273, -6.8071, -7.02, -6.6136, -6.695, -7.3222, -7.4742, -7.3939, -6.5859, -6.8435, -7.0733, -6.8156, -6.3927, -6.97, -6.6023, -6.8861, -6.695, -7.0296, -6.8206, -6.8705, -6.7864, -6.9326, -6.9772, -6.9013, -6.8548, -6.9855, -6.9651, -6.9207, -6.9431, -8.2586, -8.1676, -9.1501, -8.9573, -8.7594, -9.2315, -9.0527, -9.3454, -9.5774, -9.1166, -9.3838, -9.5584, -8.9088, -6.3874, -7.8043, -9.4264, -8.3515, -9.5498, -6.806, -9.3611, -9.7439, -9.6962, -9.5881, -8.1135, -9.0098, -9.0324, -9.8938, -8.7391, -8.1434, -9.2145, -7.6733, -8.0025, -8.5607, -7.0659, -5.8098, -7.2329, -7.5026, -8.2659, -8.2733, -6.9649, -6.7606, -7.0512, -6.4082, -6.9794, -6.705, -6.5599, -5.7304, -5.9474, -7.7682, -7.4318, -5.8181, -5.3533, -6.7603, -6.7424, -5.7675, -6.4948, -6.2951, -6.6923, -6.5328, -5.6704, -6.4773, -6.2845, -5.2536, -6.9793, -6.7039, -5.5983, -5.9497, -5.9721, -5.881, -5.83, -6.2438, -5.4315, -6.1882, -6.0061, -5.9739, -6.0869, -5.7653, -5.9639, -6.2788, -5.8948, -6.1974, -6.0991, -6.0912, -5.997, -6.0194, -6.2224, -6.2633, -7.8192, -8.4647, -8.4752, -8.537, -8.537, -8.537, -8.537, -8.537, -8.537, -7.4059, -7.3809, -8.4886, -8.4336, -8.537, -8.4296, -8.4561, -8.4277, -8.415, -8.5008, -8.4855, -8.4793, -8.4437, -8.4004, -9.501, -8.4701, -8.4365, -8.4152, -8.488, -9.9345, -8.448, -7.5692, -8.4293, -6.8861, -6.6468, -6.2017, -6.4772, -7.6901, -6.3602, -7.3608, -5.9771, -7.3243, -7.1149, -7.3245, -6.2917, -5.7978, -6.256, -6.1333, -6.3565, -6.7605, -7.5715, -6.1821, -6.7394, -7.0998, -6.933, -7.0485, -6.6499, -6.9906, -7.0598, -6.352, -5.8582, -6.647, -5.9608, -6.1274, -6.3344, -5.9775, -6.682, -6.8023, -6.2766, -6.038, -6.6636, -6.5201, -6.4303, -6.2671, -6.0759, -5.8969, -6.2707, -6.1092, -6.2798, -6.4967, -6.4425, -6.3727, -6.2789, -6.2766, -6.3994, -6.3963, -7.378, -7.4853, -9.1201, -7.1831, -8.8224, -8.5993, -8.9135, -9.3555, -9.1842, -8.3033, -9.3018, -7.8858, -9.578, -8.2866, -8.4444, -9.9072, -9.303, -8.6719, -9.9017, -10.1564, -8.5498, -9.2313, -9.9657, -10.0821, -9.7049, -9.2879, -9.8402, -9.9315, -9.8724, -9.9701, -8.8214, -9.334, -7.6468, -9.1097, -9.2581, -7.3618, -6.3604, -6.8791, -8.0495, -8.8953, -6.8684, -8.591, -7.1682, -6.8111, -7.8099, -7.7401, -7.4115, -6.0521, -6.657, -6.2227, -7.1103, -7.3774, -6.6574, -7.3608, -7.2699, -6.6229, -5.814, -6.9508, -7.5706, -7.3228, -7.0367, -6.2938, -6.3432, -5.6289, -7.0792, -7.1986, -5.5176, -6.8255, -6.7608, -5.8608, -5.8135, -6.1587, -5.9213, -6.5998, -6.3727, -6.5935, -6.0781, -6.3109, -6.4449, -6.4955, -6.5972, -6.1202, -6.4351, -6.4741, -6.5162, -6.6609, -6.518, -6.6951, -6.6204, -6.6036, -6.5686, -6.6435], \"loglift\": [30.0, 29.0, 28.0, 27.0, 26.0, 25.0, 24.0, 23.0, 22.0, 21.0, 20.0, 19.0, 18.0, 17.0, 16.0, 15.0, 14.0, 13.0, 12.0, 11.0, 10.0, 9.0, 8.0, 7.0, 6.0, 5.0, 4.0, 3.0, 2.0, 1.0, 1.1903, 1.1844, 1.1829, 1.182, 1.1816, 1.1815, 1.1812, 1.1812, 1.1806, 1.1806, 1.18, 1.1797, 1.1797, 1.1793, 1.1791, 1.1788, 1.1782, 1.1778, 1.1769, 1.1766, 1.1748, 1.1739, 1.1739, 1.1737, 1.1737, 1.1735, 1.1732, 1.1724, 1.1723, 1.1722, 1.1701, 1.1685, 1.1593, 1.1632, 1.1649, 1.1699, 1.1593, 1.1609, 1.1575, 1.1551, 1.158, 1.1602, 1.1163, 1.1343, 1.157, 1.14, 1.1594, 1.1549, 1.1185, 1.084, 1.1179, 1.1384, 1.0989, 1.1221, 1.1042, 1.0513, 1.0804, 1.0936, 1.1286, 1.0609, 1.1079, 1.0367, 1.0576, 1.0828, 1.0225, 1.0228, 1.0345, 0.826, 0.896, 0.9765, 1.0069, 1.0152, 0.9741, 0.8697, 0.7857, 0.9919, 0.7461, 0.7193, 0.919, 0.8254, 0.8705, 0.7904, 0.7458, 0.808, 0.6571, 0.667, 0.9039, 0.9647, 0.921, 0.4375, 0.5916, 0.7057, 0.4521, 0.0834, 0.5762, 0.185, 0.3775, 0.1196, 0.5421, 0.2205, 0.2277, -0.0061, 0.2093, 0.3223, 0.0085, -0.3831, 0.2507, 0.0959, -0.4274, -0.5092, 1.2755, 1.272, 1.2711, 1.2711, 1.2698, 1.2696, 1.2656, 1.2654, 1.2619, 1.2614, 1.2609, 1.2598, 1.2596, 1.2595, 1.2593, 1.2586, 1.2586, 1.258, 1.258, 1.2572, 1.2566, 1.2556, 1.2555, 1.2551, 1.2549, 1.2546, 1.2541, 1.2537, 1.2537, 1.2522, 1.2494, 1.2447, 1.2484, 1.2311, 1.2132, 1.2298, 1.2337, 1.2411, 1.2392, 1.2117, 1.2034, 1.2118, 1.1895, 1.2026, 1.1888, 1.1746, 1.1384, 1.1468, 1.2188, 1.2044, 1.1336, 1.0984, 1.1718, 1.1596, 1.0957, 1.1387, 1.1238, 1.1506, 1.1374, 1.0723, 1.1202, 1.089, 0.972, 1.1524, 1.1141, 0.9475, 0.9995, 0.9948, 0.9573, 0.9431, 1.0144, 0.7573, 0.9766, 0.9174, 0.8854, 0.9067, 0.7146, 0.8002, 0.9467, 0.6434, 0.7966, 0.6755, 0.6574, 0.4963, 0.4104, 0.7148, 0.7617, 1.3508, 1.348, 1.3479, 1.3465, 1.3465, 1.3465, 1.3465, 1.3465, 1.3465, 1.3462, 1.3461, 1.3457, 1.3449, 1.3447, 1.3413, 1.3412, 1.3407, 1.3389, 1.3366, 1.3359, 1.3348, 1.3318, 1.3305, 1.3301, 1.3278, 1.3262, 1.3217, 1.3197, 1.315, 1.3148, 1.3031, 1.3093, 1.2756, 1.2449, 1.2191, 1.2252, 1.2793, 1.1736, 1.248, 1.1251, 1.222, 1.1649, 1.1847, 1.0389, 0.9558, 1.021, 0.9853, 1.0099, 1.0705, 1.1997, 0.9597, 1.0568, 1.1119, 1.0701, 1.0857, 1.0005, 1.0622, 1.0714, 0.9125, 0.7956, 0.9747, 0.734, 0.7832, 0.8247, 0.687, 0.9482, 0.9927, 0.7684, 0.6566, 0.922, 0.8133, 0.7203, 0.6004, 0.4445, 0.292, 0.5673, 0.4042, 0.556, 0.6953, 0.6006, 0.4638, 0.2802, 0.1573, 0.3752, 0.1419, 1.7711, 1.7598, 1.7592, 1.7591, 1.7544, 1.7544, 1.7542, 1.753, 1.7529, 1.7514, 1.75, 1.7421, 1.7404, 1.7337, 1.7329, 1.7328, 1.727, 1.719, 1.7182, 1.7178, 1.7153, 1.7109, 1.7086, 1.7082, 1.704, 1.702, 1.7011, 1.7003, 1.7, 1.6998, 1.6913, 1.6915, 1.6445, 1.6833, 1.6862, 1.6275, 1.5756, 1.5847, 1.6322, 1.6676, 1.5437, 1.649, 1.5581, 1.5324, 1.5971, 1.5857, 1.5604, 1.4401, 1.4865, 1.433, 1.5155, 1.5401, 1.4554, 1.5314, 1.5111, 1.4085, 1.2633, 1.4483, 1.5478, 1.4989, 1.4347, 1.2536, 1.2607, 1.0914, 1.4278, 1.4489, 0.9585, 1.3145, 1.2821, 0.6596, 0.6163, 0.751, 0.5504, 1.0226, 0.7876, 0.969, 0.4811, 0.6826, 0.8187, 0.8108, 0.9292, 0.3138, 0.6973, 0.7348, 0.7515, 0.9839, 0.4535, 0.9647, 0.5708, 0.4015, -0.0552, 0.3233]}, \"token.table\": {\"Topic\": [4, 1, 2, 3, 4, 1, 2, 3, 4, 1, 2, 3, 4, 2, 1, 2, 3, 4, 1, 2, 3, 4, 1, 2, 3, 4, 1, 2, 3, 4, 1, 2, 4, 1, 2, 3, 4, 1, 2, 3, 4, 1, 2, 3, 4, 1, 2, 1, 2, 3, 4, 1, 2, 3, 4, 4, 1, 2, 3, 4, 1, 2, 3, 4, 1, 2, 3, 4, 3, 1, 2, 3, 4, 1, 2, 3, 4, 1, 2, 3, 4, 1, 2, 3, 1, 2, 3, 4, 1, 1, 2, 3, 4, 1, 1, 2, 3, 4, 1, 2, 3, 4, 1, 2, 3, 4, 1, 2, 3, 4, 1, 2, 3, 4, 1, 2, 3, 4, 1, 2, 3, 4, 1, 3, 4, 1, 2, 3, 4, 1, 2, 3, 4, 1, 3, 4, 1, 2, 1, 2, 3, 4, 2, 1, 2, 3, 4, 1, 2, 3, 4, 1, 4, 1, 2, 4, 1, 2, 3, 1, 2, 3, 4, 1, 2, 3, 4, 1, 2, 3, 4, 1, 1, 2, 3, 4, 2, 3, 1, 2, 3, 4, 1, 2, 3, 4, 1, 2, 3, 4, 1, 2, 3, 4, 1, 2, 3, 4, 1, 2, 4, 1, 2, 4, 1, 2, 3, 4, 1, 2, 3, 4, 1, 2, 3, 4, 1, 2, 3, 4, 1, 2, 3, 4, 1, 2, 3, 4, 1, 2, 3, 4, 1, 2, 3, 4, 1, 4, 1, 2, 3, 4, 1, 2, 3, 1, 2, 3, 4, 1, 2, 3, 4, 1, 2, 3, 4, 1, 2, 3, 4, 1, 4, 1, 3, 4, 1, 2, 3, 4, 1, 2, 3, 4, 1, 2, 3, 4, 3, 3, 1, 2, 3, 4, 3, 1, 2, 3, 4, 1, 2, 3, 1, 2, 3, 4, 1, 2, 3, 4, 1, 2, 3, 4, 1, 2, 1, 2, 3, 4, 1, 2, 3, 4, 1, 2, 3, 4, 1, 1, 1, 1, 2, 3, 4, 1, 2, 3, 4, 1, 2, 3, 4, 1, 2, 3, 4, 1, 2, 3, 4, 2, 4, 2, 3, 1, 2, 3, 2, 3, 1, 2, 3, 4, 1, 2, 3, 4, 1, 2, 3, 4, 1, 2, 3, 4, 1, 2, 1, 2, 3, 4, 1, 2, 4, 1, 1, 2, 3, 4, 1, 2, 3, 4, 1, 2, 3, 4, 1, 2, 3, 4, 1, 2, 3, 4, 1, 4, 1, 2, 3, 4, 1, 2, 3, 4, 1, 2, 3, 4, 3, 1, 2, 3, 4, 1, 2, 3, 4, 1, 2, 3, 4, 1, 2, 3, 4, 1, 2, 3, 4, 1, 2, 4, 4, 1, 2, 3, 4, 1, 2, 3, 1, 2, 3, 4, 2, 3, 1, 2, 3, 4, 1, 2, 1, 2, 3, 1, 2, 4, 1, 2, 3, 4, 1, 2, 3, 4, 1, 2, 3, 4, 1, 2, 3, 4, 1, 2, 3, 4, 1, 2, 3, 4, 1, 2, 3, 4, 1, 2, 3, 4, 1, 2, 3, 4, 1, 2, 3, 4, 1, 2, 3, 4, 1, 2, 3, 4, 1, 2, 3, 4, 1, 2, 3, 4, 1, 2, 3, 4, 1, 2, 3, 4, 1, 2, 3, 4, 1, 2, 1, 2, 3, 4, 1, 2, 3, 4, 1, 2, 3, 4, 1, 2, 3, 4, 2, 1, 2, 3, 4, 1, 2, 3, 1, 4, 1, 2, 3, 4, 2, 1, 2, 3, 4, 1, 2, 3, 4, 1, 2, 3, 4, 1, 2, 3, 4, 1, 2, 3, 4, 1, 2, 3, 4, 1, 2, 1, 2, 3, 4, 1, 2, 3, 1, 2, 3, 4, 1, 2, 3, 4, 1, 4, 1, 2, 4, 1, 2, 3, 4, 1, 4, 1, 2, 3, 4, 1, 2, 4, 1, 2, 4, 1, 1, 2, 3, 4, 1, 2, 3, 4, 1, 2, 3, 4, 1, 2, 3, 4, 1, 1, 2, 3, 4, 1, 2, 1, 2, 3, 4, 1, 2, 3, 4, 1, 2, 3, 4, 1, 2, 3, 4, 1, 2, 3, 4, 1, 3, 4, 1, 2, 3, 4, 1, 3, 1, 2, 3, 4, 1, 2, 4, 1, 2, 3, 4, 1, 2, 3, 4, 1, 2, 3, 4, 1, 2, 3, 4, 1, 2, 3, 4, 2, 1, 1, 2, 3, 4, 1, 2, 3, 4, 1, 2, 3, 4, 1, 2, 3, 4, 1, 2, 3, 1, 2, 3, 4, 1, 2, 3, 4, 1, 3, 4, 1, 2, 3, 4, 1, 2, 3, 4, 1, 2, 3, 4, 1, 2, 3, 4, 1, 2, 3, 4, 1, 2, 3, 4, 1, 2, 3, 4, 1, 2, 3, 4, 1, 2, 3, 4, 1, 2, 3, 1, 2, 3, 4, 2, 1, 1, 3, 4, 4, 1, 2, 3, 4, 1, 2, 3, 4, 1, 2, 3, 4, 1, 1, 2, 3, 4, 1, 2, 3, 4, 1, 2, 3, 4, 1, 2, 3, 4, 1, 2, 3, 4, 1, 2, 3, 4, 1, 2, 3, 4, 1, 2, 3, 4, 1, 2, 3, 4, 1, 1, 2, 3, 4, 1, 2, 3, 4, 1, 2, 3, 4, 1, 2, 4, 1, 2, 3, 4, 1, 2, 3, 4, 1, 3, 4, 1, 2, 3, 4, 1, 2, 3, 4, 1, 1, 2, 3, 4, 1, 2, 3, 4, 1, 2, 3, 4, 1, 2, 3, 4, 1, 2, 3, 4, 1, 2, 3, 4, 1, 2, 3, 4, 1, 2, 3, 4, 1, 4, 1, 2, 3, 4, 1, 4, 3, 1, 2, 3, 4, 1, 2, 3, 4, 1, 2, 3, 4, 1, 2, 3, 4, 2, 3, 2, 3, 1, 2, 3, 4, 1, 3, 4, 3, 1, 2, 3, 4, 1, 2, 3, 4, 2, 3, 1, 2, 3, 4, 1, 2, 3, 4, 1, 3, 1, 2, 3, 4, 1, 1, 2, 3, 4, 1, 2, 3, 4, 1, 2, 3, 4, 1, 2, 3, 4, 1, 2, 3, 4, 1, 2, 3, 4, 1, 2, 3, 4, 1, 2, 3, 4, 1, 2, 3, 4, 1, 2, 3, 4, 1, 2, 3, 4, 1, 2, 3, 4, 1, 2, 3, 4, 1, 2, 3, 4, 1, 3, 4, 1, 4, 1, 4, 1, 2, 3, 4, 1, 2, 3, 4, 1, 2, 3, 4, 2, 1, 2, 3, 4, 1, 2, 3, 4, 1, 2, 3, 4, 1, 2, 3, 4, 1, 2, 3, 4, 1, 2, 3, 4, 1, 2, 3, 4, 1, 3, 2, 3, 1, 2, 3, 2, 3, 1, 2, 3, 4, 1, 2, 3, 4, 2, 3, 1, 2, 3, 4, 1, 2, 3, 4, 1, 2, 1, 2, 3, 4, 1, 2, 3, 4, 1, 2, 3, 4, 1, 2, 3, 4, 1, 2, 3, 4, 1, 2, 3, 4, 3, 1, 2, 3, 4, 1, 2, 3, 4, 3, 4, 1, 2, 3, 4, 1, 2, 3, 4, 1, 2, 3, 4, 2, 1, 2, 3, 4, 1, 2, 3, 4, 1, 2, 3, 4, 1, 2, 3, 4, 1, 2, 3, 4, 1, 2, 3, 4, 1, 2, 3, 4, 1, 2, 3, 4, 1, 3, 2, 3, 1, 2, 3, 4, 1, 2, 3, 4, 1, 2, 3, 4, 1, 2, 3, 4, 1, 2, 3, 4, 1, 2, 3, 4, 1, 3, 1, 2, 3, 4, 1, 2, 3, 4], \"Freq\": [0.970110601538855, 0.05202620158897047, 0.8265887028316602, 0.10180989448876118, 0.019734076464781904, 0.015208710895009766, 0.8808378393359823, 0.08364790992255372, 0.021545673767930502, 0.9048332136633115, 0.018949386673577203, 0.05211081335233731, 0.023686733341971505, 0.9863639376488276, 0.1008934427115496, 0.26394445280789314, 0.4693346754706905, 0.16575351302611718, 0.04184021390046452, 0.7337196930371314, 0.15462687745823842, 0.06973368983410752, 0.9364234374635758, 0.005926730616858075, 0.01185346123371615, 0.0474138449348646, 0.008521386461836877, 0.017042772923673753, 0.9629166701875671, 0.008521386461836877, 0.028929330247108087, 0.028929330247108087, 0.9546678981545669, 0.12513284041862577, 0.07630051245038157, 0.03967626647419842, 0.7599531040058004, 0.02046726890041485, 0.08869149856846435, 0.11598119043568417, 0.774345006732362, 0.6051550522638357, 0.08629062782280619, 0.1804258581749584, 0.12887561298211314, 0.9798614868131003, 0.020413780975272924, 0.009819368658114088, 0.9730994340191061, 0.009819368658114088, 0.006873558060679861, 0.016195231902087725, 0.9717139141252634, 0.008097615951043862, 0.004048807975521931, 0.9421510727950423, 0.5394876879962793, 0.4083897962151511, 0.02780864371114842, 0.023835980323841502, 0.8061553641783591, 0.026081497076358675, 0.05216299415271735, 0.1161812142492341, 0.039655742994149874, 0.8938618826248917, 0.05358884188398632, 0.012861322052156716, 0.9927957957673614, 0.07626376946785601, 0.025421256489285338, 0.030505507787142404, 0.8694069719335585, 0.038714689829298383, 0.23912014306331353, 0.6945870822315298, 0.027328016350092976, 0.09336866097313598, 0.6696632669795733, 0.19477864203008272, 0.04199356043767838, 0.0291910236444156, 0.9584386096583123, 0.009730341214805201, 0.07894109363901822, 0.03383189727386495, 0.03383189727386495, 0.853315631240816, 0.9601314903207055, 0.028799008919173804, 0.028799008919173804, 0.05759801783834761, 0.9215682854135617, 0.9561788620892305, 0.9513251744614635, 0.01883812226656363, 0.009419061133281816, 0.01883812226656363, 0.023002648358600657, 0.027931787292586514, 0.9217489806553549, 0.027931787292586514, 0.0193719650832592, 0.9715785564834614, 0.00596060464100283, 0.002980302320501415, 0.018995603040835272, 0.03165933840139212, 0.16462855968723902, 0.7830409697944318, 0.022263637653672952, 0.8074544299037458, 0.12682322163431556, 0.043334580433041996, 0.035857387524363425, 0.8209847685265709, 0.11653650945418113, 0.026893040643272567, 0.01320468810172672, 0.9216872295005251, 0.05017781478656154, 0.015845625722072064, 0.020137097365199797, 0.020137097365199797, 0.9665806735295902, 0.9284133053764885, 0.02380546936862791, 0.014283281621176746, 0.033327657116079074, 0.057011826743026, 0.8467658201505174, 0.05981568707465024, 0.036450184311114985, 0.9664862350165678, 0.016381122627399453, 0.016381122627399453, 0.024009672694968214, 0.9603869077987286, 0.05785045241729045, 0.8497762402377664, 0.07348570982736895, 0.0187623088920942, 0.9831013349134127, 0.08329951791805576, 0.8584750317201982, 0.04066976463058017, 0.018129895076282727, 0.0626901254405911, 0.8920282432484109, 0.03526319556033249, 0.01175439852011083, 0.9646824474521826, 0.03326491198110974, 0.010908998738199779, 0.021817997476399557, 0.9599918889615806, 0.008192787253113258, 0.008192787253113258, 0.9831344703735908, 0.20129445662387, 0.24976231928167816, 0.4095752718290457, 0.13972717162611367, 0.05506774470745905, 0.02884500913247855, 0.10751321585742005, 0.8089713924881484, 0.08126181918442991, 0.04704631636993311, 0.08553875703624202, 0.7869565647334266, 0.9633395680997954, 0.1181909658490849, 0.614917946032696, 0.1368740738527203, 0.13037560150362973, 0.008751454298894052, 0.988914335775028, 0.6133869229675624, 0.12188782781414956, 0.15248315301446239, 0.11251184105921497, 0.19592588815431666, 0.1889285350059482, 0.1162338106312315, 0.4987557827420402, 0.10453246948059002, 0.04442629952925076, 0.08623928732148677, 0.7630870272083071, 0.06278920410540766, 0.06278920410540766, 0.045664875713023745, 0.8276758722985554, 0.09014772123195856, 0.031700297576073344, 0.17633290526690798, 0.702359718169875, 0.024274094092377164, 0.004854818818475433, 0.9709637636950865, 0.013463879220051682, 0.053855516880206726, 0.929007666183566, 0.46978887501704686, 0.0631761863399176, 0.11223854381666212, 0.35486198284549464, 0.964850869719414, 0.010780456644909654, 0.010780456644909654, 0.01617068496736448, 0.9685016127379926, 0.018625031014192165, 0.018625031014192165, 0.018625031014192165, 0.0784663465287834, 0.5177779299606344, 0.14043976671712188, 0.26338703580043854, 0.5819828818468609, 0.04652908826948253, 0.10118230306220805, 0.27031184613699377, 0.17108042378595156, 0.0994653626662509, 0.2894442053587901, 0.439636902984829, 0.017246814003319053, 0.017246814003319053, 0.06898725601327621, 0.9140811421759097, 0.08868759868932519, 0.14091474013970556, 0.700632029645669, 0.06996466118824543, 0.04225640660473763, 0.9296409453042278, 0.7507292875493787, 0.08235040654240634, 0.08235040654240634, 0.08426553227595067, 0.008074487388829609, 0.008074487388829609, 0.9850874614372123, 0.05264682268196426, 0.6128499067541276, 0.2831683472408563, 0.05162455428037272, 0.19943789956889893, 0.07388646418569236, 0.1349955699031823, 0.5922027881349479, 0.10845473945519024, 0.05333839645337225, 0.2515794366050725, 0.5867223609870947, 0.11214778691681725, 0.18811886837659667, 0.587268518585914, 0.11275073200776788, 0.06107302654939297, 0.9313636548782428, 0.07966789996367146, 0.026555966654557155, 0.9029028662549432, 0.06516883840961114, 0.024136606818374495, 0.8737451668251568, 0.03620491022756175, 0.10722682993712368, 0.20316662514402384, 0.09876155388945602, 0.5906881508816989, 0.015905021563030156, 0.02385753234454523, 0.9543012937818093, 0.007952510781515078, 0.9951671507110244, 0.9927957957673614, 0.006265413793762997, 0.10964474139085245, 0.871675694057277, 0.012530827587525994, 0.9934332587370293, 0.030224674310283608, 0.06347181605159558, 0.8553582829810261, 0.05138194632748213, 0.01578208855000015, 0.007891044275000075, 0.9705984458250092, 0.0743571587056633, 0.18637573545705216, 0.6643860414220305, 0.0743571587056633, 0.913832150038967, 0.023839099566233923, 0.019865916305194936, 0.03973183261038987, 0.20373539506842678, 0.32652235191770185, 0.17948118136980454, 0.29044420904100127, 0.026753771781796287, 0.9631357841446663, 0.0718444113867475, 0.7507007883676474, 0.15248609763717838, 0.024925612113769546, 0.037760657357242294, 0.543014670474256, 0.3747334800778502, 0.04432772820198008, 0.6820472949316275, 0.09443731775976381, 0.11542338837304467, 0.10807826365839636, 0.9770617945429159, 0.9892849710728884, 0.9787477773231128, 0.17954516976211796, 0.28989976190859046, 0.30128555316179795, 0.2291755418914839, 0.07181681333570454, 0.17714813956140454, 0.6827385054447646, 0.06798658329113363, 0.9513326843754807, 0.02594543684660402, 0.017296957897736012, 0.008648478948868006, 0.06814685290086396, 0.3317675733331535, 0.5290347790988124, 0.0711357499579194, 0.13648687720920774, 0.06972699161774742, 0.7069130107629075, 0.08604607476232662, 0.9797709681427387, 0.014199579248445489, 0.00917551420340597, 0.9909555339678447, 0.002891885562578817, 0.008675656687736451, 0.9890248624019554, 0.025315654109201426, 0.9704334075193879, 0.9495669686681596, 0.02373917421670399, 0.011869587108351995, 0.011869587108351995, 0.02779182994339525, 0.02779182994339525, 0.02779182994339525, 0.9171303881320433, 0.12235970754086219, 0.3844880241019775, 0.26212831656111535, 0.23128969108333708, 0.03356863209948928, 0.1406685535597646, 0.7624875005455422, 0.06234174532762294, 0.006481485759398068, 0.9916673211879043, 0.016364060343076185, 0.9272967527743171, 0.04727395210222009, 0.009091144635042325, 0.09067529318599517, 0.018135058637199036, 0.8886178732227527, 0.9901567537790356, 0.022572891990237366, 0.9461803892574495, 0.024453966322757145, 0.007524297330079121, 0.10223540235474028, 0.8285822725727207, 0.05141489711444787, 0.017831756224664, 0.07383256481169607, 0.305877768505598, 0.5706566216234046, 0.04982788856749932, 0.07207430814586006, 0.2807670809861116, 0.5550797463173701, 0.09197542308165725, 0.0553729594298294, 0.8695814751276271, 0.05763308022288366, 0.01695090594790696, 0.0550972587763254, 0.9366533991975319, 0.6299751871136607, 0.1398681372111557, 0.10120540009587689, 0.12906531360541604, 0.028848741034700236, 0.051426016627074335, 0.8943109720757073, 0.02634015485776978, 0.32900426115838843, 0.25741031064053316, 0.2617824602904785, 0.15138568162935814, 0.9927957957673614, 0.18504313071527734, 0.11152431110449375, 0.5158778189638035, 0.18691225324775487, 0.35958511513827646, 0.2381991571956444, 0.23653633585396452, 0.16586642883256913, 0.07855948230938464, 0.5915687191350978, 0.32003762256239243, 0.009490407258851835, 0.026498823868380594, 0.026498823868380594, 0.026498823868380594, 0.9274588353933209, 0.19487645952430138, 0.45388555358203736, 0.23639227125125906, 0.11494303097538285, 0.01222255847917126, 0.9778046783337008, 0.01222255847917126, 0.9650224687874339, 0.4626827683625977, 0.18212541280256975, 0.17317705437007355, 0.18212541280256975, 0.016292508894452783, 0.016292508894452783, 0.9694042792199407, 0.7129449219312434, 0.09631561353549836, 0.08375270742217249, 0.10678470196326993, 0.9629780728062101, 0.020488895166089576, 0.02050936371783807, 0.9639400947383893, 0.010254681858919035, 0.010254681858919035, 0.019680076839787515, 0.9840038419893758, 0.9654237529449778, 0.01821554250839581, 0.01821554250839581, 0.00711917167531301, 0.03559585837656505, 0.9539690044919433, 0.900003989374804, 0.03781529367121025, 0.0151261174684841, 0.0453783524054523, 0.830358624912567, 0.02277791739161655, 0.024848637154490785, 0.12217246600957968, 0.9474619407432178, 0.010411669678496898, 0.010411669678496898, 0.031235009035490695, 0.04464595376459377, 0.875379593455785, 0.06377993394941966, 0.015944983487354916, 0.049576949865700326, 0.09325188189024584, 0.7507366693948906, 0.10505591757255545, 0.1814149479632991, 0.026876288587155423, 0.08734793790825512, 0.7032628846972335, 0.6553063449251213, 0.06346124603485385, 0.10208983057780836, 0.17865720351116465, 0.9552249942685748, 0.01578884288047231, 0.007894421440236155, 0.023683264320708466, 0.11452617185655949, 0.014777570562136707, 0.07388785281068354, 0.7979888103553822, 0.37495439255625085, 0.33354490593506125, 0.10777811586337013, 0.18322279696772922, 0.2101062024983507, 0.10359403039849237, 0.08316703848893049, 0.6040553321827583, 0.008669522378464217, 0.08091554219899937, 0.11270379092003482, 0.7947062180258866, 0.7378024933799494, 0.014019999874203314, 0.13669499877348232, 0.1104074990093511, 0.5763229810071511, 0.1590786239972955, 0.12200521586233258, 0.14222707484503963, 0.7847848607887659, 0.04119036562150981, 0.08021281726294015, 0.09538821512349639, 0.035251675295212545, 0.9291710234529158, 0.02315035392521421, 0.012627465777389569, 0.036994562902993716, 0.012331520967664572, 0.012331520967664572, 0.949527114510172, 0.019165396749842755, 0.9774352342419805, 0.08224153885991807, 0.06890507309885027, 0.03111842010915819, 0.8179699000121582, 0.08858271388731724, 0.33929863743505756, 0.46921995113645615, 0.10254120213622783, 0.2967743139768738, 0.3219526632850648, 0.2538472922055318, 0.12754278583985257, 0.13703664721279363, 0.12838170107303826, 0.049044694791947195, 0.6851832360639682, 0.9830936814165957, 0.2465476771607599, 0.23098279855212606, 0.2266246325417086, 0.2963552887083882, 0.01892600832251346, 0.952609085566511, 0.01892600832251346, 0.061876138659101514, 0.9281420798865226, 0.8394519917224273, 0.08394519917224273, 0.02360958726719327, 0.05246574948265171, 0.9915052931142423, 0.03473055685702909, 0.5890485235356645, 0.3447921730082691, 0.031303199272453855, 0.04645437208902794, 0.8623374702351595, 0.07126010475792635, 0.02029559945637143, 0.047672617093880626, 0.7118681336315958, 0.21968057336504448, 0.020615185770326755, 0.8954900378557846, 0.07749433019905828, 0.008610481133228699, 0.017220962266457397, 0.1666680900968355, 0.01666680900968355, 0.10208420518431174, 0.7125060851639717, 0.9506421499296742, 0.02044391720278869, 0.010221958601394346, 0.010221958601394346, 0.010634259596356213, 0.9783518828647716, 0.7903149637909318, 0.03498790204282771, 0.08438258727976095, 0.0905569229343776, 0.013761326022712348, 0.9632928215898643, 0.013761326022712348, 0.03854342645400571, 0.046252111744806854, 0.8967770554965329, 0.020556494108803045, 0.8794315963432302, 0.026568930403118737, 0.018598251282183117, 0.07439300512873247, 0.024882889894459866, 0.9704327058839348, 0.008821399064181466, 0.008821399064181466, 0.9835859956562334, 0.9628447992129348, 0.009725705042554897, 0.009725705042554897, 0.009725705042554897, 0.9715624288970721, 0.02024088393535567, 0.11636906475952186, 0.0771120308647434, 0.7500897547752312, 0.05608147699254065, 0.01793176706202627, 0.010759060237215764, 0.9719017747618239, 0.06847273479546136, 0.02282424493182045, 0.912969797272818, 0.9704905740048639, 0.15547597783586672, 0.05801342456562192, 0.08818040533974532, 0.6984816317700879, 0.010550688201121537, 0.9636295223691004, 0.01406758426816205, 0.010550688201121537, 0.8427220514419604, 0.029908715813180223, 0.05278008672914157, 0.07565145764510292, 0.8591962803585581, 0.030324574600890285, 0.015162287300445143, 0.09350077168607838, 0.9604124549259988, 0.13242907000168003, 0.39538631426338916, 0.12292459129342548, 0.3491311845498837, 0.019023280300891073, 0.9701872953454448, 0.8638209861541423, 0.02127637896931385, 0.05106330952635324, 0.06382913690794155, 0.32462221153697257, 0.06120925377010458, 0.1772327646477655, 0.4366869149568655, 0.026260431889802698, 0.06565107972450673, 0.03939064783470404, 0.866594252363489, 0.08046953859323758, 0.020992053546061977, 0.11545629450334088, 0.7802046567953035, 0.5137219050661869, 0.1703297805804556, 0.20403139491990402, 0.11112424187601916, 0.948053563444888, 0.022220005393239563, 0.022220005393239563, 0.11904873063188008, 0.15533631162662426, 0.401709887854098, 0.32404173204078585, 0.9729103709188435, 0.023164532640924846, 0.05259050458143883, 0.060103433807358664, 0.037564646129599165, 0.856473931754861, 0.014710482146571157, 0.014710482146571157, 0.9708918216736964, 0.040165351043435896, 0.7094512515937503, 0.21763062657208632, 0.03278804166811093, 0.9569551662653194, 0.012931826571152966, 0.006465913285576483, 0.02586365314230593, 0.08878702641846876, 0.08791656537515044, 0.3986711578397911, 0.4239145280960224, 0.14618792944416573, 0.12543285304159899, 0.2869614911311401, 0.44127097221109285, 0.7128149224503876, 0.12235944776593478, 0.0469518811194866, 0.11809109493689054, 0.9729185639476458, 0.9823013889155404, 0.05557548396223799, 0.10252718593033561, 0.37657181374412985, 0.4656842276835804, 0.7497487952477934, 0.04955695661552579, 0.1294875318018577, 0.07193751766769872, 0.7321775560469638, 0.020638561982531865, 0.197540521832805, 0.05012222195757739, 0.024304193171555483, 0.9076681372915528, 0.047673609682666526, 0.020565086529777718, 0.015071959279430256, 0.9796773531629666, 0.015071959279430256, 0.8835326820557697, 0.01633147286609556, 0.021230914725924227, 0.07839106975725868, 0.04218255074938937, 0.945777190486309, 0.006660402749903585, 0.004440268499935724, 0.9549849348783664, 0.027547642352260572, 0.018365094901507048, 0.08583532317648847, 0.07629806504576753, 0.08901440922006211, 0.7502643062833806, 0.08740627414893987, 0.564518975028236, 0.27380860465441387, 0.07388486157341326, 0.04824042328159797, 0.04824042328159797, 0.04824042328159797, 0.9165680423503615, 0.1201250316160064, 0.5645570824294245, 0.21579713058753314, 0.09964570052625468, 0.8931034594097426, 0.017175066527110434, 0.017175066527110434, 0.0755702927192859, 0.8543377317302265, 0.01380437986637709, 0.04908223952489632, 0.08282627919826253, 0.9235864360569004, 0.00619856668494564, 0.018595700054836923, 0.04958853347956512, 0.21202368360608834, 0.2110018827212397, 0.24574311280609273, 0.33157438713337667, 0.11877284081548008, 0.5330781037273904, 0.23914531585069726, 0.10877512694212317, 0.008639045815757671, 0.008639045815757671, 0.9762121771806169, 0.658751914390773, 0.19920657891176974, 0.09380627260924607, 0.04848414089916089, 0.9887112398127128, 0.9637996539434276, 0.04976783437074573, 0.04976783437074573, 0.8958210186734231, 0.958386737825827, 0.7926470034294185, 0.014712705400082014, 0.07724170335043057, 0.11586255502564585, 0.8240891315657729, 0.015898825689371825, 0.05299608563123941, 0.10599217126247883, 0.044768656663725676, 0.2068854588247929, 0.714941880660104, 0.033915648987670965, 0.9778438221072542, 0.9131466350571954, 0.02846740109291017, 0.013138800504420078, 0.04598580176547027, 0.43573522883153515, 0.07831186140290262, 0.10575447950135569, 0.3795113283371435, 0.016133470046922217, 0.1193876783472244, 0.12584106636599326, 0.7405262751537297, 0.14889058939787558, 0.3069485399264059, 0.385661399289614, 0.1583740664295874, 0.9607736556475385, 0.02088638381842475, 0.02088638381842475, 0.02088638381842475, 0.914808851638986, 0.024535103300662456, 0.014020059028949976, 0.04907020660132491, 0.029064192565227086, 0.08096453643170402, 0.8771158113434603, 0.012456082527954465, 0.023407477367167088, 0.023407477367167088, 0.9463308707011837, 0.006687850676333454, 0.9168906514887467, 0.015197082621360443, 0.02026277682848059, 0.04559124786408133, 0.9524199536137418, 0.9495397904506999, 0.03312348106223372, 0.011041160354077907, 0.011041160354077907, 0.9523316692394893, 0.007969302671460161, 0.011953954007190242, 0.023907908014380485, 0.07464158976964155, 0.31599535973543685, 0.49634762740218497, 0.11290961295103139, 0.01838929563633483, 0.01838929563633483, 0.9746326687257459, 0.044561047444855735, 0.73027971902979, 0.18559202207086192, 0.03958348363452611, 0.934508422983547, 0.022609074749601943, 0.022609074749601943, 0.022609074749601943, 0.967872257865674, 0.012251547567919924, 0.02450309513583985, 0.1428928745625124, 0.525560640681168, 0.2968024333316584, 0.03467015323852342, 0.8314219412905041, 0.020889998524887037, 0.08355999409954815, 0.06475899542714982, 0.9536223162595214, 0.24829250659389673, 0.271856294565901, 0.449021070799859, 0.03098201751874634, 0.12814234128623977, 0.04556172134621859, 0.7933434729410311, 0.033032247976008476, 0.17364022280266941, 0.06557689265419962, 0.6474563626844216, 0.11360503938685287, 0.1884337534313969, 0.16143078564995061, 0.3140562557189948, 0.33636305519062437, 0.10699822453511933, 0.023260483594591156, 0.8420295061241999, 0.027912580313509388, 0.6696546348809704, 0.1294587167608203, 0.01883035880157386, 0.1812422034651484, 0.9495587685085715, 0.02260854210734694, 0.01507236140489796, 0.01507236140489796, 0.09076994483585732, 0.7124461137835995, 0.0881578600923794, 0.10840151685433319, 0.026364539191328175, 0.9754879500791425, 0.8189276987437906, 0.07005576183943932, 0.055561466286451866, 0.05797718221194977, 0.05281205465589949, 0.8978049291502913, 0.9728509877748095, 0.38421616454635044, 0.09703086189390883, 0.37835524000242304, 0.14001097521604294, 0.022109248859096094, 0.04053362290834284, 0.9249035772721865, 0.014739499239397396, 0.041686459335316714, 0.37858884432710366, 0.5366184219891679, 0.04320233058387369, 0.07427240215675818, 0.04836342466021463, 0.7824511203956153, 0.09499958415399302, 0.03258846472672924, 0.9613597094385125, 0.008276442742460248, 0.9848966863527696, 0.030279819013707278, 0.15618011912333227, 0.752214451287886, 0.06215331271234652, 0.04216152052761249, 0.010540380131903122, 0.9486342118712809, 0.9927957957673614, 0.007939136897975992, 0.015878273795951983, 0.968574701553071, 0.015878273795951983, 0.05917133685290613, 0.03143477270310638, 0.8247005073873792, 0.08320969244939924, 0.016502922426991286, 0.9736724231924858, 0.09960116163056465, 0.22696991983692308, 0.30483991892990997, 0.3682224763311784, 0.16864064518954894, 0.6912360908758065, 0.06717042647380339, 0.07288705851412708, 0.008433526423818085, 0.986722591586716, 0.013459394383069215, 0.9690763955809835, 0.013459394383069215, 0.013459394383069215, 0.9807619425765769, 0.006993550105120174, 0.9721034646117042, 0.013987100210240348, 0.006993550105120174, 0.017597955180256062, 0.9075516885817769, 0.04525188474922987, 0.03016792316615325, 0.9735136005445696, 0.008692085719147943, 0.008692085719147943, 0.008692085719147943, 0.3011667111122935, 0.16726263518873086, 0.17618957358363505, 0.35472834148171856, 0.10178674404093961, 0.08496248882756116, 0.10599280784428422, 0.7066187189618948, 0.056191747297555245, 0.8622526740486925, 0.05522292406828705, 0.026158227190241235, 0.04091006034875964, 0.3222564402911066, 0.5806357688095886, 0.055982187845671084, 0.01902959779009649, 0.9514798895048245, 0.01902959779009649, 0.006343199263365498, 0.23089171658069163, 0.13643601434313596, 0.4539121246415869, 0.17841632644871624, 0.16601047316593656, 0.4163344966263068, 0.10728172434015866, 0.31021571780745066, 0.9720653429909003, 0.008679154848133037, 0.008679154848133037, 0.008679154848133037, 0.5318232621181599, 0.1846731861779253, 0.1713554083285557, 0.11186933393470475, 0.12901538454252648, 0.09806776893575221, 0.6695938649465704, 0.10329269105118162, 0.0863972033141606, 0.3095593412362691, 0.5117655617587726, 0.0919119184193198, 0.054855674868494, 0.054855674868494, 0.932546472764398, 0.029569236718956612, 0.9757848117255682, 0.05218518847355824, 0.9393333925240483, 0.005897183138098354, 0.9848295840624252, 0.005897183138098354, 0.005897183138098354, 0.1526323357808917, 0.021052735969778164, 0.005263183992444541, 0.8157935188289039, 0.14955853742191708, 0.23856572009115531, 0.34080817155879334, 0.2709921286472347, 0.9764816532497971, 0.21583486017662692, 0.12037848410722547, 0.5633336873455317, 0.10015866060483994, 0.02625404640831359, 0.9338939365242978, 0.030004624466644102, 0.011251734174991538, 0.10603708025855842, 0.8413051862272437, 0.03262679392571028, 0.018643882243263018, 0.08546554330081502, 0.10020098180095553, 0.7441396442570962, 0.06925656095066043, 0.017065264840748405, 0.9641874635022849, 0.017065264840748405, 0.008532632420374203, 0.0848152588468888, 0.8732387917897988, 0.023891622210391213, 0.017918716657793408, 0.03216462515494189, 0.8614088674307874, 0.08644243010390631, 0.020102890721838677, 0.008777907890855568, 0.9831256837758235, 0.9668088998803549, 0.027466161928419174, 0.9681427373899982, 0.017152818286408713, 0.9777106423252966, 0.004503604462177118, 0.995296586141143, 0.0736561988708941, 0.08505537250567534, 0.8330165348493976, 0.008768595103677869, 0.3723793778906141, 0.22182023373627946, 0.24646692637364384, 0.1591319068108092, 0.008895894604348937, 0.9904095992841816, 0.3680343306576512, 0.2246135447975037, 0.28032244509028825, 0.1274192932228583, 0.10640436372980808, 0.06728511235855511, 0.1079691337846582, 0.7182294551762045, 0.016470861175608014, 0.9717808093608729, 0.33665680072541115, 0.2529198299866033, 0.2849620381774736, 0.12517822666566683, 0.9593028218809002, 0.01431795256538657, 0.01431795256538657, 0.01431795256538657, 0.9784779488460205, 0.009784779488460205, 0.009784779488460205, 0.009784779488460205, 0.09590217737588948, 0.09590217737588948, 0.7278545850095492, 0.08015704377686285, 0.022607175437592816, 0.9664567499570929, 0.005651793859398204, 0.005651793859398204, 0.006699040514873336, 0.3490200108249008, 0.6410981772733783, 0.003349520257436668, 0.9927957957673614, 0.015310607267702473, 0.7195985415820162, 0.22659698756199662, 0.03849524113022336, 0.1764062954658051, 0.7615426491052114, 0.04127241629766006, 0.02063620814883003, 0.9721843957361544, 0.02371181453015011, 0.07700545159950212, 0.06021478922066331, 0.6895751342481732, 0.17369650736729803, 0.01167602939716898, 0.9486773885199796, 0.01751404409575347, 0.020433051445045713, 0.11732120286909109, 0.4201856296589033, 0.21241856554712088, 0.25014741052264355, 0.9802085649578854, 0.15701840691761654, 0.1273922924048587, 0.672512799439603, 0.043254127188626444, 0.19005947518811014, 0.6841119281636545, 0.05160216933870733, 0.07459323488565614, 0.12820059220631858, 0.04006268506447456, 0.12018805519342368, 0.7131157941476471, 0.0661637394042761, 0.7472025307159601, 0.15521117815138452, 0.031838190390027596, 0.6301561398109761, 0.14837719036683975, 0.17161699126767008, 0.050054955786403774, 0.053056666786458956, 0.03215555562815694, 0.29100777843482034, 0.6238177791862447, 0.6822372176245761, 0.04286307126437128, 0.15448565268200481, 0.11965940727970314, 0.11525706538805404, 0.373013775255884, 0.1348158401205723, 0.37650641360097653, 0.9622642522289767, 0.02186964209611311, 0.008213330601812854, 0.9855996722175425, 0.41211072001788435, 0.1678969600072862, 0.11933172364154228, 0.3004106763766733, 0.1231249839806838, 0.021660876811416596, 0.7410299961800414, 0.11514466094489875, 0.02001250176507129, 0.9272459151149697, 0.046695837451833005, 0.005003125441267822, 0.03941104520956334, 0.09458650850295201, 0.09064540398199568, 0.7744270383679196, 0.8820991667484275, 0.04466324894928747, 0.01860968706220311, 0.05582906118660934, 0.05198153406917747, 0.9188993764486856, 0.01676823679650886, 0.010060942077905317, 0.9458270393140945, 0.9927957957673614, 0.2175503914043204, 0.15189329129580928, 0.1832519062730086, 0.447840220143128, 0.035056501372579416, 0.9209073245181439, 0.025618212541500346, 0.01887657766215815], \"Term\": [\"abdul-jabbar\", \"acciones\", \"acciones\", \"acciones\", \"acciones\", \"accionistas\", \"accionistas\", \"accionistas\", \"accionistas\", \"aceite\", \"aceite\", \"aceite\", \"aceite\", \"aconsejemos\", \"actividad\", \"actividad\", \"actividad\", \"actividad\", \"activos\", \"activos\", \"activos\", \"activos\", \"actriz\", \"actriz\", \"actriz\", \"actriz\", \"adhiere\", \"adhiere\", \"adhiere\", \"adhiere\", \"aemet\", \"aemet\", \"aemet\", \"aeropuerto\", \"aeropuerto\", \"aeropuerto\", \"aeropuerto\", \"aeropuertos\", \"aeropuertos\", \"aeropuertos\", \"aeropuertos\", \"agua\", \"agua\", \"agua\", \"agua\", \"aix\\u00f2\", \"aix\\u00f2\", \"alcista\", \"alcista\", \"alcista\", \"alcista\", \"alcistas\", \"alcistas\", \"alcistas\", \"alcistas\", \"alicante-elche\", \"amazon\", \"amazon\", \"amazon\", \"amazon\", \"amigos\", \"amigos\", \"amigos\", \"amigos\", \"analistas\", \"analistas\", \"analistas\", \"analistas\", \"antedicha\", \"ant\\u00edgenos\", \"ant\\u00edgenos\", \"ant\\u00edgenos\", \"ant\\u00edgenos\", \"anual\", \"anual\", \"anual\", \"anual\", \"an\\u00e1lisis\", \"an\\u00e1lisis\", \"an\\u00e1lisis\", \"an\\u00e1lisis\", \"aproximarnos\", \"aproximarnos\", \"aproximarnos\", \"arag\\u00f3n\", \"arag\\u00f3n\", \"arag\\u00f3n\", \"arag\\u00f3n\", \"arterial\", \"ashotel\", \"ashotel\", \"ashotel\", \"ashotel\", \"auricular\", \"auriculares\", \"auriculares\", \"auriculares\", \"auriculares\", \"aut\\u00f3nomos\", \"aut\\u00f3nomos\", \"aut\\u00f3nomos\", \"aut\\u00f3nomos\", \"bajista\", \"bajista\", \"bajista\", \"bajista\", \"baleares\", \"baleares\", \"baleares\", \"baleares\", \"banco\", \"banco\", \"banco\", \"banco\", \"bancos\", \"bancos\", \"bancos\", \"bancos\", \"bank\", \"bank\", \"bank\", \"bank\", \"barcelona-el\", \"barcelona-el\", \"barcelona-el\", \"bar\\u00e7a\", \"bar\\u00e7a\", \"bar\\u00e7a\", \"bar\\u00e7a\", \"bbva\", \"bbva\", \"bbva\", \"bbva\", \"beb\\u00e9s\", \"beb\\u00e9s\", \"beb\\u00e9s\", \"berenberg\", \"berenberg\", \"biden\", \"biden\", \"biden\", \"biden\", \"biosearch\", \"bolsa\", \"bolsa\", \"bolsa\", \"bolsa\", \"bolsas\", \"bolsas\", \"bolsas\", \"bolsas\", \"bos\\u00e9\", \"bos\\u00e9\", \"bryant\", \"bryant\", \"bryant\", \"calcular\\u00e1\", \"calcular\\u00e1\", \"calcular\\u00e1\", \"cambio\", \"cambio\", \"cambio\", \"cambio\", \"canarias\", \"canarias\", \"canarias\", \"canarias\", \"cantabria\", \"cantabria\", \"cantabria\", \"cantabria\", \"cantado\", \"capital\", \"capital\", \"capital\", \"capital\", \"caracter\", \"caracter\", \"casa\", \"casa\", \"casa\", \"casa\", \"casos\", \"casos\", \"casos\", \"casos\", \"castilla\", \"castilla\", \"castilla\", \"castilla\", \"castilla-la\", \"castilla-la\", \"castilla-la\", \"castilla-la\", \"catalu\\u00f1a\", \"catalu\\u00f1a\", \"catalu\\u00f1a\", \"catalu\\u00f1a\", \"celtics\", \"celtics\", \"celtics\", \"celulosa\", \"celulosa\", \"celulosa\", \"centro\", \"centro\", \"centro\", \"centro\", \"champions\", \"champions\", \"champions\", \"champions\", \"ciclismo\", \"ciclismo\", \"ciclismo\", \"ciclismo\", \"cierre\", \"cierre\", \"cierre\", \"cierre\", \"ciudad\", \"ciudad\", \"ciudad\", \"ciudad\", \"ciudadanos\", \"ciudadanos\", \"ciudadanos\", \"ciudadanos\", \"clia\", \"clia\", \"clia\", \"clia\", \"cliente\", \"cliente\", \"cliente\", \"cliente\", \"clippers\", \"clippers\", \"club\", \"club\", \"club\", \"club\", \"comercializados\", \"comercializados\", \"comercializados\", \"compa\\u00f1\\u00edas\", \"compa\\u00f1\\u00edas\", \"compa\\u00f1\\u00edas\", \"compa\\u00f1\\u00edas\", \"comunidad\", \"comunidad\", \"comunidad\", \"comunidad\", \"comunidades\", \"comunidades\", \"comunidades\", \"comunidades\", \"condiciones\", \"condiciones\", \"condiciones\", \"condiciones\", \"conseller\", \"conseller\", \"consellera\", \"consellera\", \"consellera\", \"consentimiento\", \"consentimiento\", \"consentimiento\", \"consentimiento\", \"contagios\", \"contagios\", \"contagios\", \"contagios\", \"contractual\", \"contractual\", \"contractual\", \"contractual\", \"contraprestaciones\", \"contratacion\", \"contrataci\\u00f3n\", \"contrataci\\u00f3n\", \"contrataci\\u00f3n\", \"contrataci\\u00f3n\", \"contratantes\", \"contratar\", \"contratar\", \"contratar\", \"contratar\", \"contrate\", \"contrate\", \"contrate\", \"contrato\", \"contrato\", \"contrato\", \"contrato\", \"copa\", \"copa\", \"copa\", \"copa\", \"coronavirus\", \"coronavirus\", \"coronavirus\", \"coronavirus\", \"correctiva\", \"correctiva\", \"corto\", \"corto\", \"corto\", \"corto\", \"crecimiento\", \"crecimiento\", \"crecimiento\", \"crecimiento\", \"cuando\", \"cuando\", \"cuando\", \"cuando\", \"cucharadas\", \"cucharadita\", \"cuchilla\", \"datos\", \"datos\", \"datos\", \"datos\", \"deber\\u00e1\", \"deber\\u00e1\", \"deber\\u00e1\", \"deber\\u00e1\", \"dels\", \"dels\", \"dels\", \"dels\", \"demanda\", \"demanda\", \"demanda\", \"demanda\", \"derecho\", \"derecho\", \"derecho\", \"derecho\", \"descartamos\", \"descartamos\", \"deseara\", \"deseara\", \"desistimiento\", \"desistimiento\", \"desistimiento\", \"devengada\", \"devengada\", \"diabetes\", \"diabetes\", \"diabetes\", \"diabetes\", \"diagn\\u00f3stica\", \"diagn\\u00f3stica\", \"diagn\\u00f3stica\", \"diagn\\u00f3stica\", \"diciembre\", \"diciembre\", \"diciembre\", \"diciembre\", \"digitalizaci\\u00f3n\", \"digitalizaci\\u00f3n\", \"digitalizaci\\u00f3n\", \"digitalizaci\\u00f3n\", \"directriz\", \"directriz\", \"dividendo\", \"dividendo\", \"dividendo\", \"dividendo\", \"draft\", \"draft\", \"draft\", \"d\\u00e9cimos\", \"d\\u00f3lar\", \"d\\u00f3lar\", \"d\\u00f3lar\", \"d\\u00f3lar\", \"d\\u00f3lares\", \"d\\u00f3lares\", \"d\\u00f3lares\", \"d\\u00f3lares\", \"econom\\u00eda\", \"econom\\u00eda\", \"econom\\u00eda\", \"econom\\u00eda\", \"econ\\u00f3mica\", \"econ\\u00f3mica\", \"econ\\u00f3mica\", \"econ\\u00f3mica\", \"eeuu\", \"eeuu\", \"eeuu\", \"eeuu\", \"electrolizador\", \"electrolizador\", \"equipo\", \"equipo\", \"equipo\", \"equipo\", \"erte\", \"erte\", \"erte\", \"erte\", \"esta\", \"esta\", \"esta\", \"esta\", \"establecieran\", \"estado\", \"estado\", \"estado\", \"estado\", \"este\", \"este\", \"este\", \"este\", \"estrategias\", \"estrategias\", \"estrategias\", \"estrategias\", \"eurocontrol\", \"eurocontrol\", \"eurocontrol\", \"eurocontrol\", \"europa\", \"europa\", \"europa\", \"europa\", \"eurostoxx\", \"eurostoxx\", \"eurostoxx\", \"eurowings\", \"explica\", \"explica\", \"explica\", \"explica\", \"expreso\", \"expreso\", \"expreso\", \"familia\", \"familia\", \"familia\", \"familia\", \"fargo\", \"fargo\", \"felguera\", \"felguera\", \"felguera\", \"felguera\", \"fibonacci\", \"fibonacci\", \"fins\", \"fins\", \"fins\", \"fisher\", \"fisher\", \"fisher\", \"fotos\", \"fotos\", \"fotos\", \"fotos\", \"f\\u00fatbol\", \"f\\u00fatbol\", \"f\\u00fatbol\", \"f\\u00fatbol\", \"gafas\", \"gafas\", \"gafas\", \"gafas\", \"ganancias\", \"ganancias\", \"ganancias\", \"ganancias\", \"generales\", \"generales\", \"generales\", \"generales\", \"generalitat\", \"generalitat\", \"generalitat\", \"generalitat\", \"gente\", \"gente\", \"gente\", \"gente\", \"goles\", \"goles\", \"goles\", \"goles\", \"govern\", \"govern\", \"govern\", \"govern\", \"gracias\", \"gracias\", \"gracias\", \"gracias\", \"habitantes\", \"habitantes\", \"habitantes\", \"habitantes\", \"hidr\\u00f3geno\", \"hidr\\u00f3geno\", \"hidr\\u00f3geno\", \"hidr\\u00f3geno\", \"hijos\", \"hijos\", \"hijos\", \"hijos\", \"historia\", \"historia\", \"historia\", \"historia\", \"hombre\", \"hombre\", \"hombre\", \"hombre\", \"ibex\", \"ibex\", \"ibex\", \"ibex\", \"iceta\", \"iceta\", \"iceta\", \"iceta\", \"ichimoku\", \"ichimoku\", \"illa\", \"illa\", \"illa\", \"illa\", \"impacto\", \"impacto\", \"impacto\", \"impacto\", \"importante\", \"importante\", \"importante\", \"importante\", \"incidencia\", \"incidencia\", \"incidencia\", \"incidencia\", \"indicarnos\", \"informaci\\u00f3n\", \"informaci\\u00f3n\", \"informaci\\u00f3n\", \"informaci\\u00f3n\", \"iniciara\", \"iniciara\", \"iniciara\", \"injurias\", \"injurias\", \"instagram\", \"instagram\", \"instagram\", \"instagram\", \"intercambia\", \"inversi\\u00f3n\", \"inversi\\u00f3n\", \"inversi\\u00f3n\", \"inversi\\u00f3n\", \"inversores\", \"inversores\", \"inversores\", \"inversores\", \"invertir\", \"invertir\", \"invertir\", \"invertir\", \"iphone\", \"iphone\", \"iphone\", \"iphone\", \"islas\", \"islas\", \"islas\", \"islas\", \"jam\\u00f3n\", \"jam\\u00f3n\", \"jam\\u00f3n\", \"jam\\u00f3n\", \"jofre\", \"jofre\", \"joven\", \"joven\", \"joven\", \"joven\", \"jpmorgan\", \"jpmorgan\", \"jpmorgan\", \"jubilaci\\u00f3n\", \"jubilaci\\u00f3n\", \"jubilaci\\u00f3n\", \"jubilaci\\u00f3n\", \"juegos\", \"juegos\", \"juegos\", \"juegos\", \"kareem\", \"kareem\", \"kobe\", \"kobe\", \"kobe\", \"koeman\", \"koeman\", \"koeman\", \"koeman\", \"kroos\", \"kroos\", \"laboral\", \"laboral\", \"laboral\", \"laboral\", \"lakers\", \"lakers\", \"lakers\", \"lebron\", \"lebron\", \"lebron\", \"lentes\", \"le\\u00f3n\", \"le\\u00f3n\", \"le\\u00f3n\", \"le\\u00f3n\", \"liberbank\", \"liberbank\", \"liberbank\", \"liberbank\", \"libro\", \"libro\", \"libro\", \"libro\", \"liga\", \"liga\", \"liga\", \"liga\", \"lily\", \"lunes\", \"lunes\", \"lunes\", \"lunes\", \"macd\", \"macd\", \"madre\", \"madre\", \"madre\", \"madre\", \"madrid\", \"madrid\", \"madrid\", \"madrid\", \"madrid-barajas\", \"madrid-barajas\", \"madrid-barajas\", \"madrid-barajas\", \"mallorca\", \"mallorca\", \"mallorca\", \"mallorca\", \"marca\", \"marca\", \"marca\", \"marca\", \"mary\", \"mary\", \"mary\", \"medidas\", \"medidas\", \"medidas\", \"medidas\", \"meir\\u00e1s\", \"meir\\u00e1s\", \"melilla\", \"melilla\", \"melilla\", \"melilla\", \"menorca\", \"menorca\", \"menorca\", \"mercados\", \"mercados\", \"mercados\", \"mercados\", \"messi\", \"messi\", \"messi\", \"messi\", \"ministerio\", \"ministerio\", \"ministerio\", \"ministerio\", \"ministro\", \"ministro\", \"ministro\", \"ministro\", \"minutos\", \"minutos\", \"minutos\", \"minutos\", \"mnuchin\", \"modric\", \"movilidad\", \"movilidad\", \"movilidad\", \"movilidad\", \"mujer\", \"mujer\", \"mujer\", \"mujer\", \"mujeres\", \"mujeres\", \"mujeres\", \"mujeres\", \"m\\u00e1ximos\", \"m\\u00e1ximos\", \"m\\u00e1ximos\", \"m\\u00e1ximos\", \"m\\u00faltiplos\", \"m\\u00faltiplos\", \"m\\u00faltiplos\", \"m\\u00fasica\", \"m\\u00fasica\", \"m\\u00fasica\", \"m\\u00fasica\", \"nasdaq\", \"nasdaq\", \"nasdaq\", \"nasdaq\", \"nature\", \"nature\", \"nature\", \"navarra\", \"navarra\", \"navarra\", \"navarra\", \"negocio\", \"negocio\", \"negocio\", \"negocio\", \"neurona\", \"neurona\", \"neurona\", \"neurona\", \"nivel\", \"nivel\", \"nivel\", \"nivel\", \"ni\\u00f1o\", \"ni\\u00f1o\", \"ni\\u00f1o\", \"ni\\u00f1o\", \"ni\\u00f1os\", \"ni\\u00f1os\", \"ni\\u00f1os\", \"ni\\u00f1os\", \"novela\", \"novela\", \"novela\", \"novela\", \"n\\u00famero\", \"n\\u00famero\", \"n\\u00famero\", \"n\\u00famero\", \"objetivo\", \"objetivo\", \"objetivo\", \"objetivo\", \"orientativos\", \"orientativos\", \"orientativos\", \"original\", \"original\", \"original\", \"original\", \"oscilador\", \"ostras\", \"otegi\", \"otegi\", \"otegi\", \"o\\u2019neal\", \"padre\", \"padre\", \"padre\", \"padre\", \"padres\", \"padres\", \"padres\", \"padres\", \"pago\", \"pago\", \"pago\", \"pago\", \"pand\\u00e8mia\", \"pantalla\", \"pantalla\", \"pantalla\", \"pantalla\", \"partido\", \"partido\", \"partido\", \"partido\", \"pasajeros\", \"pasajeros\", \"pasajeros\", \"pasajeros\", \"pa\\u00edses\", \"pa\\u00edses\", \"pa\\u00edses\", \"pa\\u00edses\", \"pedri\", \"pedri\", \"pedri\", \"pedri\", \"pel\\u00edcula\", \"pel\\u00edcula\", \"pel\\u00edcula\", \"pel\\u00edcula\", \"pensiones\", \"pensiones\", \"pensiones\", \"pensiones\", \"pensi\\u00f3n\", \"pensi\\u00f3n\", \"pensi\\u00f3n\", \"pensi\\u00f3n\", \"personajes\", \"personajes\", \"personajes\", \"personajes\", \"persones\", \"per\\u00f2\", \"per\\u00f2\", \"per\\u00f2\", \"per\\u00f2\", \"piel\", \"piel\", \"piel\", \"piel\", \"plan\", \"plan\", \"plan\", \"plan\", \"playoffs\", \"playoffs\", \"playoffs\", \"plazo\", \"plazo\", \"plazo\", \"plazo\", \"pollo\", \"pollo\", \"pollo\", \"pollo\", \"portero\", \"portero\", \"portero\", \"precio\", \"precio\", \"precio\", \"precio\", \"premio\", \"premio\", \"premio\", \"premio\", \"prix\", \"productos\", \"productos\", \"productos\", \"productos\", \"profesional\", \"profesional\", \"profesional\", \"profesional\", \"profesionales\", \"profesionales\", \"profesionales\", \"profesionales\", \"proyecto\", \"proyecto\", \"proyecto\", \"proyecto\", \"publicaciones\", \"publicaciones\", \"publicaciones\", \"publicaciones\", \"puedes\", \"puedes\", \"puedes\", \"puedes\", \"pulgadas\", \"pulgadas\", \"pulgadas\", \"pulgadas\", \"puntos\", \"puntos\", \"puntos\", \"puntos\", \"quinteto\", \"quinteto\", \"radio\", \"radio\", \"radio\", \"radio\", \"raptors\", \"raptors\", \"rcep\", \"real\", \"real\", \"real\", \"real\", \"realice\", \"realice\", \"realice\", \"realice\", \"recuperaci\\u00f3n\", \"recuperaci\\u00f3n\", \"recuperaci\\u00f3n\", \"recuperaci\\u00f3n\", \"reforma\", \"reforma\", \"reforma\", \"reforma\", \"refundido\", \"refundido\", \"regir\\u00e1n\", \"regir\\u00e1n\", \"regulaci\\u00f3n\", \"regulaci\\u00f3n\", \"regulaci\\u00f3n\", \"regulaci\\u00f3n\", \"reg\\u00edstrateiniciar\", \"reg\\u00edstrateiniciar\", \"reg\\u00edstrateiniciar\", \"reintegrar\\u00e1\", \"renovaciones\", \"renovaciones\", \"renovaciones\", \"renovaciones\", \"renovaci\\u00f3n\", \"renovaci\\u00f3n\", \"renovaci\\u00f3n\", \"renovaci\\u00f3n\", \"renuevan\", \"renuevan\", \"restricciones\", \"restricciones\", \"restricciones\", \"restricciones\", \"resultados\", \"resultados\", \"resultados\", \"resultados\", \"resultara\", \"resultara\", \"revaloriza\", \"revaloriza\", \"revaloriza\", \"revaloriza\", \"ritual\", \"rovi\", \"rovi\", \"rovi\", \"rovi\", \"sabadell\", \"sabadell\", \"sabadell\", \"sabadell\", \"salsa\", \"salsa\", \"salsa\", \"salsa\", \"salud\", \"salud\", \"salud\", \"salud\", \"sanidad\", \"sanidad\", \"sanidad\", \"sanidad\", \"santander\", \"santander\", \"santander\", \"santander\", \"sectores\", \"sectores\", \"sectores\", \"sectores\", \"securities\", \"securities\", \"securities\", \"securities\", \"seguridad\", \"seguridad\", \"seguridad\", \"seguridad\", \"semana\", \"semana\", \"semana\", \"semana\", \"seminario\", \"seminario\", \"seminario\", \"seminario\", \"serie\", \"serie\", \"serie\", \"serie\", \"servicio\", \"servicio\", \"servicio\", \"servicio\", \"servicios\", \"servicios\", \"servicios\", \"servicios\", \"shapps\", \"shapps\", \"shapps\", \"shaquille\", \"shaquille\", \"showtime\", \"showtime\", \"siemens-gamesa\", \"siemens-gamesa\", \"siemens-gamesa\", \"siemens-gamesa\", \"sim\\u00f3n\", \"sim\\u00f3n\", \"sim\\u00f3n\", \"sim\\u00f3n\", \"situaci\\u00f3n\", \"situaci\\u00f3n\", \"situaci\\u00f3n\", \"situaci\\u00f3n\", \"sobreventa\", \"social\", \"social\", \"social\", \"social\", \"solaria\", \"solaria\", \"solaria\", \"solaria\", \"soporte\", \"soporte\", \"soporte\", \"soporte\", \"sostenibilidad\", \"sostenibilidad\", \"sostenibilidad\", \"sostenibilidad\", \"stanley\", \"stanley\", \"stanley\", \"stanley\", \"street\", \"street\", \"street\", \"street\", \"subidas\", \"subidas\", \"subidas\", \"subidas\", \"subjetivos\", \"subjetivos\", \"superara\", \"superara\", \"supercopa\", \"suscriban\", \"suscriban\", \"suscripcion\", \"suscripcion\", \"suscripci\\u00f3n\", \"suscripci\\u00f3n\", \"suscripci\\u00f3n\", \"suscripci\\u00f3n\", \"tambi\\u00e9n\", \"tambi\\u00e9n\", \"tambi\\u00e9n\", \"tambi\\u00e9n\", \"tecnicas\", \"tecnicas\", \"tecnolog\\u00eda\", \"tecnolog\\u00eda\", \"tecnolog\\u00eda\", \"tecnolog\\u00eda\", \"test\", \"test\", \"test\", \"test\", \"throw\", \"throw\", \"tipo\", \"tipo\", \"tipo\", \"tipo\", \"tomate\", \"tomate\", \"tomate\", \"tomate\", \"tonos\", \"tonos\", \"tonos\", \"tonos\", \"trabajadores\", \"trabajadores\", \"trabajadores\", \"trabajadores\", \"trader\", \"trader\", \"trader\", \"trader\", \"trading\", \"trading\", \"trading\", \"trading\", \"traiding\", \"trimestre\", \"trimestre\", \"trimestre\", \"trimestre\", \"trump\", \"trump\", \"trump\", \"trump\", \"turespa\\u00f1a\", \"turespa\\u00f1a\", \"turismo\", \"turismo\", \"turismo\", \"turismo\", \"unicaja\", \"unicaja\", \"unicaja\", \"unicaja\", \"unido\", \"unido\", \"unido\", \"unido\", \"urbas\", \"usuario\", \"usuario\", \"usuario\", \"usuario\", \"vacuna\", \"vacuna\", \"vacuna\", \"vacuna\", \"valenciana\", \"valenciana\", \"valenciana\", \"valenciana\", \"valores\", \"valores\", \"valores\", \"valores\", \"versi\\u00f3n\", \"versi\\u00f3n\", \"versi\\u00f3n\", \"versi\\u00f3n\", \"viajeros\", \"viajeros\", \"viajeros\", \"viajeros\", \"vida\", \"vida\", \"vida\", \"vida\", \"viernes\", \"viernes\", \"viernes\", \"viernes\", \"vinagre\", \"vinagre\", \"vincularse\", \"vincularse\", \"virus\", \"virus\", \"virus\", \"virus\", \"vivienda\", \"vivienda\", \"vivienda\", \"vivienda\", \"volatilidad\", \"volatilidad\", \"volatilidad\", \"volatilidad\", \"vuelos\", \"vuelos\", \"vuelos\", \"vuelos\", \"v\\u00eddeos\", \"v\\u00eddeos\", \"v\\u00eddeos\", \"v\\u00eddeos\", \"wall\", \"wall\", \"wall\", \"wall\", \"wood\", \"wwwestrategiasdeinversioncom\", \"zonas\", \"zonas\", \"zonas\", \"zonas\", \"\\u00edndices\", \"\\u00edndices\", \"\\u00edndices\", \"\\u00edndices\"]}, \"R\": 30, \"lambda.step\": 0.01, \"plot.opts\": {\"xlab\": \"PC1\", \"ylab\": \"PC2\"}, \"topic.order\": [3, 4, 1, 2]};\n",
       "\n",
       "function LDAvis_load_lib(url, callback){\n",
       "  var s = document.createElement('script');\n",
       "  s.src = url;\n",
       "  s.async = true;\n",
       "  s.onreadystatechange = s.onload = callback;\n",
       "  s.onerror = function(){console.warn(\"failed to load library \" + url);};\n",
       "  document.getElementsByTagName(\"head\")[0].appendChild(s);\n",
       "}\n",
       "\n",
       "if(typeof(LDAvis) !== \"undefined\"){\n",
       "   // already loaded: just create the visualization\n",
       "   !function(LDAvis){\n",
       "       new LDAvis(\"#\" + \"ldavis_el17711402604948204007364589410\", ldavis_el17711402604948204007364589410_data);\n",
       "   }(LDAvis);\n",
       "}else if(typeof define === \"function\" && define.amd){\n",
       "   // require.js is available: use it to load d3/LDAvis\n",
       "   require.config({paths: {d3: \"https://d3js.org/d3.v5\"}});\n",
       "   require([\"d3\"], function(d3){\n",
       "      window.d3 = d3;\n",
       "      LDAvis_load_lib(\"https://cdn.jsdelivr.net/gh/bmabey/pyLDAvis@3.3.1/pyLDAvis/js/ldavis.v3.0.0.js\", function(){\n",
       "        new LDAvis(\"#\" + \"ldavis_el17711402604948204007364589410\", ldavis_el17711402604948204007364589410_data);\n",
       "      });\n",
       "    });\n",
       "}else{\n",
       "    // require.js not available: dynamically load d3 & LDAvis\n",
       "    LDAvis_load_lib(\"https://d3js.org/d3.v5.js\", function(){\n",
       "         LDAvis_load_lib(\"https://cdn.jsdelivr.net/gh/bmabey/pyLDAvis@3.3.1/pyLDAvis/js/ldavis.v3.0.0.js\", function(){\n",
       "                 new LDAvis(\"#\" + \"ldavis_el17711402604948204007364589410\", ldavis_el17711402604948204007364589410_data);\n",
       "            })\n",
       "         });\n",
       "}\n",
       "</script>"
      ],
      "text/plain": [
       "<IPython.core.display.HTML object>"
      ]
     },
     "execution_count": 60,
     "metadata": {},
     "output_type": "execute_result"
    }
   ],
   "source": [
    "ldamodel = LdaModel(corpus=corpus_bow, num_topics=4, id2word=diccionari)\n",
    "vis_data = pyLDAvis.gensim_models.prepare(ldamodel, corpus_bow, diccionari)\n",
    "pyLDAvis.display(vis_data)"
   ]
  },
  {
   "cell_type": "markdown",
   "metadata": {},
   "source": [
    "###  5.2.2 Pertinença de cada document al tòpic <a class=\"anchor\" id=\"pertienca\"></a>\n",
    "\n",
    "Determinem amb la següent funció la pertinença de cada document al tòpic. "
   ]
  },
  {
   "cell_type": "code",
   "execution_count": 61,
   "metadata": {},
   "outputs": [],
   "source": [
    "def format_topics_sentences(ldamodel, corpus):\n",
    "    # inicializa salida\n",
    "    sent_topics_df = pd.DataFrame()\n",
    "\n",
    "    # obtiene main topic de cada documento\n",
    "    for row in ldamodel[corpus]:\n",
    "        row = sorted(row, key=lambda x: (x[1]), reverse=True)\n",
    "        # Get the Dominant topic, Perc Contribution and Keywords for each document\n",
    "        (topic_num, prop_topic)=row[0]\n",
    "        wp = ldamodel.show_topic(topic_num)\n",
    "        topic_keywords = \", \".join([word for word, prop in wp])\n",
    "        sent_topics_df = sent_topics_df.append(pd.Series([int(topic_num), round(prop_topic,4), topic_keywords]), ignore_index=True)\n",
    "    sent_topics_df.reset_index(inplace=True)\n",
    "    sent_topics_df.columns = ['No_noticia','Topic_dominant', 'Contribucio_per', 'Paraules_clau']\n",
    "    sent_topics_df['Topic_dominant'] = sent_topics_df['Topic_dominant'].astype('int')\n",
    "    return(sent_topics_df)"
   ]
  },
  {
   "cell_type": "code",
   "execution_count": 62,
   "metadata": {},
   "outputs": [],
   "source": [
    "df_notices2topic = format_topics_sentences(ldamodel=ldamodel, corpus=corpus_bow)"
   ]
  },
  {
   "cell_type": "code",
   "execution_count": 63,
   "metadata": {},
   "outputs": [
    {
     "data": {
      "text/html": [
       "<div>\n",
       "<style scoped>\n",
       "    .dataframe tbody tr th:only-of-type {\n",
       "        vertical-align: middle;\n",
       "    }\n",
       "\n",
       "    .dataframe tbody tr th {\n",
       "        vertical-align: top;\n",
       "    }\n",
       "\n",
       "    .dataframe thead th {\n",
       "        text-align: right;\n",
       "    }\n",
       "</style>\n",
       "<table border=\"1\" class=\"dataframe\">\n",
       "  <thead>\n",
       "    <tr style=\"text-align: right;\">\n",
       "      <th></th>\n",
       "      <th>No_noticia</th>\n",
       "      <th>Topic_dominant</th>\n",
       "      <th>Contribucio_per</th>\n",
       "      <th>Paraules_clau</th>\n",
       "    </tr>\n",
       "  </thead>\n",
       "  <tbody>\n",
       "    <tr>\n",
       "      <th>0</th>\n",
       "      <td>0</td>\n",
       "      <td>3</td>\n",
       "      <td>0.5636</td>\n",
       "      <td>plazo, dólares, inversión, puntos, banco, inve...</td>\n",
       "    </tr>\n",
       "    <tr>\n",
       "      <th>1</th>\n",
       "      <td>1</td>\n",
       "      <td>0</td>\n",
       "      <td>0.4434</td>\n",
       "      <td>servicio, economía, inversión, recuperación, p...</td>\n",
       "    </tr>\n",
       "    <tr>\n",
       "      <th>2</th>\n",
       "      <td>2</td>\n",
       "      <td>0</td>\n",
       "      <td>0.4923</td>\n",
       "      <td>servicio, economía, inversión, recuperación, p...</td>\n",
       "    </tr>\n",
       "    <tr>\n",
       "      <th>3</th>\n",
       "      <td>3</td>\n",
       "      <td>1</td>\n",
       "      <td>0.9390</td>\n",
       "      <td>madrid, casos, semana, comunidad, medidas, cor...</td>\n",
       "    </tr>\n",
       "    <tr>\n",
       "      <th>4</th>\n",
       "      <td>4</td>\n",
       "      <td>3</td>\n",
       "      <td>0.6209</td>\n",
       "      <td>plazo, dólares, inversión, puntos, banco, inve...</td>\n",
       "    </tr>\n",
       "  </tbody>\n",
       "</table>\n",
       "</div>"
      ],
      "text/plain": [
       "   No_noticia  Topic_dominant  Contribucio_per  \\\n",
       "0           0               3           0.5636   \n",
       "1           1               0           0.4434   \n",
       "2           2               0           0.4923   \n",
       "3           3               1           0.9390   \n",
       "4           4               3           0.6209   \n",
       "\n",
       "                                       Paraules_clau  \n",
       "0  plazo, dólares, inversión, puntos, banco, inve...  \n",
       "1  servicio, economía, inversión, recuperación, p...  \n",
       "2  servicio, economía, inversión, recuperación, p...  \n",
       "3  madrid, casos, semana, comunidad, medidas, cor...  \n",
       "4  plazo, dólares, inversión, puntos, banco, inve...  "
      ]
     },
     "execution_count": 63,
     "metadata": {},
     "output_type": "execute_result"
    }
   ],
   "source": [
    "df_notices2topic.head()"
   ]
  },
  {
   "cell_type": "markdown",
   "metadata": {},
   "source": [
    "###  5.2.3 Notícia més representativa de cada tòpic  <a class=\"anchor\" id=\"noticia\"></a>\n",
    "\n",
    "Obtenim les notícies més rellevants de cada tòpic agrupant per tòpics.  "
   ]
  },
  {
   "cell_type": "code",
   "execution_count": 64,
   "metadata": {},
   "outputs": [
    {
     "data": {
      "text/html": [
       "<div>\n",
       "<style scoped>\n",
       "    .dataframe tbody tr th:only-of-type {\n",
       "        vertical-align: middle;\n",
       "    }\n",
       "\n",
       "    .dataframe tbody tr th {\n",
       "        vertical-align: top;\n",
       "    }\n",
       "\n",
       "    .dataframe thead th {\n",
       "        text-align: right;\n",
       "    }\n",
       "</style>\n",
       "<table border=\"1\" class=\"dataframe\">\n",
       "  <thead>\n",
       "    <tr style=\"text-align: right;\">\n",
       "      <th></th>\n",
       "      <th>No_noticia</th>\n",
       "      <th>Topic_dominant</th>\n",
       "      <th>Contribucio_per</th>\n",
       "      <th>Paraules_clau</th>\n",
       "    </tr>\n",
       "  </thead>\n",
       "  <tbody>\n",
       "    <tr>\n",
       "      <th>0</th>\n",
       "      <td>7201</td>\n",
       "      <td>0</td>\n",
       "      <td>0.9992</td>\n",
       "      <td>servicio, economía, inversión, recuperación, p...</td>\n",
       "    </tr>\n",
       "    <tr>\n",
       "      <th>1</th>\n",
       "      <td>2046</td>\n",
       "      <td>1</td>\n",
       "      <td>0.9998</td>\n",
       "      <td>madrid, casos, semana, comunidad, medidas, cor...</td>\n",
       "    </tr>\n",
       "    <tr>\n",
       "      <th>2</th>\n",
       "      <td>387</td>\n",
       "      <td>2</td>\n",
       "      <td>0.9997</td>\n",
       "      <td>vida, casa, equipo, madrid, gente, explica, es...</td>\n",
       "    </tr>\n",
       "    <tr>\n",
       "      <th>3</th>\n",
       "      <td>8918</td>\n",
       "      <td>3</td>\n",
       "      <td>0.9990</td>\n",
       "      <td>plazo, dólares, inversión, puntos, banco, inve...</td>\n",
       "    </tr>\n",
       "  </tbody>\n",
       "</table>\n",
       "</div>"
      ],
      "text/plain": [
       "   No_noticia  Topic_dominant  Contribucio_per  \\\n",
       "0        7201               0           0.9992   \n",
       "1        2046               1           0.9998   \n",
       "2         387               2           0.9997   \n",
       "3        8918               3           0.9990   \n",
       "\n",
       "                                       Paraules_clau  \n",
       "0  servicio, economía, inversión, recuperación, p...  \n",
       "1  madrid, casos, semana, comunidad, medidas, cor...  \n",
       "2  vida, casa, equipo, madrid, gente, explica, es...  \n",
       "3  plazo, dólares, inversión, puntos, banco, inve...  "
      ]
     },
     "execution_count": 64,
     "metadata": {},
     "output_type": "execute_result"
    }
   ],
   "source": [
    "# Agrupem notícies per tòpic\n",
    "sent_topics_sorted = pd.DataFrame()\n",
    "\n",
    "sent_topics_outdf_grpd = df_notices2topic.groupby('Topic_dominant')\n",
    "\n",
    "for i, grp in sent_topics_outdf_grpd:\n",
    "    sent_topics_sorted = pd.concat([sent_topics_sorted, \n",
    "                                             grp.sort_values(['Contribucio_per'], ascending=[0]).head(1)], \n",
    "                                            axis=0)\n",
    "\n",
    "# Reset Index    \n",
    "sent_topics_sorted.reset_index(drop=True, inplace=True)\n",
    "\n",
    "# Canviem el nom de la columna\n",
    "sent_topics_sorted.columns = df_notices2topic.columns\n",
    "\n",
    "# Mostrem\n",
    "sent_topics_sorted"
   ]
  },
  {
   "cell_type": "markdown",
   "metadata": {},
   "source": [
    "### 5.2.4 Distribució de notícies per tòpics <a class=\"anchor\" id=\"distribucio\"></a>\n",
    "\n",
    "Observem quina és la distribució de les notícies pels tòpics."
   ]
  },
  {
   "cell_type": "code",
   "execution_count": 65,
   "metadata": {},
   "outputs": [
    {
     "data": {
      "text/html": [
       "<div>\n",
       "<style scoped>\n",
       "    .dataframe tbody tr th:only-of-type {\n",
       "        vertical-align: middle;\n",
       "    }\n",
       "\n",
       "    .dataframe tbody tr th {\n",
       "        vertical-align: top;\n",
       "    }\n",
       "\n",
       "    .dataframe thead th {\n",
       "        text-align: right;\n",
       "    }\n",
       "</style>\n",
       "<table border=\"1\" class=\"dataframe\">\n",
       "  <thead>\n",
       "    <tr style=\"text-align: right;\">\n",
       "      <th></th>\n",
       "      <th>Topic_dominant</th>\n",
       "      <th>Paraules_clau</th>\n",
       "      <th>Num_Noticies</th>\n",
       "      <th>Perc_Noticies</th>\n",
       "    </tr>\n",
       "  </thead>\n",
       "  <tbody>\n",
       "    <tr>\n",
       "      <th>0</th>\n",
       "      <td>0</td>\n",
       "      <td>servicio, economía, inversión, recuperación, p...</td>\n",
       "      <td>2433</td>\n",
       "      <td>0.2588</td>\n",
       "    </tr>\n",
       "    <tr>\n",
       "      <th>1</th>\n",
       "      <td>1</td>\n",
       "      <td>madrid, casos, semana, comunidad, medidas, cor...</td>\n",
       "      <td>1415</td>\n",
       "      <td>0.1505</td>\n",
       "    </tr>\n",
       "    <tr>\n",
       "      <th>2</th>\n",
       "      <td>2</td>\n",
       "      <td>vida, casa, equipo, madrid, gente, explica, es...</td>\n",
       "      <td>2283</td>\n",
       "      <td>0.2428</td>\n",
       "    </tr>\n",
       "    <tr>\n",
       "      <th>3</th>\n",
       "      <td>3</td>\n",
       "      <td>plazo, dólares, inversión, puntos, banco, inve...</td>\n",
       "      <td>3271</td>\n",
       "      <td>0.3479</td>\n",
       "    </tr>\n",
       "  </tbody>\n",
       "</table>\n",
       "</div>"
      ],
      "text/plain": [
       "   Topic_dominant                                      Paraules_clau  \\\n",
       "0               0  servicio, economía, inversión, recuperación, p...   \n",
       "1               1  madrid, casos, semana, comunidad, medidas, cor...   \n",
       "2               2  vida, casa, equipo, madrid, gente, explica, es...   \n",
       "3               3  plazo, dólares, inversión, puntos, banco, inve...   \n",
       "\n",
       "   Num_Noticies  Perc_Noticies  \n",
       "0          2433         0.2588  \n",
       "1          1415         0.1505  \n",
       "2          2283         0.2428  \n",
       "3          3271         0.3479  "
      ]
     },
     "execution_count": 65,
     "metadata": {},
     "output_type": "execute_result"
    }
   ],
   "source": [
    "# núm de documentos por cada tema\n",
    "topic_counts = df_notices2topic['Topic_dominant'].value_counts()\n",
    "\n",
    "# porcentaje de documentos por cada tema\n",
    "topic_contribution = round(topic_counts/topic_counts.sum(), 4)\n",
    "\n",
    "# palabras clave de cada tema\n",
    "topic_num_keywords = sent_topics_sorted[['Topic_dominant', 'Paraules_clau']]\n",
    "\n",
    "# Concatenamos por columna\n",
    "df_dominant_topics = pd.concat([topic_num_keywords, topic_counts, topic_contribution], axis=1)\n",
    "\n",
    "# cambiamos nombre de columna\n",
    "df_dominant_topics.columns = ['Topic_dominant', 'Paraules_clau', 'Num_Noticies', 'Perc_Noticies']\n",
    "\n",
    "# Show\n",
    "df_dominant_topics"
   ]
  },
  {
   "cell_type": "markdown",
   "metadata": {},
   "source": [
    "- Recollim les dades que necessitem per a fer el gràfic"
   ]
  },
  {
   "cell_type": "code",
   "execution_count": 66,
   "metadata": {},
   "outputs": [],
   "source": [
    "df=pd.DataFrame({\"year_quarter\": list(data_def[\"year_quarter\"]), \n",
    "                 \"n\":1, \n",
    "                 \n",
    "                 \"Paraules_clau\": list(df_notices2topic[\"Paraules_clau\"]) })"
   ]
  },
  {
   "cell_type": "markdown",
   "metadata": {},
   "source": [
    "- Agrupem per `year_quarter` i `Paraules_clau`"
   ]
  },
  {
   "cell_type": "code",
   "execution_count": 67,
   "metadata": {},
   "outputs": [],
   "source": [
    "df=df.groupby([\"year_quarter\",\"Paraules_clau\"]).sum(\"n\")"
   ]
  },
  {
   "cell_type": "markdown",
   "metadata": {},
   "source": [
    "- Fem els últims ajustos"
   ]
  },
  {
   "cell_type": "code",
   "execution_count": 77,
   "metadata": {},
   "outputs": [],
   "source": [
    "df = df.pivot(index='Paraules_clau',columns='year_quarter',values='n')"
   ]
  },
  {
   "cell_type": "markdown",
   "metadata": {},
   "source": [
    "- Guardem el dataframe"
   ]
  },
  {
   "cell_type": "code",
   "execution_count": 79,
   "metadata": {},
   "outputs": [],
   "source": [
    "df.to_csv(\"data/bar_chart_race_topic.csv\")"
   ]
  },
  {
   "cell_type": "markdown",
   "metadata": {},
   "source": [
    "- Visualitzem el gràfic d'evolució de les noticies per tòpic al llarg del temps"
   ]
  },
  {
   "cell_type": "code",
   "execution_count": 1,
   "metadata": {},
   "outputs": [
    {
     "data": {
      "text/html": [
       "<div class=\"flourish-embed flourish-bar-chart-race\" data-src=\"visualisation/6246223\"><script src=\"https://public.flourish.studio/resources/embed.js\"></script></div>\n"
      ],
      "text/plain": [
       "<IPython.core.display.HTML object>"
      ]
     },
     "metadata": {},
     "output_type": "display_data"
    }
   ],
   "source": [
    "%%html\n",
    "<div class=\"flourish-embed flourish-bar-chart-race\" data-src=\"visualisation/6246223\"><script src=\"https://public.flourish.studio/resources/embed.js\"></script></div>"
   ]
  }
 ],
 "metadata": {
  "colab": {
   "authorship_tag": "ABX9TyOolUP5drfCt9eUYYlyfz8I",
   "collapsed_sections": [],
   "name": "Mini Projecte PLN.ipynb",
   "provenance": [],
   "toc_visible": true
  },
  "kernelspec": {
   "display_name": "Python 3",
   "language": "python",
   "name": "python3"
  },
  "language_info": {
   "codemirror_mode": {
    "name": "ipython",
    "version": 3
   },
   "file_extension": ".py",
   "mimetype": "text/x-python",
   "name": "python",
   "nbconvert_exporter": "python",
   "pygments_lexer": "ipython3",
   "version": "3.8.8"
  }
 },
 "nbformat": 4,
 "nbformat_minor": 4
}
